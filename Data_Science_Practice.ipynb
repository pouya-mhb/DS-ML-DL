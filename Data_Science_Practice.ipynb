{
  "nbformat": 4,
  "nbformat_minor": 0,
  "metadata": {
    "colab": {
      "provenance": [],
      "authorship_tag": "ABX9TyPlFNbyG7VMx9UGOQQ2xIwV",
      "include_colab_link": true
    },
    "kernelspec": {
      "name": "python3",
      "display_name": "Python 3"
    },
    "language_info": {
      "name": "python"
    }
  },
  "cells": [
    {
      "cell_type": "markdown",
      "metadata": {
        "id": "view-in-github",
        "colab_type": "text"
      },
      "source": [
        "<a href=\"https://colab.research.google.com/github/pouya-mhb/DS-ML-DL-Practices/blob/main/Data_Science_Practice.ipynb\" target=\"_parent\"><img src=\"https://colab.research.google.com/assets/colab-badge.svg\" alt=\"Open In Colab\"/></a>"
      ]
    },
    {
      "cell_type": "code",
      "execution_count": 2,
      "metadata": {
        "id": "vtM9XvkG_T8z"
      },
      "outputs": [],
      "source": [
        "import numpy as np\n",
        "import pandas as pd\n",
        "import matplotlib.pyplot as plt\n",
        "import seaborn as sns\n",
        "import warnings\n",
        "warnings.filterwarnings(\"ignore\")"
      ]
    },
    {
      "cell_type": "markdown",
      "source": [
        "# Numpy Arrays"
      ],
      "metadata": {
        "id": "yfpWnmCXAqwA"
      }
    },
    {
      "cell_type": "code",
      "source": [
        "num_list = [1,2,3,4,5]"
      ],
      "metadata": {
        "id": "RzTdxkJ5AsHl"
      },
      "execution_count": 3,
      "outputs": []
    },
    {
      "cell_type": "code",
      "source": [
        "np_arr = np.array(num_list)"
      ],
      "metadata": {
        "id": "l8mRmRxNAvxc"
      },
      "execution_count": 4,
      "outputs": []
    },
    {
      "cell_type": "code",
      "source": [
        "np_arr"
      ],
      "metadata": {
        "colab": {
          "base_uri": "https://localhost:8080/"
        },
        "id": "TaPreeCxAzlm",
        "outputId": "35430704-dd86-4c3d-eaeb-1e08830721e5"
      },
      "execution_count": 5,
      "outputs": [
        {
          "output_type": "execute_result",
          "data": {
            "text/plain": [
              "array([1, 2, 3, 4, 5])"
            ]
          },
          "metadata": {},
          "execution_count": 5
        }
      ]
    },
    {
      "cell_type": "code",
      "source": [
        "num_list_2 = [[1, 2, 3], [4, 5, 6], [7, 8, 9]]"
      ],
      "metadata": {
        "id": "eShiQ7bsA0os"
      },
      "execution_count": 6,
      "outputs": []
    },
    {
      "cell_type": "code",
      "source": [
        "np_arr_2 = np.array(num_list_2)"
      ],
      "metadata": {
        "id": "i1UZAOx2BFIG"
      },
      "execution_count": 7,
      "outputs": []
    },
    {
      "cell_type": "code",
      "source": [
        "np_arr_2"
      ],
      "metadata": {
        "colab": {
          "base_uri": "https://localhost:8080/"
        },
        "id": "7HsHb1NHBGzx",
        "outputId": "028959c4-979e-4f30-f802-2369f9b38bd8"
      },
      "execution_count": 8,
      "outputs": [
        {
          "output_type": "execute_result",
          "data": {
            "text/plain": [
              "array([[1, 2, 3],\n",
              "       [4, 5, 6],\n",
              "       [7, 8, 9]])"
            ]
          },
          "metadata": {},
          "execution_count": 8
        }
      ]
    },
    {
      "cell_type": "code",
      "source": [
        "np.arange(0,10)"
      ],
      "metadata": {
        "colab": {
          "base_uri": "https://localhost:8080/"
        },
        "id": "r5QlK2tFBIll",
        "outputId": "4049f81f-1e26-4513-b04a-90ace62f8326"
      },
      "execution_count": 9,
      "outputs": [
        {
          "output_type": "execute_result",
          "data": {
            "text/plain": [
              "array([0, 1, 2, 3, 4, 5, 6, 7, 8, 9])"
            ]
          },
          "metadata": {},
          "execution_count": 9
        }
      ]
    },
    {
      "cell_type": "code",
      "source": [
        "np.arange(0,10,2)"
      ],
      "metadata": {
        "colab": {
          "base_uri": "https://localhost:8080/"
        },
        "id": "aCcRV0OtBNLI",
        "outputId": "107cad5c-3484-4e47-a35a-d0620c89dacd"
      },
      "execution_count": 10,
      "outputs": [
        {
          "output_type": "execute_result",
          "data": {
            "text/plain": [
              "array([0, 2, 4, 6, 8])"
            ]
          },
          "metadata": {},
          "execution_count": 10
        }
      ]
    },
    {
      "cell_type": "code",
      "source": [
        "np.arange(0,10,3)"
      ],
      "metadata": {
        "colab": {
          "base_uri": "https://localhost:8080/"
        },
        "id": "74yvrY9jBeVJ",
        "outputId": "3c41e965-884c-4065-d621-dc5a3e7fca65"
      },
      "execution_count": 11,
      "outputs": [
        {
          "output_type": "execute_result",
          "data": {
            "text/plain": [
              "array([0, 3, 6, 9])"
            ]
          },
          "metadata": {},
          "execution_count": 11
        }
      ]
    },
    {
      "cell_type": "code",
      "source": [
        "np.linspace(0,10,100)"
      ],
      "metadata": {
        "colab": {
          "base_uri": "https://localhost:8080/"
        },
        "id": "aQaZc38fuvAn",
        "outputId": "08fe7c01-4ffc-4398-900e-fe01d1cf0e7b"
      },
      "execution_count": 12,
      "outputs": [
        {
          "output_type": "execute_result",
          "data": {
            "text/plain": [
              "array([ 0.        ,  0.1010101 ,  0.2020202 ,  0.3030303 ,  0.4040404 ,\n",
              "        0.50505051,  0.60606061,  0.70707071,  0.80808081,  0.90909091,\n",
              "        1.01010101,  1.11111111,  1.21212121,  1.31313131,  1.41414141,\n",
              "        1.51515152,  1.61616162,  1.71717172,  1.81818182,  1.91919192,\n",
              "        2.02020202,  2.12121212,  2.22222222,  2.32323232,  2.42424242,\n",
              "        2.52525253,  2.62626263,  2.72727273,  2.82828283,  2.92929293,\n",
              "        3.03030303,  3.13131313,  3.23232323,  3.33333333,  3.43434343,\n",
              "        3.53535354,  3.63636364,  3.73737374,  3.83838384,  3.93939394,\n",
              "        4.04040404,  4.14141414,  4.24242424,  4.34343434,  4.44444444,\n",
              "        4.54545455,  4.64646465,  4.74747475,  4.84848485,  4.94949495,\n",
              "        5.05050505,  5.15151515,  5.25252525,  5.35353535,  5.45454545,\n",
              "        5.55555556,  5.65656566,  5.75757576,  5.85858586,  5.95959596,\n",
              "        6.06060606,  6.16161616,  6.26262626,  6.36363636,  6.46464646,\n",
              "        6.56565657,  6.66666667,  6.76767677,  6.86868687,  6.96969697,\n",
              "        7.07070707,  7.17171717,  7.27272727,  7.37373737,  7.47474747,\n",
              "        7.57575758,  7.67676768,  7.77777778,  7.87878788,  7.97979798,\n",
              "        8.08080808,  8.18181818,  8.28282828,  8.38383838,  8.48484848,\n",
              "        8.58585859,  8.68686869,  8.78787879,  8.88888889,  8.98989899,\n",
              "        9.09090909,  9.19191919,  9.29292929,  9.39393939,  9.49494949,\n",
              "        9.5959596 ,  9.6969697 ,  9.7979798 ,  9.8989899 , 10.        ])"
            ]
          },
          "metadata": {},
          "execution_count": 12
        }
      ]
    },
    {
      "cell_type": "code",
      "source": [
        "np.eye(5)"
      ],
      "metadata": {
        "colab": {
          "base_uri": "https://localhost:8080/"
        },
        "id": "vzvJEw6IuxIo",
        "outputId": "60d20f72-60db-4b28-a9be-946ba9cafdba"
      },
      "execution_count": 13,
      "outputs": [
        {
          "output_type": "execute_result",
          "data": {
            "text/plain": [
              "array([[1., 0., 0., 0., 0.],\n",
              "       [0., 1., 0., 0., 0.],\n",
              "       [0., 0., 1., 0., 0.],\n",
              "       [0., 0., 0., 1., 0.],\n",
              "       [0., 0., 0., 0., 1.]])"
            ]
          },
          "metadata": {},
          "execution_count": 13
        }
      ]
    },
    {
      "cell_type": "code",
      "source": [
        "np.random.rand(5)"
      ],
      "metadata": {
        "colab": {
          "base_uri": "https://localhost:8080/"
        },
        "id": "78J9HwMUu49x",
        "outputId": "8b2548fa-136a-433d-8502-e593246a4239"
      },
      "execution_count": 14,
      "outputs": [
        {
          "output_type": "execute_result",
          "data": {
            "text/plain": [
              "array([0.21353056, 0.48589378, 0.17860649, 0.70727655, 0.32754953])"
            ]
          },
          "metadata": {},
          "execution_count": 14
        }
      ]
    },
    {
      "cell_type": "code",
      "source": [
        "np.random.randn(100)"
      ],
      "metadata": {
        "colab": {
          "base_uri": "https://localhost:8080/"
        },
        "id": "tPoZlM_wvAd2",
        "outputId": "323ebdf4-90ba-4f2e-e37b-4837e681a8db"
      },
      "execution_count": 15,
      "outputs": [
        {
          "output_type": "execute_result",
          "data": {
            "text/plain": [
              "array([ 1.24318081,  0.78291064,  1.77842247, -1.03267766, -1.36750396,\n",
              "       -0.07983147, -0.24646811,  1.70877009, -0.75302221, -0.12656698,\n",
              "       -0.45505611,  0.64728904,  0.30215537, -0.3315781 ,  0.98044133,\n",
              "       -0.40168823,  1.20321535,  0.29112308, -1.57262491, -0.56137438,\n",
              "       -0.06589106, -1.07254167,  1.01155753,  0.09902985, -0.44344681,\n",
              "        0.60554778, -1.24428049, -0.71336783, -0.46525956, -0.35058162,\n",
              "       -0.33205484, -1.53683664,  1.92856854, -0.54969293,  0.62982915,\n",
              "       -0.04738426,  0.72435664,  0.52618171,  0.81090068, -0.35638556,\n",
              "        0.29160881,  0.34924894, -1.04716304,  0.20006059, -1.66410836,\n",
              "       -2.0869076 ,  1.1015375 , -0.21232827, -0.2844886 , -0.16458672,\n",
              "        1.30571705, -1.16182302,  0.13328236,  0.45112215, -0.05718324,\n",
              "        2.37440077,  1.11755757,  2.78124217, -1.25348522,  0.09361552,\n",
              "       -0.58745   ,  0.01344646,  1.02230458,  0.2429544 ,  0.85806796,\n",
              "        1.17104562, -0.67027305,  0.36581893,  0.35838762,  0.08058518,\n",
              "       -1.28057949, -0.33431801, -0.35958593, -1.62824702,  0.61208975,\n",
              "       -0.17177786, -0.02932495, -1.10225654, -0.50682617, -0.12596647,\n",
              "        0.41568971, -0.90389156, -0.92259167,  0.88808057,  2.3445768 ,\n",
              "       -0.14520214,  0.73970121,  0.90021922,  0.04405628,  0.39462562,\n",
              "       -1.65378299, -0.33202506, -0.11499022, -1.15124218,  0.88691723,\n",
              "        0.71399918,  1.27384505,  0.24709176, -0.47432854,  1.16636538])"
            ]
          },
          "metadata": {},
          "execution_count": 15
        }
      ]
    },
    {
      "cell_type": "code",
      "source": [
        "arr = np.random.randint(1,100,10).reshape(2,5)\n",
        "arr"
      ],
      "metadata": {
        "colab": {
          "base_uri": "https://localhost:8080/"
        },
        "id": "BxxoAQ_6u_EJ",
        "outputId": "7918c922-d53c-4ada-b55b-654b81a68303"
      },
      "execution_count": 16,
      "outputs": [
        {
          "output_type": "execute_result",
          "data": {
            "text/plain": [
              "array([[65, 66, 87, 22, 46],\n",
              "       [71, 22, 41, 53, 45]])"
            ]
          },
          "metadata": {},
          "execution_count": 16
        }
      ]
    },
    {
      "cell_type": "code",
      "source": [
        "arr.max()"
      ],
      "metadata": {
        "colab": {
          "base_uri": "https://localhost:8080/"
        },
        "id": "LOBpHh0CvWfe",
        "outputId": "f29067b5-f599-4e75-f1cd-e422f640e408"
      },
      "execution_count": 17,
      "outputs": [
        {
          "output_type": "execute_result",
          "data": {
            "text/plain": [
              "87"
            ]
          },
          "metadata": {},
          "execution_count": 17
        }
      ]
    },
    {
      "cell_type": "code",
      "source": [
        "arr.argmax()"
      ],
      "metadata": {
        "colab": {
          "base_uri": "https://localhost:8080/"
        },
        "id": "qrirZzTlvYNz",
        "outputId": "f0f47c4b-0158-4a41-bcff-d9e795bb5d66"
      },
      "execution_count": 18,
      "outputs": [
        {
          "output_type": "execute_result",
          "data": {
            "text/plain": [
              "2"
            ]
          },
          "metadata": {},
          "execution_count": 18
        }
      ]
    },
    {
      "cell_type": "code",
      "source": [
        "arr.min()"
      ],
      "metadata": {
        "colab": {
          "base_uri": "https://localhost:8080/"
        },
        "id": "omYhw3f_vXTf",
        "outputId": "366492ee-c7e6-4b2d-e026-0fec8093c3cc"
      },
      "execution_count": 19,
      "outputs": [
        {
          "output_type": "execute_result",
          "data": {
            "text/plain": [
              "22"
            ]
          },
          "metadata": {},
          "execution_count": 19
        }
      ]
    },
    {
      "cell_type": "code",
      "source": [
        "arr.argmin()"
      ],
      "metadata": {
        "colab": {
          "base_uri": "https://localhost:8080/"
        },
        "id": "3HCrUXCKvZ_h",
        "outputId": "62d39589-40b3-4d76-d23d-e23b9d52cd82"
      },
      "execution_count": 20,
      "outputs": [
        {
          "output_type": "execute_result",
          "data": {
            "text/plain": [
              "3"
            ]
          },
          "metadata": {},
          "execution_count": 20
        }
      ]
    },
    {
      "cell_type": "code",
      "source": [
        "arr.shape"
      ],
      "metadata": {
        "colab": {
          "base_uri": "https://localhost:8080/"
        },
        "id": "dBpe3-8ivb4i",
        "outputId": "0e85b6af-8bc4-43f7-ddaa-cff394549461"
      },
      "execution_count": 21,
      "outputs": [
        {
          "output_type": "execute_result",
          "data": {
            "text/plain": [
              "(2, 5)"
            ]
          },
          "metadata": {},
          "execution_count": 21
        }
      ]
    },
    {
      "cell_type": "code",
      "source": [
        "arr.dtype"
      ],
      "metadata": {
        "colab": {
          "base_uri": "https://localhost:8080/"
        },
        "id": "vYp7N7cXvk2K",
        "outputId": "e4453378-b3ec-40fa-de21-9d53d87ac409"
      },
      "execution_count": 22,
      "outputs": [
        {
          "output_type": "execute_result",
          "data": {
            "text/plain": [
              "dtype('int64')"
            ]
          },
          "metadata": {},
          "execution_count": 22
        }
      ]
    },
    {
      "cell_type": "code",
      "source": [
        "# prompt: arr turn to int32\n",
        "\n",
        "import numpy as np\n",
        "arr = arr.astype(np.int32)\n",
        "arr.dtype\n"
      ],
      "metadata": {
        "colab": {
          "base_uri": "https://localhost:8080/"
        },
        "id": "L_ctLPiuvrNp",
        "outputId": "94024137-5aa9-417a-cd1b-7583a166e5ed"
      },
      "execution_count": 23,
      "outputs": [
        {
          "output_type": "execute_result",
          "data": {
            "text/plain": [
              "dtype('int32')"
            ]
          },
          "metadata": {},
          "execution_count": 23
        }
      ]
    },
    {
      "cell_type": "markdown",
      "source": [
        "# Numpy Practices"
      ],
      "metadata": {
        "id": "mcnnyYa-nuvI"
      }
    },
    {
      "cell_type": "code",
      "source": [
        "zeros = np.zeros(3)\n",
        "zeros"
      ],
      "metadata": {
        "id": "4SLAP87g-jtR",
        "colab": {
          "base_uri": "https://localhost:8080/"
        },
        "outputId": "bdac4ba3-ed63-4a65-e959-818ec7726d90"
      },
      "execution_count": 24,
      "outputs": [
        {
          "output_type": "execute_result",
          "data": {
            "text/plain": [
              "array([0., 0., 0.])"
            ]
          },
          "metadata": {},
          "execution_count": 24
        }
      ]
    },
    {
      "cell_type": "code",
      "source": [
        "zeros + 5"
      ],
      "metadata": {
        "colab": {
          "base_uri": "https://localhost:8080/"
        },
        "id": "20blfmPHmF5O",
        "outputId": "821619c6-bfe9-46ca-fc71-2f2153fbe863"
      },
      "execution_count": 25,
      "outputs": [
        {
          "output_type": "execute_result",
          "data": {
            "text/plain": [
              "array([5., 5., 5.])"
            ]
          },
          "metadata": {},
          "execution_count": 25
        }
      ]
    },
    {
      "cell_type": "code",
      "source": [
        "ones = np.ones(5)\n",
        "ones"
      ],
      "metadata": {
        "colab": {
          "base_uri": "https://localhost:8080/"
        },
        "id": "z3qmsbCNlqoL",
        "outputId": "5a4081b2-dd4b-41ab-8e15-369b17fa502b"
      },
      "execution_count": 26,
      "outputs": [
        {
          "output_type": "execute_result",
          "data": {
            "text/plain": [
              "array([1., 1., 1., 1., 1.])"
            ]
          },
          "metadata": {},
          "execution_count": 26
        }
      ]
    },
    {
      "cell_type": "code",
      "source": [
        "print(ones*5)"
      ],
      "metadata": {
        "colab": {
          "base_uri": "https://localhost:8080/"
        },
        "id": "I4dxkH-Glt9M",
        "outputId": "e4d88779-933e-4182-8dc0-c80079d77d88"
      },
      "execution_count": 27,
      "outputs": [
        {
          "output_type": "stream",
          "name": "stdout",
          "text": [
            "[5. 5. 5. 5. 5.]\n"
          ]
        }
      ]
    },
    {
      "cell_type": "code",
      "source": [
        "np.arange(10,20)"
      ],
      "metadata": {
        "colab": {
          "base_uri": "https://localhost:8080/"
        },
        "id": "2XD3B75Dl1eZ",
        "outputId": "1460abef-73d0-4dc5-c8b1-20e5d281bb49"
      },
      "execution_count": 28,
      "outputs": [
        {
          "output_type": "execute_result",
          "data": {
            "text/plain": [
              "array([10, 11, 12, 13, 14, 15, 16, 17, 18, 19])"
            ]
          },
          "metadata": {},
          "execution_count": 28
        }
      ]
    },
    {
      "cell_type": "code",
      "source": [
        "nums = np.arange(9)\n",
        "nums"
      ],
      "metadata": {
        "colab": {
          "base_uri": "https://localhost:8080/"
        },
        "id": "WgmOB6ZnmDWO",
        "outputId": "065ed616-26bb-42e1-a7cb-a0aaf6d76ee1"
      },
      "execution_count": 29,
      "outputs": [
        {
          "output_type": "execute_result",
          "data": {
            "text/plain": [
              "array([0, 1, 2, 3, 4, 5, 6, 7, 8])"
            ]
          },
          "metadata": {},
          "execution_count": 29
        }
      ]
    },
    {
      "cell_type": "code",
      "source": [
        "nums.reshape (3,3)"
      ],
      "metadata": {
        "colab": {
          "base_uri": "https://localhost:8080/"
        },
        "id": "6yYSVt-BmTQA",
        "outputId": "36dd3ae8-fc35-48d9-f5af-3ebc947999ca"
      },
      "execution_count": 30,
      "outputs": [
        {
          "output_type": "execute_result",
          "data": {
            "text/plain": [
              "array([[0, 1, 2],\n",
              "       [3, 4, 5],\n",
              "       [6, 7, 8]])"
            ]
          },
          "metadata": {},
          "execution_count": 30
        }
      ]
    },
    {
      "cell_type": "code",
      "source": [
        "np.random.rand"
      ],
      "metadata": {
        "colab": {
          "base_uri": "https://localhost:8080/"
        },
        "id": "CvXdZmQQmViS",
        "outputId": "36b4482f-b4d0-48c3-fa60-f0e2cac2a893"
      },
      "execution_count": 31,
      "outputs": [
        {
          "output_type": "execute_result",
          "data": {
            "text/plain": [
              "<function RandomState.rand>"
            ]
          },
          "metadata": {},
          "execution_count": 31
        }
      ]
    },
    {
      "cell_type": "code",
      "source": [
        "np.random.rand(5)"
      ],
      "metadata": {
        "colab": {
          "base_uri": "https://localhost:8080/"
        },
        "id": "pS9oFWp1mt1F",
        "outputId": "e8cdb709-93fd-4a23-c541-c3325cef7266"
      },
      "execution_count": 32,
      "outputs": [
        {
          "output_type": "execute_result",
          "data": {
            "text/plain": [
              "array([0.39308346, 0.37371104, 0.45782497, 0.55045829, 0.5885938 ])"
            ]
          },
          "metadata": {},
          "execution_count": 32
        }
      ]
    },
    {
      "cell_type": "code",
      "source": [
        "np.random.randint(9)"
      ],
      "metadata": {
        "colab": {
          "base_uri": "https://localhost:8080/"
        },
        "id": "3qRbvRK8nLnb",
        "outputId": "8d49979b-d375-4209-c123-303b73bfb113"
      },
      "execution_count": 33,
      "outputs": [
        {
          "output_type": "execute_result",
          "data": {
            "text/plain": [
              "7"
            ]
          },
          "metadata": {},
          "execution_count": 33
        }
      ]
    },
    {
      "cell_type": "code",
      "source": [
        "np.random.randint(9,size=9)"
      ],
      "metadata": {
        "colab": {
          "base_uri": "https://localhost:8080/"
        },
        "id": "8UC6CqGHnM57",
        "outputId": "58a091c2-ef0d-460c-ed60-2310e1b6d12f"
      },
      "execution_count": 34,
      "outputs": [
        {
          "output_type": "execute_result",
          "data": {
            "text/plain": [
              "array([7, 8, 5, 6, 4, 6, 5, 8, 3])"
            ]
          },
          "metadata": {},
          "execution_count": 34
        }
      ]
    },
    {
      "cell_type": "code",
      "source": [
        "np.random.randint(5,size=9).reshape(3,3)"
      ],
      "metadata": {
        "colab": {
          "base_uri": "https://localhost:8080/"
        },
        "id": "-nbHCWR8nTWM",
        "outputId": "c4c4b69f-3cc0-4803-db80-8f20c377b33e"
      },
      "execution_count": 35,
      "outputs": [
        {
          "output_type": "execute_result",
          "data": {
            "text/plain": [
              "array([[4, 1, 1],\n",
              "       [4, 1, 3],\n",
              "       [3, 1, 1]])"
            ]
          },
          "metadata": {},
          "execution_count": 35
        }
      ]
    },
    {
      "cell_type": "code",
      "source": [
        "np.random.exponential(scale=1)"
      ],
      "metadata": {
        "colab": {
          "base_uri": "https://localhost:8080/"
        },
        "id": "WJy4uNdumwR-",
        "outputId": "894b4aa8-fe1e-44c2-aa44-cd11675b93b9"
      },
      "execution_count": 36,
      "outputs": [
        {
          "output_type": "execute_result",
          "data": {
            "text/plain": [
              "0.3058495102144372"
            ]
          },
          "metadata": {},
          "execution_count": 36
        }
      ]
    },
    {
      "cell_type": "code",
      "source": [
        "np.random.exponential(size=5)"
      ],
      "metadata": {
        "colab": {
          "base_uri": "https://localhost:8080/"
        },
        "id": "fKc3Sx5Om-ps",
        "outputId": "cf2c9c89-026e-48ab-fee9-7f6ff2ea6b50"
      },
      "execution_count": 37,
      "outputs": [
        {
          "output_type": "execute_result",
          "data": {
            "text/plain": [
              "array([0.14564835, 1.8741987 , 2.32293499, 2.24343057, 0.01679797])"
            ]
          },
          "metadata": {},
          "execution_count": 37
        }
      ]
    },
    {
      "cell_type": "code",
      "source": [
        "np.random.exponential(scale=1,size=5)"
      ],
      "metadata": {
        "colab": {
          "base_uri": "https://localhost:8080/"
        },
        "id": "MGoO3WjQnBNB",
        "outputId": "d62ff368-2b8d-4962-f4d4-7da61a7c9ed3"
      },
      "execution_count": 38,
      "outputs": [
        {
          "output_type": "execute_result",
          "data": {
            "text/plain": [
              "array([0.38211244, 2.02681812, 1.8862011 , 2.17889083, 0.75483205])"
            ]
          },
          "metadata": {},
          "execution_count": 38
        }
      ]
    },
    {
      "cell_type": "code",
      "source": [
        "np.random.randn(25) # 25 rand numbers from a standard normal distribution"
      ],
      "metadata": {
        "colab": {
          "base_uri": "https://localhost:8080/"
        },
        "id": "KwVBbyOGnDsU",
        "outputId": "53761460-7e2f-46a2-839c-efbe6bdd92c8"
      },
      "execution_count": 39,
      "outputs": [
        {
          "output_type": "execute_result",
          "data": {
            "text/plain": [
              "array([ 0.95745855, -0.83383187,  0.27624919, -0.00368705, -1.4116805 ,\n",
              "       -0.15975166,  0.84292275,  0.47533409, -0.85455346, -0.88033143,\n",
              "       -0.19158628,  0.8915233 , -2.14753964, -1.08672313, -2.68419775,\n",
              "       -2.56127312, -0.73819916, -0.24071515,  0.51278425,  0.41688849,\n",
              "       -0.55040136, -1.34319562, -0.12824879, -2.15762635,  0.58104842])"
            ]
          },
          "metadata": {},
          "execution_count": 39
        }
      ]
    },
    {
      "cell_type": "code",
      "source": [
        "np.random.randn(25).shape"
      ],
      "metadata": {
        "colab": {
          "base_uri": "https://localhost:8080/"
        },
        "id": "HAW8Omqtn5Op",
        "outputId": "1f546ef8-69a8-4190-ce57-208f9eea75f7"
      },
      "execution_count": 40,
      "outputs": [
        {
          "output_type": "execute_result",
          "data": {
            "text/plain": [
              "(25,)"
            ]
          },
          "metadata": {},
          "execution_count": 40
        }
      ]
    },
    {
      "cell_type": "code",
      "source": [
        "# create a  matrix from 0.01 to 1\n",
        "# solution 1"
      ],
      "metadata": {
        "id": "Vr1IdRyWn_S6"
      },
      "execution_count": 41,
      "outputs": []
    },
    {
      "cell_type": "code",
      "source": [
        "np.arange(1,101) / 100 # arange gives you 1 - 100"
      ],
      "metadata": {
        "colab": {
          "base_uri": "https://localhost:8080/"
        },
        "id": "OSTkQ3w93Jcu",
        "outputId": "b836489f-bd5f-4e5d-f9fa-08c211a47bf7"
      },
      "execution_count": 42,
      "outputs": [
        {
          "output_type": "execute_result",
          "data": {
            "text/plain": [
              "array([0.01, 0.02, 0.03, 0.04, 0.05, 0.06, 0.07, 0.08, 0.09, 0.1 , 0.11,\n",
              "       0.12, 0.13, 0.14, 0.15, 0.16, 0.17, 0.18, 0.19, 0.2 , 0.21, 0.22,\n",
              "       0.23, 0.24, 0.25, 0.26, 0.27, 0.28, 0.29, 0.3 , 0.31, 0.32, 0.33,\n",
              "       0.34, 0.35, 0.36, 0.37, 0.38, 0.39, 0.4 , 0.41, 0.42, 0.43, 0.44,\n",
              "       0.45, 0.46, 0.47, 0.48, 0.49, 0.5 , 0.51, 0.52, 0.53, 0.54, 0.55,\n",
              "       0.56, 0.57, 0.58, 0.59, 0.6 , 0.61, 0.62, 0.63, 0.64, 0.65, 0.66,\n",
              "       0.67, 0.68, 0.69, 0.7 , 0.71, 0.72, 0.73, 0.74, 0.75, 0.76, 0.77,\n",
              "       0.78, 0.79, 0.8 , 0.81, 0.82, 0.83, 0.84, 0.85, 0.86, 0.87, 0.88,\n",
              "       0.89, 0.9 , 0.91, 0.92, 0.93, 0.94, 0.95, 0.96, 0.97, 0.98, 0.99,\n",
              "       1.  ])"
            ]
          },
          "metadata": {},
          "execution_count": 42
        }
      ]
    },
    {
      "cell_type": "code",
      "source": [
        "np.linspace(0.01,1,100).reshape(2,2,5,5) # 4 dimention on 5*5"
      ],
      "metadata": {
        "colab": {
          "base_uri": "https://localhost:8080/"
        },
        "id": "s8Ou8g7J3TOh",
        "outputId": "a00c7a89-2f65-4b8f-bbf3-342bb3b640a6"
      },
      "execution_count": 43,
      "outputs": [
        {
          "output_type": "execute_result",
          "data": {
            "text/plain": [
              "array([[[[0.01, 0.02, 0.03, 0.04, 0.05],\n",
              "         [0.06, 0.07, 0.08, 0.09, 0.1 ],\n",
              "         [0.11, 0.12, 0.13, 0.14, 0.15],\n",
              "         [0.16, 0.17, 0.18, 0.19, 0.2 ],\n",
              "         [0.21, 0.22, 0.23, 0.24, 0.25]],\n",
              "\n",
              "        [[0.26, 0.27, 0.28, 0.29, 0.3 ],\n",
              "         [0.31, 0.32, 0.33, 0.34, 0.35],\n",
              "         [0.36, 0.37, 0.38, 0.39, 0.4 ],\n",
              "         [0.41, 0.42, 0.43, 0.44, 0.45],\n",
              "         [0.46, 0.47, 0.48, 0.49, 0.5 ]]],\n",
              "\n",
              "\n",
              "       [[[0.51, 0.52, 0.53, 0.54, 0.55],\n",
              "         [0.56, 0.57, 0.58, 0.59, 0.6 ],\n",
              "         [0.61, 0.62, 0.63, 0.64, 0.65],\n",
              "         [0.66, 0.67, 0.68, 0.69, 0.7 ],\n",
              "         [0.71, 0.72, 0.73, 0.74, 0.75]],\n",
              "\n",
              "        [[0.76, 0.77, 0.78, 0.79, 0.8 ],\n",
              "         [0.81, 0.82, 0.83, 0.84, 0.85],\n",
              "         [0.86, 0.87, 0.88, 0.89, 0.9 ],\n",
              "         [0.91, 0.92, 0.93, 0.94, 0.95],\n",
              "         [0.96, 0.97, 0.98, 0.99, 1.  ]]]])"
            ]
          },
          "metadata": {},
          "execution_count": 43
        }
      ]
    },
    {
      "cell_type": "code",
      "source": [
        "np.linspace(0,1,20) # 20 linearly spaced points 0-1"
      ],
      "metadata": {
        "colab": {
          "base_uri": "https://localhost:8080/"
        },
        "id": "pKBJ2Z8w4DMU",
        "outputId": "d49c9182-b3b3-422a-e15c-4b88990a6c89"
      },
      "execution_count": 44,
      "outputs": [
        {
          "output_type": "execute_result",
          "data": {
            "text/plain": [
              "array([0.        , 0.05263158, 0.10526316, 0.15789474, 0.21052632,\n",
              "       0.26315789, 0.31578947, 0.36842105, 0.42105263, 0.47368421,\n",
              "       0.52631579, 0.57894737, 0.63157895, 0.68421053, 0.73684211,\n",
              "       0.78947368, 0.84210526, 0.89473684, 0.94736842, 1.        ])"
            ]
          },
          "metadata": {},
          "execution_count": 44
        }
      ]
    },
    {
      "cell_type": "markdown",
      "source": [
        "## numpy indexing and selection"
      ],
      "metadata": {
        "id": "93H6AcFe4e09"
      }
    },
    {
      "cell_type": "code",
      "source": [
        "mat = np.arange(1,26).reshape(5,5)\n",
        "mat"
      ],
      "metadata": {
        "colab": {
          "base_uri": "https://localhost:8080/"
        },
        "id": "syKSXnDy4hDD",
        "outputId": "8f5f0569-a549-4701-f415-af4a1f2b33b9"
      },
      "execution_count": 45,
      "outputs": [
        {
          "output_type": "execute_result",
          "data": {
            "text/plain": [
              "array([[ 1,  2,  3,  4,  5],\n",
              "       [ 6,  7,  8,  9, 10],\n",
              "       [11, 12, 13, 14, 15],\n",
              "       [16, 17, 18, 19, 20],\n",
              "       [21, 22, 23, 24, 25]])"
            ]
          },
          "metadata": {},
          "execution_count": 45
        }
      ]
    },
    {
      "cell_type": "code",
      "source": [
        "mat[2:] # row 2 - end"
      ],
      "metadata": {
        "colab": {
          "base_uri": "https://localhost:8080/"
        },
        "id": "AhbBD1ib4p3-",
        "outputId": "b6613805-9f8f-4ed6-86ae-b5b74e902096"
      },
      "execution_count": 46,
      "outputs": [
        {
          "output_type": "execute_result",
          "data": {
            "text/plain": [
              "array([[11, 12, 13, 14, 15],\n",
              "       [16, 17, 18, 19, 20],\n",
              "       [21, 22, 23, 24, 25]])"
            ]
          },
          "metadata": {},
          "execution_count": 46
        }
      ]
    },
    {
      "cell_type": "code",
      "source": [
        "mat[2:,:1] # row 2 , col 0"
      ],
      "metadata": {
        "colab": {
          "base_uri": "https://localhost:8080/"
        },
        "id": "ocx2WDP14wva",
        "outputId": "fcd13173-d7d9-4600-ebc0-58d79bd93e6e"
      },
      "execution_count": 47,
      "outputs": [
        {
          "output_type": "execute_result",
          "data": {
            "text/plain": [
              "array([[11],\n",
              "       [16],\n",
              "       [21]])"
            ]
          },
          "metadata": {},
          "execution_count": 47
        }
      ]
    },
    {
      "cell_type": "code",
      "source": [
        "mat[2:,:2] # row 2 - col 0 and 1"
      ],
      "metadata": {
        "colab": {
          "base_uri": "https://localhost:8080/"
        },
        "id": "poIJjkpd4zu7",
        "outputId": "b50988d2-02ba-48b7-e1e0-8df132271807"
      },
      "execution_count": 48,
      "outputs": [
        {
          "output_type": "execute_result",
          "data": {
            "text/plain": [
              "array([[11, 12],\n",
              "       [16, 17],\n",
              "       [21, 22]])"
            ]
          },
          "metadata": {},
          "execution_count": 48
        }
      ]
    },
    {
      "cell_type": "code",
      "source": [
        "mat[2:,1:2]"
      ],
      "metadata": {
        "colab": {
          "base_uri": "https://localhost:8080/"
        },
        "id": "pPV9-1ax-TcD",
        "outputId": "6f356426-f0d8-4085-d633-b9281c197265"
      },
      "execution_count": 49,
      "outputs": [
        {
          "output_type": "execute_result",
          "data": {
            "text/plain": [
              "array([[12],\n",
              "       [17],\n",
              "       [22]])"
            ]
          },
          "metadata": {},
          "execution_count": 49
        }
      ]
    },
    {
      "cell_type": "code",
      "source": [
        "mat[2:,1:2].shape"
      ],
      "metadata": {
        "colab": {
          "base_uri": "https://localhost:8080/"
        },
        "id": "gYHXuTVU-kFn",
        "outputId": "f0306998-e522-46f3-c9ed-b654a13c02de"
      },
      "execution_count": 50,
      "outputs": [
        {
          "output_type": "execute_result",
          "data": {
            "text/plain": [
              "(3, 1)"
            ]
          },
          "metadata": {},
          "execution_count": 50
        }
      ]
    },
    {
      "cell_type": "code",
      "source": [
        "mat[2:,1:]"
      ],
      "metadata": {
        "colab": {
          "base_uri": "https://localhost:8080/"
        },
        "id": "enNnPQSJ4dr9",
        "outputId": "c6c56127-862e-446b-ac20-e7c8ac4bbe2a"
      },
      "execution_count": 51,
      "outputs": [
        {
          "output_type": "execute_result",
          "data": {
            "text/plain": [
              "array([[12, 13, 14, 15],\n",
              "       [17, 18, 19, 20],\n",
              "       [22, 23, 24, 25]])"
            ]
          },
          "metadata": {},
          "execution_count": 51
        }
      ]
    },
    {
      "cell_type": "code",
      "source": [
        "mat[2:,1]"
      ],
      "metadata": {
        "colab": {
          "base_uri": "https://localhost:8080/"
        },
        "id": "7tWQPaiz-sDL",
        "outputId": "c341763d-fdee-468d-bfb4-5d9a853a3511"
      },
      "execution_count": 52,
      "outputs": [
        {
          "output_type": "execute_result",
          "data": {
            "text/plain": [
              "array([12, 17, 22])"
            ]
          },
          "metadata": {},
          "execution_count": 52
        }
      ]
    },
    {
      "cell_type": "code",
      "source": [
        "mat[3,4]"
      ],
      "metadata": {
        "colab": {
          "base_uri": "https://localhost:8080/"
        },
        "id": "aembnqQz4Vgo",
        "outputId": "0a92ee59-d650-4aef-cf54-605f97eeecb0"
      },
      "execution_count": 53,
      "outputs": [
        {
          "output_type": "execute_result",
          "data": {
            "text/plain": [
              "20"
            ]
          },
          "metadata": {},
          "execution_count": 53
        }
      ]
    },
    {
      "cell_type": "code",
      "source": [
        "mat.shape"
      ],
      "metadata": {
        "colab": {
          "base_uri": "https://localhost:8080/"
        },
        "id": "G_QV6R1m5rlw",
        "outputId": "4136ed92-60c7-4e32-fb68-2e8f5b383945"
      },
      "execution_count": 54,
      "outputs": [
        {
          "output_type": "execute_result",
          "data": {
            "text/plain": [
              "(5, 5)"
            ]
          },
          "metadata": {},
          "execution_count": 54
        }
      ]
    },
    {
      "source": [
        "# Since mat[1][1] will always be 7, the if condition is redundant.\n",
        "# We can directly print all elements of 'mat' using a nested loop:\n",
        "\n",
        "for i in range(mat.shape[0]):  # Iterate through rows\n",
        "    for j in range(mat.shape[1]):  # Iterate through columns\n",
        "        if mat[i,j] == 20:\n",
        "          print(i,j, mat[i, j])"
      ],
      "cell_type": "code",
      "metadata": {
        "colab": {
          "base_uri": "https://localhost:8080/"
        },
        "id": "XmpCDREX7VJC",
        "outputId": "9a7b3142-a643-403f-fd98-666396aca20d"
      },
      "execution_count": 55,
      "outputs": [
        {
          "output_type": "stream",
          "name": "stdout",
          "text": [
            "3 4 20\n"
          ]
        }
      ]
    },
    {
      "cell_type": "markdown",
      "source": [
        "range(mat.shape[0], mat.shape[1]): This creates a sequence of numbers starting from mat.shape[0] (5) and ending before mat.shape[1] (5). It generates a sequence from 5 to 5 (non-inclusive). Because the start and end is the same, this range is empty meaning it has no values."
      ],
      "metadata": {
        "id": "IGK79gVM-LIf"
      }
    },
    {
      "cell_type": "code",
      "source": [
        "for i,j in range(mat.shape[0], mat.shape[1]):\n",
        "  print (i,j)\n",
        "  # if mat[i,j] == 20 :\n",
        "  #   print(i,j, mat[i,j])"
      ],
      "metadata": {
        "id": "bSUzxpY57vCE"
      },
      "execution_count": 56,
      "outputs": []
    },
    {
      "cell_type": "code",
      "source": [
        "# last row\n",
        "mat[4:,:]"
      ],
      "metadata": {
        "colab": {
          "base_uri": "https://localhost:8080/"
        },
        "id": "_xQ2Riaa9jRX",
        "outputId": "8b6a8f10-eae5-402d-d8ff-4518eebf521e"
      },
      "execution_count": 57,
      "outputs": [
        {
          "output_type": "execute_result",
          "data": {
            "text/plain": [
              "array([[21, 22, 23, 24, 25]])"
            ]
          },
          "metadata": {},
          "execution_count": 57
        }
      ]
    },
    {
      "cell_type": "code",
      "source": [
        "# last row\n",
        "mat[-1:,:]"
      ],
      "metadata": {
        "id": "q2XaJlUp6imE",
        "colab": {
          "base_uri": "https://localhost:8080/"
        },
        "outputId": "0486ff9c-cc02-4885-d644-b3536139aa70"
      },
      "execution_count": 58,
      "outputs": [
        {
          "output_type": "execute_result",
          "data": {
            "text/plain": [
              "array([[21, 22, 23, 24, 25]])"
            ]
          },
          "metadata": {},
          "execution_count": 58
        }
      ]
    },
    {
      "cell_type": "code",
      "source": [
        "new_arr = np.arange(1,10)\n",
        "new_arr"
      ],
      "metadata": {
        "colab": {
          "base_uri": "https://localhost:8080/"
        },
        "id": "lpgVbhj_wVG6",
        "outputId": "a650bca6-7b82-472a-8f0c-f0189dad8c18"
      },
      "execution_count": 59,
      "outputs": [
        {
          "output_type": "execute_result",
          "data": {
            "text/plain": [
              "array([1, 2, 3, 4, 5, 6, 7, 8, 9])"
            ]
          },
          "metadata": {},
          "execution_count": 59
        }
      ]
    },
    {
      "cell_type": "code",
      "source": [
        "slice_of_new_arr = new_arr[:6]\n",
        "slice_of_new_arr"
      ],
      "metadata": {
        "colab": {
          "base_uri": "https://localhost:8080/"
        },
        "id": "XkWC7fcewatF",
        "outputId": "2c1f493e-b055-446d-95f5-2e4f8114db51"
      },
      "execution_count": 60,
      "outputs": [
        {
          "output_type": "execute_result",
          "data": {
            "text/plain": [
              "array([1, 2, 3, 4, 5, 6])"
            ]
          },
          "metadata": {},
          "execution_count": 60
        }
      ]
    },
    {
      "cell_type": "code",
      "source": [
        "slice_of_new_arr[:] = 99\n",
        "slice_of_new_arr"
      ],
      "metadata": {
        "colab": {
          "base_uri": "https://localhost:8080/"
        },
        "id": "ZlT6mpOHwxYU",
        "outputId": "bace6c55-f8bd-4491-c3a9-2e0f129025f4"
      },
      "execution_count": 61,
      "outputs": [
        {
          "output_type": "execute_result",
          "data": {
            "text/plain": [
              "array([99, 99, 99, 99, 99, 99])"
            ]
          },
          "metadata": {},
          "execution_count": 61
        }
      ]
    },
    {
      "cell_type": "code",
      "source": [
        "new_arr"
      ],
      "metadata": {
        "colab": {
          "base_uri": "https://localhost:8080/"
        },
        "id": "rceNVr3KxYed",
        "outputId": "2db01b8b-2b66-41dd-d2e8-9c8e05f9b845"
      },
      "execution_count": 62,
      "outputs": [
        {
          "output_type": "execute_result",
          "data": {
            "text/plain": [
              "array([99, 99, 99, 99, 99, 99,  7,  8,  9])"
            ]
          },
          "metadata": {},
          "execution_count": 62
        }
      ]
    },
    {
      "cell_type": "code",
      "source": [
        "arr_copy = new_arr.copy() # copy the array\n",
        "arr_copy"
      ],
      "metadata": {
        "colab": {
          "base_uri": "https://localhost:8080/"
        },
        "id": "FtID4eUJxd5b",
        "outputId": "c1b23b65-5dec-458a-c304-bf7f16f403ab"
      },
      "execution_count": 63,
      "outputs": [
        {
          "output_type": "execute_result",
          "data": {
            "text/plain": [
              "array([99, 99, 99, 99, 99, 99,  7,  8,  9])"
            ]
          },
          "metadata": {},
          "execution_count": 63
        }
      ]
    },
    {
      "cell_type": "code",
      "source": [
        "arr_copy [:] = 100\n",
        "arr_copy"
      ],
      "metadata": {
        "colab": {
          "base_uri": "https://localhost:8080/"
        },
        "id": "nGkJC1nZxkfr",
        "outputId": "767d1e23-b976-4532-dbf8-b28f05fdef2c"
      },
      "execution_count": 64,
      "outputs": [
        {
          "output_type": "execute_result",
          "data": {
            "text/plain": [
              "array([100, 100, 100, 100, 100, 100, 100, 100, 100])"
            ]
          },
          "metadata": {},
          "execution_count": 64
        }
      ]
    },
    {
      "cell_type": "code",
      "source": [
        "new_arr"
      ],
      "metadata": {
        "colab": {
          "base_uri": "https://localhost:8080/"
        },
        "id": "Ez0R4Nnwxy7l",
        "outputId": "7cc491b2-abff-488f-dd6c-26dfe6bd91a9"
      },
      "execution_count": 65,
      "outputs": [
        {
          "output_type": "execute_result",
          "data": {
            "text/plain": [
              "array([99, 99, 99, 99, 99, 99,  7,  8,  9])"
            ]
          },
          "metadata": {},
          "execution_count": 65
        }
      ]
    },
    {
      "cell_type": "code",
      "source": [
        "# prompt: generate a 2d array\n",
        "\n",
        "import numpy as np\n",
        "# Create a 2D array (matrix) with random integers\n",
        "rows = 5  # Number of rows\n",
        "cols = 3  # Number of columns\n",
        "min_val = 1\n",
        "max_val = 10\n",
        "\n",
        "two_d_array = np.random.randint(min_val, max_val + 1, size=(rows, cols))\n",
        "\n",
        "two_d_array\n"
      ],
      "metadata": {
        "colab": {
          "base_uri": "https://localhost:8080/"
        },
        "id": "yPMf73JrwYaB",
        "outputId": "dee5591c-e5b6-40c1-c42e-dbd5510ad23c"
      },
      "execution_count": 66,
      "outputs": [
        {
          "output_type": "execute_result",
          "data": {
            "text/plain": [
              "array([[ 7, 10,  3],\n",
              "       [ 9,  1,  5],\n",
              "       [ 4,  9,  7],\n",
              "       [ 4,  7, 10],\n",
              "       [ 1,  6,  6]])"
            ]
          },
          "metadata": {},
          "execution_count": 66
        }
      ]
    },
    {
      "cell_type": "code",
      "source": [
        "two_d_array[1][1]"
      ],
      "metadata": {
        "colab": {
          "base_uri": "https://localhost:8080/"
        },
        "id": "0yher_KpyOJl",
        "outputId": "5cc64bfa-fb18-41b6-94f0-bbf119cdcd27"
      },
      "execution_count": 67,
      "outputs": [
        {
          "output_type": "execute_result",
          "data": {
            "text/plain": [
              "1"
            ]
          },
          "metadata": {},
          "execution_count": 67
        }
      ]
    },
    {
      "cell_type": "code",
      "source": [
        "two_d_array[1,1]"
      ],
      "metadata": {
        "colab": {
          "base_uri": "https://localhost:8080/"
        },
        "id": "NMdpkPUdyUcy",
        "outputId": "4bb1a701-9d39-4345-c69c-ccff7aac12e0"
      },
      "execution_count": 68,
      "outputs": [
        {
          "output_type": "execute_result",
          "data": {
            "text/plain": [
              "1"
            ]
          },
          "metadata": {},
          "execution_count": 68
        }
      ]
    },
    {
      "cell_type": "code",
      "source": [
        "two_d_array[2,1] + new_arr[2]"
      ],
      "metadata": {
        "colab": {
          "base_uri": "https://localhost:8080/"
        },
        "id": "UF4IYZWXyWCH",
        "outputId": "cf303cc6-ccda-4f0d-e6fa-f62f940ace27"
      },
      "execution_count": 69,
      "outputs": [
        {
          "output_type": "execute_result",
          "data": {
            "text/plain": [
              "108"
            ]
          },
          "metadata": {},
          "execution_count": 69
        }
      ]
    },
    {
      "cell_type": "code",
      "source": [
        "two_d_array * two_d_array"
      ],
      "metadata": {
        "colab": {
          "base_uri": "https://localhost:8080/"
        },
        "id": "xXgMEgF5ye9o",
        "outputId": "25c73445-ca0c-46e4-fd72-56145494e344"
      },
      "execution_count": 70,
      "outputs": [
        {
          "output_type": "execute_result",
          "data": {
            "text/plain": [
              "array([[ 49, 100,   9],\n",
              "       [ 81,   1,  25],\n",
              "       [ 16,  81,  49],\n",
              "       [ 16,  49, 100],\n",
              "       [  1,  36,  36]])"
            ]
          },
          "metadata": {},
          "execution_count": 70
        }
      ]
    },
    {
      "cell_type": "code",
      "source": [
        "two_d_array / two_d_array"
      ],
      "metadata": {
        "colab": {
          "base_uri": "https://localhost:8080/"
        },
        "id": "SA4-btQ9yjlG",
        "outputId": "ab625724-ac67-45dd-ffff-d2b7501d2950"
      },
      "execution_count": 71,
      "outputs": [
        {
          "output_type": "execute_result",
          "data": {
            "text/plain": [
              "array([[1., 1., 1.],\n",
              "       [1., 1., 1.],\n",
              "       [1., 1., 1.],\n",
              "       [1., 1., 1.],\n",
              "       [1., 1., 1.]])"
            ]
          },
          "metadata": {},
          "execution_count": 71
        }
      ]
    },
    {
      "cell_type": "code",
      "source": [
        "two_d_array ** 1.3534535"
      ],
      "metadata": {
        "colab": {
          "base_uri": "https://localhost:8080/"
        },
        "id": "AAnWVCmRyuR_",
        "outputId": "e6008a65-aec3-4082-bb80-c96b63ba2edb"
      },
      "execution_count": 72,
      "outputs": [
        {
          "output_type": "execute_result",
          "data": {
            "text/plain": [
              "array([[13.92518264, 22.56594369,  4.42345315],\n",
              "       [19.56693779,  1.        ,  8.8312748 ],\n",
              "       [ 6.52920347, 19.56693779, 13.92518264],\n",
              "       [ 6.52920347, 13.92518264, 22.56594369],\n",
              "       [ 1.        , 11.30294289, 11.30294289]])"
            ]
          },
          "metadata": {},
          "execution_count": 72
        }
      ]
    },
    {
      "cell_type": "code",
      "source": [
        "arr = np.arange(1,11)\n",
        "arr"
      ],
      "metadata": {
        "colab": {
          "base_uri": "https://localhost:8080/"
        },
        "id": "J7NRGzeRyy6I",
        "outputId": "b3302392-252d-44e7-cd09-355f276ff93f"
      },
      "execution_count": 73,
      "outputs": [
        {
          "output_type": "execute_result",
          "data": {
            "text/plain": [
              "array([ 1,  2,  3,  4,  5,  6,  7,  8,  9, 10])"
            ]
          },
          "metadata": {},
          "execution_count": 73
        }
      ]
    },
    {
      "cell_type": "code",
      "source": [
        "bool_arr = arr > 4\n",
        "bool_arr"
      ],
      "metadata": {
        "colab": {
          "base_uri": "https://localhost:8080/"
        },
        "id": "PSivaoJOzGsi",
        "outputId": "a38c4aa6-a039-4ad1-b30a-6e8693b2fcde"
      },
      "execution_count": 74,
      "outputs": [
        {
          "output_type": "execute_result",
          "data": {
            "text/plain": [
              "array([False, False, False, False,  True,  True,  True,  True,  True,\n",
              "        True])"
            ]
          },
          "metadata": {},
          "execution_count": 74
        }
      ]
    },
    {
      "cell_type": "code",
      "source": [
        "arr < 9"
      ],
      "metadata": {
        "colab": {
          "base_uri": "https://localhost:8080/"
        },
        "id": "pBM4M3XWzZUQ",
        "outputId": "9758b0cb-0901-4f40-ea8a-6c1fabf1d761"
      },
      "execution_count": 75,
      "outputs": [
        {
          "output_type": "execute_result",
          "data": {
            "text/plain": [
              "array([ True,  True,  True,  True,  True,  True,  True,  True, False,\n",
              "       False])"
            ]
          },
          "metadata": {},
          "execution_count": 75
        }
      ]
    },
    {
      "cell_type": "code",
      "source": [
        "arr > 4 , arr < 9"
      ],
      "metadata": {
        "colab": {
          "base_uri": "https://localhost:8080/"
        },
        "id": "8FN9RG5BzasN",
        "outputId": "a533a118-4e22-466f-f9ab-b7eb3444dcc1"
      },
      "execution_count": 76,
      "outputs": [
        {
          "output_type": "execute_result",
          "data": {
            "text/plain": [
              "(array([False, False, False, False,  True,  True,  True,  True,  True,\n",
              "         True]),\n",
              " array([ True,  True,  True,  True,  True,  True,  True,  True, False,\n",
              "        False]))"
            ]
          },
          "metadata": {},
          "execution_count": 76
        }
      ]
    },
    {
      "cell_type": "code",
      "source": [
        "arr > 4 , # what happens here ??\n",
        "arr < 9"
      ],
      "metadata": {
        "colab": {
          "base_uri": "https://localhost:8080/"
        },
        "id": "FEfFUuWZzIBp",
        "outputId": "e0fbb289-1b8b-4c46-c1ee-c9c24d133259"
      },
      "execution_count": 77,
      "outputs": [
        {
          "output_type": "execute_result",
          "data": {
            "text/plain": [
              "array([ True,  True,  True,  True,  True,  True,  True,  True, False,\n",
              "       False])"
            ]
          },
          "metadata": {},
          "execution_count": 77
        }
      ]
    },
    {
      "cell_type": "code",
      "source": [
        "arr[arr>4]"
      ],
      "metadata": {
        "colab": {
          "base_uri": "https://localhost:8080/"
        },
        "id": "sM6uHuqlzqku",
        "outputId": "e14531b9-115a-42f6-b75b-c22e6a389b3c"
      },
      "execution_count": 78,
      "outputs": [
        {
          "output_type": "execute_result",
          "data": {
            "text/plain": [
              "array([ 5,  6,  7,  8,  9, 10])"
            ]
          },
          "metadata": {},
          "execution_count": 78
        }
      ]
    },
    {
      "cell_type": "markdown",
      "source": [
        "# math"
      ],
      "metadata": {
        "id": "G0XPwDbM_qma"
      }
    },
    {
      "cell_type": "code",
      "source": [
        "mat"
      ],
      "metadata": {
        "colab": {
          "base_uri": "https://localhost:8080/"
        },
        "id": "C_QSX5s8__mW",
        "outputId": "d47f3345-a351-49ca-b6c2-02589bdcbe54"
      },
      "execution_count": 79,
      "outputs": [
        {
          "output_type": "execute_result",
          "data": {
            "text/plain": [
              "array([[ 1,  2,  3,  4,  5],\n",
              "       [ 6,  7,  8,  9, 10],\n",
              "       [11, 12, 13, 14, 15],\n",
              "       [16, 17, 18, 19, 20],\n",
              "       [21, 22, 23, 24, 25]])"
            ]
          },
          "metadata": {},
          "execution_count": 79
        }
      ]
    },
    {
      "cell_type": "code",
      "source": [
        "np.sum(mat)"
      ],
      "metadata": {
        "id": "_L-B4FnW6Eqs",
        "colab": {
          "base_uri": "https://localhost:8080/"
        },
        "outputId": "02da78a0-8e18-4ce6-bf72-d5898a516b4f"
      },
      "execution_count": 80,
      "outputs": [
        {
          "output_type": "execute_result",
          "data": {
            "text/plain": [
              "325"
            ]
          },
          "metadata": {},
          "execution_count": 80
        }
      ]
    },
    {
      "cell_type": "code",
      "source": [
        "mat.sum()"
      ],
      "metadata": {
        "id": "ja3DQk5A3tHt",
        "colab": {
          "base_uri": "https://localhost:8080/"
        },
        "outputId": "b5e7d82d-2f42-45d7-98bb-5fac857a060f"
      },
      "execution_count": 81,
      "outputs": [
        {
          "output_type": "execute_result",
          "data": {
            "text/plain": [
              "325"
            ]
          },
          "metadata": {},
          "execution_count": 81
        }
      ]
    },
    {
      "cell_type": "code",
      "source": [
        "np.std(mat)"
      ],
      "metadata": {
        "id": "lSCPtv1I3pEP",
        "colab": {
          "base_uri": "https://localhost:8080/"
        },
        "outputId": "e3f1f65a-b4d9-4f03-926b-11f3aa8f6971"
      },
      "execution_count": 82,
      "outputs": [
        {
          "output_type": "execute_result",
          "data": {
            "text/plain": [
              "7.211102550927978"
            ]
          },
          "metadata": {},
          "execution_count": 82
        }
      ]
    },
    {
      "cell_type": "code",
      "source": [
        "mat.std()"
      ],
      "metadata": {
        "colab": {
          "base_uri": "https://localhost:8080/"
        },
        "id": "G0bLpErD_yhB",
        "outputId": "b8e4b11c-c311-49f6-b459-03058544d52e"
      },
      "execution_count": 83,
      "outputs": [
        {
          "output_type": "execute_result",
          "data": {
            "text/plain": [
              "7.211102550927978"
            ]
          },
          "metadata": {},
          "execution_count": 83
        }
      ]
    },
    {
      "cell_type": "code",
      "source": [
        "# sum of all cols\n",
        "mat.sum(axis=0)"
      ],
      "metadata": {
        "id": "jVMccCKi3Ovd",
        "colab": {
          "base_uri": "https://localhost:8080/"
        },
        "outputId": "033c5158-7c24-4477-c30f-633cbea42399"
      },
      "execution_count": 84,
      "outputs": [
        {
          "output_type": "execute_result",
          "data": {
            "text/plain": [
              "array([55, 60, 65, 70, 75])"
            ]
          },
          "metadata": {},
          "execution_count": 84
        }
      ]
    },
    {
      "cell_type": "code",
      "source": [
        "# sum of all rows\n",
        "mat.sum(axis=1)"
      ],
      "metadata": {
        "id": "PKUCEddvm4jZ",
        "colab": {
          "base_uri": "https://localhost:8080/"
        },
        "outputId": "8eb8d0c0-1bf7-4d63-e5d6-4a83d699f358"
      },
      "execution_count": 85,
      "outputs": [
        {
          "output_type": "execute_result",
          "data": {
            "text/plain": [
              "array([ 15,  40,  65,  90, 115])"
            ]
          },
          "metadata": {},
          "execution_count": 85
        }
      ]
    },
    {
      "cell_type": "markdown",
      "source": [
        "# Numpy Opreations"
      ],
      "metadata": {
        "id": "6utgtq6_0H5y"
      }
    },
    {
      "cell_type": "code",
      "source": [
        "arr = np.arange(0,11)"
      ],
      "metadata": {
        "id": "qMgpBFzN0Jjc"
      },
      "execution_count": 86,
      "outputs": []
    },
    {
      "cell_type": "code",
      "source": [
        "arr"
      ],
      "metadata": {
        "id": "dWS5ib_I0WlH",
        "colab": {
          "base_uri": "https://localhost:8080/"
        },
        "outputId": "c6610df7-ffa2-457d-c659-b78e2d4352b3"
      },
      "execution_count": 87,
      "outputs": [
        {
          "output_type": "execute_result",
          "data": {
            "text/plain": [
              "array([ 0,  1,  2,  3,  4,  5,  6,  7,  8,  9, 10])"
            ]
          },
          "metadata": {},
          "execution_count": 87
        }
      ]
    },
    {
      "cell_type": "code",
      "source": [
        "arr * 2"
      ],
      "metadata": {
        "colab": {
          "base_uri": "https://localhost:8080/"
        },
        "id": "WqXLfkZX0P89",
        "outputId": "d9c9d0e8-3489-4e76-94ea-533fcc52da30"
      },
      "execution_count": 88,
      "outputs": [
        {
          "output_type": "execute_result",
          "data": {
            "text/plain": [
              "array([ 0,  2,  4,  6,  8, 10, 12, 14, 16, 18, 20])"
            ]
          },
          "metadata": {},
          "execution_count": 88
        }
      ]
    },
    {
      "cell_type": "markdown",
      "source": [
        "# Numpy Practice Distrbutions"
      ],
      "metadata": {
        "id": "ciJ5DKVD7rW6"
      }
    },
    {
      "cell_type": "code",
      "source": [
        "# normal dist\n",
        "\n",
        "x = np.random.normal(loc=0,scale =2, size=(2,3))\n",
        "x"
      ],
      "metadata": {
        "id": "TBSFGFed0Qmp",
        "colab": {
          "base_uri": "https://localhost:8080/"
        },
        "outputId": "b24b5811-10ad-41a5-e4ed-8e32a7242a30"
      },
      "execution_count": 89,
      "outputs": [
        {
          "output_type": "execute_result",
          "data": {
            "text/plain": [
              "array([[-1.30663694,  0.52231253,  0.83220849],\n",
              "       [-1.13531427, -1.10788187, -1.06341667]])"
            ]
          },
          "metadata": {},
          "execution_count": 89
        }
      ]
    },
    {
      "cell_type": "code",
      "source": [
        "sns.distplot(x)\n",
        "plt.show()"
      ],
      "metadata": {
        "colab": {
          "base_uri": "https://localhost:8080/",
          "height": 430
        },
        "id": "9RMYoVbm8w89",
        "outputId": "d774b0a3-4ae7-4199-f021-a23930900fbf"
      },
      "execution_count": 90,
      "outputs": [
        {
          "output_type": "display_data",
          "data": {
            "text/plain": [
              "<Figure size 640x480 with 1 Axes>"
            ],
            "image/png": "[encoded data removed]"
          },
          "metadata": {}
        }
      ]
    },
    {
      "cell_type": "code",
      "source": [
        "sns.distplot(np.random.normal(size=1000))\n",
        "plt.show()"
      ],
      "metadata": {
        "colab": {
          "base_uri": "https://localhost:8080/",
          "height": 430
        },
        "id": "tvuMkcdy8cmo",
        "outputId": "8d6dff4a-00f4-41d1-d32f-0d7a8dea5e97"
      },
      "execution_count": 91,
      "outputs": [
        {
          "output_type": "display_data",
          "data": {
            "text/plain": [
              "<Figure size 640x480 with 1 Axes>"
            ],
            "image/png": "[encoded data removed]"
          },
          "metadata": {}
        }
      ]
    },
    {
      "cell_type": "code",
      "source": [
        "# bionomial dist\n",
        "\n",
        "x = np.random.binomial(n=10, p=0.5, size= 10)\n",
        "x"
      ],
      "metadata": {
        "colab": {
          "base_uri": "https://localhost:8080/"
        },
        "id": "U0duQuc68knR",
        "outputId": "923d47ba-bfd1-4d4c-d9d9-dac665f1613f"
      },
      "execution_count": 92,
      "outputs": [
        {
          "output_type": "execute_result",
          "data": {
            "text/plain": [
              "array([3, 7, 4, 5, 7, 5, 5, 5, 4, 2])"
            ]
          },
          "metadata": {},
          "execution_count": 92
        }
      ]
    },
    {
      "cell_type": "code",
      "source": [
        "sns.distplot(x)\n",
        "plt.show()"
      ],
      "metadata": {
        "colab": {
          "base_uri": "https://localhost:8080/",
          "height": 432
        },
        "id": "CnRUc9nlzpsI",
        "outputId": "b137d219-577d-482a-f495-f25f371faa34"
      },
      "execution_count": 93,
      "outputs": [
        {
          "output_type": "display_data",
          "data": {
            "text/plain": [
              "<Figure size 640x480 with 1 Axes>"
            ],
            "image/png": "[encoded data removed]"
          },
          "metadata": {}
        }
      ]
    },
    {
      "cell_type": "code",
      "source": [
        "import seaborn as sns\n",
        "sns.distplot(np.random.binomial(n=10, p=0.5,size = 1000) , hist = True , kde = False)\n",
        "plt.show()"
      ],
      "metadata": {
        "id": "gQkiEuu4m3Jr",
        "colab": {
          "base_uri": "https://localhost:8080/",
          "height": 430
        },
        "outputId": "b017f55a-13d5-40a0-fbaf-42f53bbd59ad"
      },
      "execution_count": 94,
      "outputs": [
        {
          "output_type": "display_data",
          "data": {
            "text/plain": [
              "<Figure size 640x480 with 1 Axes>"
            ],
            "image/png": "[encoded data removed]"
          },
          "metadata": {}
        }
      ]
    },
    {
      "cell_type": "code",
      "source": [
        "# Poisson dist\n",
        "x=np.random.poisson()\n",
        "x"
      ],
      "metadata": {
        "colab": {
          "base_uri": "https://localhost:8080/"
        },
        "id": "CMckxVIoz4mc",
        "outputId": "1e15ea07-a0b1-4f5e-8b34-f0ba9771cb40"
      },
      "execution_count": 95,
      "outputs": [
        {
          "output_type": "execute_result",
          "data": {
            "text/plain": [
              "4"
            ]
          },
          "metadata": {},
          "execution_count": 95
        }
      ]
    },
    {
      "cell_type": "code",
      "source": [
        "x=np.random.poisson(lam=2, size=10)\n",
        "x"
      ],
      "metadata": {
        "id": "saSFTiCdmemv",
        "colab": {
          "base_uri": "https://localhost:8080/"
        },
        "outputId": "9e91199f-c809-4f5a-f713-b850aa87fc5b"
      },
      "execution_count": 96,
      "outputs": [
        {
          "output_type": "execute_result",
          "data": {
            "text/plain": [
              "array([4, 4, 3, 2, 2, 2, 1, 1, 1, 4])"
            ]
          },
          "metadata": {},
          "execution_count": 96
        }
      ]
    },
    {
      "cell_type": "code",
      "source": [
        "sns.distplot(x)\n",
        "plt.show()"
      ],
      "metadata": {
        "colab": {
          "base_uri": "https://localhost:8080/",
          "height": 430
        },
        "id": "1y9dFdWO0jul",
        "outputId": "b7fc7ea2-42ad-4ae5-acea-e15577678ed4"
      },
      "execution_count": 97,
      "outputs": [
        {
          "output_type": "display_data",
          "data": {
            "text/plain": [
              "<Figure size 640x480 with 1 Axes>"
            ],
            "image/png": "[encoded data removed]"
          },
          "metadata": {}
        }
      ]
    },
    {
      "cell_type": "code",
      "source": [
        "sns.distplot(np.random.poisson(lam = 2 , size = 1000) , hist = True , kde = True)\n",
        "plt.show()"
      ],
      "metadata": {
        "id": "vAxJ97h1mdlE",
        "colab": {
          "base_uri": "https://localhost:8080/",
          "height": 430
        },
        "outputId": "14eb3858-fc26-49d8-80c7-dd834a64e1c2"
      },
      "execution_count": 98,
      "outputs": [
        {
          "output_type": "display_data",
          "data": {
            "text/plain": [
              "<Figure size 640x480 with 1 Axes>"
            ],
            "image/png": "[encoded data removed]"
          },
          "metadata": {}
        }
      ]
    },
    {
      "cell_type": "code",
      "source": [
        "# uniform dist\n",
        "\n",
        "x = np.random.uniform(low=0 , high=4, size=(5, 5))\n",
        "x"
      ],
      "metadata": {
        "colab": {
          "base_uri": "https://localhost:8080/"
        },
        "id": "TEX4KhRA0u_2",
        "outputId": "79554b56-39e3-4dd9-81ad-e045131d3148"
      },
      "execution_count": 106,
      "outputs": [
        {
          "output_type": "execute_result",
          "data": {
            "text/plain": [
              "array([[3.82202943, 0.77999549, 3.31933791, 1.52257405, 2.33139495],\n",
              "       [1.44227593, 2.95348193, 1.70034008, 1.38926367, 1.73675735],\n",
              "       [1.1068057 , 2.41262889, 0.67989719, 2.04538645, 0.32949917],\n",
              "       [3.34443913, 2.74616108, 3.28374934, 2.12475354, 2.9128403 ],\n",
              "       [2.16400079, 3.63980815, 2.25460741, 2.65825574, 1.49653987]])"
            ]
          },
          "metadata": {},
          "execution_count": 106
        }
      ]
    },
    {
      "cell_type": "code",
      "source": [
        "sns.distplot(x)\n",
        "plt.show()"
      ],
      "metadata": {
        "colab": {
          "base_uri": "https://localhost:8080/",
          "height": 430
        },
        "id": "iJKpX-0i07P_",
        "outputId": "92699a80-fc49-4be0-c88e-3bcfaf15f1cb"
      },
      "execution_count": 107,
      "outputs": [
        {
          "output_type": "display_data",
          "data": {
            "text/plain": [
              "<Figure size 640x480 with 1 Axes>"
            ],
            "image/png": "[encoded data removed]"
          },
          "metadata": {}
        }
      ]
    },
    {
      "cell_type": "code",
      "source": [
        "sns.distplot(np.random.uniform(size = 1000) , hist = True )\n",
        "plt.show()"
      ],
      "metadata": {
        "colab": {
          "base_uri": "https://localhost:8080/",
          "height": 430
        },
        "id": "ZrNFplu_0-Yd",
        "outputId": "55200e3e-fb2b-45b7-8a7d-107cfe753715"
      },
      "execution_count": 103,
      "outputs": [
        {
          "output_type": "display_data",
          "data": {
            "text/plain": [
              "<Figure size 640x480 with 1 Axes>"
            ],
            "image/png": "[encoded data removed]"
          },
          "metadata": {}
        }
      ]
    },
    {
      "cell_type": "code",
      "source": [],
      "metadata": {
        "id": "7-vFHcLn0-zx"
      },
      "execution_count": 101,
      "outputs": []
    },
    {
      "cell_type": "code",
      "source": [],
      "metadata": {
        "id": "ctxC1xWRmcL3"
      },
      "execution_count": 101,
      "outputs": []
    }
  ]
}