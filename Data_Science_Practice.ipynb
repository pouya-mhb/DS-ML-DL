{
  "nbformat": 4,
  "nbformat_minor": 0,
  "metadata": {
    "colab": {
      "provenance": [],
      "authorship_tag": "ABX9TyMmYPhvXMmY1DoS2swBQuhe"
    },
    "kernelspec": {
      "name": "python3",
      "display_name": "Python 3"
    },
    "language_info": {
      "name": "python"
    }
  },
  "cells": [
    {
      "cell_type": "code",
      "execution_count": 2,
      "metadata": {
        "id": "vtM9XvkG_T8z"
      },
      "outputs": [],
      "source": [
        "import numpy as np\n",
        "import pandas as pd\n",
        "import matplotlib.pyplot as plt\n",
        "import seaborn as sns\n",
        "import warnings\n",
        "warnings.filterwarnings(\"ignore\")"
      ]
    },
    {
      "cell_type": "markdown",
      "source": [
        "# Numpy Arrays"
      ],
      "metadata": {
        "id": "yfpWnmCXAqwA"
      }
    },
    {
      "cell_type": "code",
      "source": [
        "num_list = [1,2,3,4,5]"
      ],
      "metadata": {
        "id": "RzTdxkJ5AsHl"
      },
      "execution_count": 3,
      "outputs": []
    },
    {
      "cell_type": "code",
      "source": [
        "np_arr = np.array(num_list)"
      ],
      "metadata": {
        "id": "l8mRmRxNAvxc"
      },
      "execution_count": 4,
      "outputs": []
    },
    {
      "cell_type": "code",
      "source": [
        "np_arr"
      ],
      "metadata": {
        "colab": {
          "base_uri": "https://localhost:8080/"
        },
        "id": "TaPreeCxAzlm",
        "outputId": "f4768242-b455-4e64-f731-a7967186baa5"
      },
      "execution_count": 5,
      "outputs": [
        {
          "output_type": "execute_result",
          "data": {
            "text/plain": [
              "array([1, 2, 3, 4, 5])"
            ]
          },
          "metadata": {},
          "execution_count": 5
        }
      ]
    },
    {
      "cell_type": "code",
      "source": [
        "num_list_2 = [[1, 2, 3], [4, 5, 6], [7, 8, 9]]"
      ],
      "metadata": {
        "id": "eShiQ7bsA0os"
      },
      "execution_count": 6,
      "outputs": []
    },
    {
      "cell_type": "code",
      "source": [
        "np_arr_2 = np.array(num_list_2)"
      ],
      "metadata": {
        "id": "i1UZAOx2BFIG"
      },
      "execution_count": 7,
      "outputs": []
    },
    {
      "cell_type": "code",
      "source": [
        "np_arr_2"
      ],
      "metadata": {
        "colab": {
          "base_uri": "https://localhost:8080/"
        },
        "id": "7HsHb1NHBGzx",
        "outputId": "2868f2ce-2b7b-4621-e4a0-65d76e179240"
      },
      "execution_count": 8,
      "outputs": [
        {
          "output_type": "execute_result",
          "data": {
            "text/plain": [
              "array([[1, 2, 3],\n",
              "       [4, 5, 6],\n",
              "       [7, 8, 9]])"
            ]
          },
          "metadata": {},
          "execution_count": 8
        }
      ]
    },
    {
      "cell_type": "code",
      "source": [
        "np.arange(0,10)"
      ],
      "metadata": {
        "colab": {
          "base_uri": "https://localhost:8080/"
        },
        "id": "r5QlK2tFBIll",
        "outputId": "254247fa-53b5-432d-fbe0-fe55610d4945"
      },
      "execution_count": 9,
      "outputs": [
        {
          "output_type": "execute_result",
          "data": {
            "text/plain": [
              "array([0, 1, 2, 3, 4, 5, 6, 7, 8, 9])"
            ]
          },
          "metadata": {},
          "execution_count": 9
        }
      ]
    },
    {
      "cell_type": "code",
      "source": [
        "np.arange(0,10,2)"
      ],
      "metadata": {
        "colab": {
          "base_uri": "https://localhost:8080/"
        },
        "id": "aCcRV0OtBNLI",
        "outputId": "03cd611b-158f-47fa-f0c9-3c96909b807f"
      },
      "execution_count": 10,
      "outputs": [
        {
          "output_type": "execute_result",
          "data": {
            "text/plain": [
              "array([0, 2, 4, 6, 8])"
            ]
          },
          "metadata": {},
          "execution_count": 10
        }
      ]
    },
    {
      "cell_type": "code",
      "source": [
        "np.arange(0,10,3)"
      ],
      "metadata": {
        "colab": {
          "base_uri": "https://localhost:8080/"
        },
        "id": "74yvrY9jBeVJ",
        "outputId": "3d45e90e-d09e-48ec-aa61-1a41a7bd0ad9"
      },
      "execution_count": 11,
      "outputs": [
        {
          "output_type": "execute_result",
          "data": {
            "text/plain": [
              "array([0, 3, 6, 9])"
            ]
          },
          "metadata": {},
          "execution_count": 11
        }
      ]
    },
    {
      "cell_type": "code",
      "source": [
        "np.linspace(0,10,100)"
      ],
      "metadata": {
        "colab": {
          "base_uri": "https://localhost:8080/"
        },
        "id": "aQaZc38fuvAn",
        "outputId": "8161474e-cf3c-4413-f987-ab56f0f6da75"
      },
      "execution_count": 12,
      "outputs": [
        {
          "output_type": "execute_result",
          "data": {
            "text/plain": [
              "array([ 0.        ,  0.1010101 ,  0.2020202 ,  0.3030303 ,  0.4040404 ,\n",
              "        0.50505051,  0.60606061,  0.70707071,  0.80808081,  0.90909091,\n",
              "        1.01010101,  1.11111111,  1.21212121,  1.31313131,  1.41414141,\n",
              "        1.51515152,  1.61616162,  1.71717172,  1.81818182,  1.91919192,\n",
              "        2.02020202,  2.12121212,  2.22222222,  2.32323232,  2.42424242,\n",
              "        2.52525253,  2.62626263,  2.72727273,  2.82828283,  2.92929293,\n",
              "        3.03030303,  3.13131313,  3.23232323,  3.33333333,  3.43434343,\n",
              "        3.53535354,  3.63636364,  3.73737374,  3.83838384,  3.93939394,\n",
              "        4.04040404,  4.14141414,  4.24242424,  4.34343434,  4.44444444,\n",
              "        4.54545455,  4.64646465,  4.74747475,  4.84848485,  4.94949495,\n",
              "        5.05050505,  5.15151515,  5.25252525,  5.35353535,  5.45454545,\n",
              "        5.55555556,  5.65656566,  5.75757576,  5.85858586,  5.95959596,\n",
              "        6.06060606,  6.16161616,  6.26262626,  6.36363636,  6.46464646,\n",
              "        6.56565657,  6.66666667,  6.76767677,  6.86868687,  6.96969697,\n",
              "        7.07070707,  7.17171717,  7.27272727,  7.37373737,  7.47474747,\n",
              "        7.57575758,  7.67676768,  7.77777778,  7.87878788,  7.97979798,\n",
              "        8.08080808,  8.18181818,  8.28282828,  8.38383838,  8.48484848,\n",
              "        8.58585859,  8.68686869,  8.78787879,  8.88888889,  8.98989899,\n",
              "        9.09090909,  9.19191919,  9.29292929,  9.39393939,  9.49494949,\n",
              "        9.5959596 ,  9.6969697 ,  9.7979798 ,  9.8989899 , 10.        ])"
            ]
          },
          "metadata": {},
          "execution_count": 12
        }
      ]
    },
    {
      "cell_type": "code",
      "source": [
        "np.eye(5)"
      ],
      "metadata": {
        "colab": {
          "base_uri": "https://localhost:8080/"
        },
        "id": "vzvJEw6IuxIo",
        "outputId": "c6581b04-dfb4-4325-e7ff-4fe080eb8d43"
      },
      "execution_count": 13,
      "outputs": [
        {
          "output_type": "execute_result",
          "data": {
            "text/plain": [
              "array([[1., 0., 0., 0., 0.],\n",
              "       [0., 1., 0., 0., 0.],\n",
              "       [0., 0., 1., 0., 0.],\n",
              "       [0., 0., 0., 1., 0.],\n",
              "       [0., 0., 0., 0., 1.]])"
            ]
          },
          "metadata": {},
          "execution_count": 13
        }
      ]
    },
    {
      "cell_type": "code",
      "source": [
        "np.random.rand(5)"
      ],
      "metadata": {
        "colab": {
          "base_uri": "https://localhost:8080/"
        },
        "id": "78J9HwMUu49x",
        "outputId": "e623b319-27c0-4102-b9ea-099fd8d6c0a9"
      },
      "execution_count": 14,
      "outputs": [
        {
          "output_type": "execute_result",
          "data": {
            "text/plain": [
              "array([0.92321354, 0.36396412, 0.88442738, 0.13868901, 0.45952103])"
            ]
          },
          "metadata": {},
          "execution_count": 14
        }
      ]
    },
    {
      "cell_type": "code",
      "source": [
        "np.random.randn(100)"
      ],
      "metadata": {
        "colab": {
          "base_uri": "https://localhost:8080/"
        },
        "id": "tPoZlM_wvAd2",
        "outputId": "8a6cca65-f886-4804-ed23-f582a4b86e12"
      },
      "execution_count": 15,
      "outputs": [
        {
          "output_type": "execute_result",
          "data": {
            "text/plain": [
              "array([-1.47268647e+00, -1.59081282e+00,  1.75064517e+00,  8.22143837e-01,\n",
              "       -4.23416136e-01,  7.01526191e-01,  1.41595586e-01,  7.09413269e-01,\n",
              "        7.04011754e-01, -1.06187070e+00,  4.98879537e-01,  1.55038698e+00,\n",
              "       -1.02696927e+00,  9.50679417e-01, -3.76806396e-01,  3.02658776e-01,\n",
              "       -2.65283764e-02,  1.29775903e+00,  1.54269805e+00,  7.07737110e-01,\n",
              "        9.65072781e-01,  3.11670456e-01,  1.33783883e-01,  1.48630032e+00,\n",
              "       -5.10004152e-01,  4.61543462e-01,  2.61382467e-01,  1.21601555e+00,\n",
              "       -1.04185400e+00, -2.57741623e-01,  8.32162627e-01,  4.62556994e-01,\n",
              "        2.02248652e-01,  7.92895121e-01, -1.77043411e+00, -9.16128513e-01,\n",
              "        1.29685125e+00, -1.33139163e+00, -1.06542657e+00,  1.15076110e+00,\n",
              "        2.02412472e+00, -1.02014046e+00, -9.49894763e-01, -3.57763343e-01,\n",
              "        5.07808154e-01, -1.08612971e+00, -1.79061567e+00,  8.69481472e-02,\n",
              "       -5.48380897e-01, -1.51328500e+00, -1.71308075e+00, -8.71948124e-01,\n",
              "        2.69832449e-01, -3.39325952e-01,  1.95910135e+00, -1.22610813e+00,\n",
              "        2.09195617e+00,  4.74401920e-02, -6.94998115e-01, -3.20301929e-01,\n",
              "       -2.46645212e-02, -1.51216785e-01, -3.49868516e-01,  6.81700485e-01,\n",
              "        6.62782105e-01, -1.47088416e-01, -9.20838584e-01,  2.07399089e+00,\n",
              "        8.91486684e-01, -1.57776229e-01, -1.96037672e-01, -1.76650099e-01,\n",
              "       -3.80203850e-01, -3.28907687e-01, -1.13201884e+00,  1.14181814e-04,\n",
              "        7.45035078e-01, -2.26080146e+00, -1.41480966e+00,  7.68465037e-01,\n",
              "        6.46212102e-01,  2.13792977e-02, -4.87199884e-01,  4.19759823e-01,\n",
              "        2.28501221e-01,  9.30572965e-01,  5.92897902e-01, -6.83387232e-01,\n",
              "       -5.45760012e-01,  9.00538004e-01, -7.47566466e-01,  4.54282941e-01,\n",
              "       -2.18358230e+00, -2.62331567e-02, -6.41947933e-01, -5.31987165e-01,\n",
              "        4.11870156e-01, -8.67976538e-01, -1.01785468e+00, -9.55549280e-01])"
            ]
          },
          "metadata": {},
          "execution_count": 15
        }
      ]
    },
    {
      "cell_type": "code",
      "source": [
        "arr = np.random.randint(1,100,10).reshape(2,5)\n",
        "arr"
      ],
      "metadata": {
        "colab": {
          "base_uri": "https://localhost:8080/"
        },
        "id": "BxxoAQ_6u_EJ",
        "outputId": "cea14a7c-ab51-44ee-8dee-e871035fef30"
      },
      "execution_count": 16,
      "outputs": [
        {
          "output_type": "execute_result",
          "data": {
            "text/plain": [
              "array([[25, 12, 66, 61,  1],\n",
              "       [73,  2, 79, 55, 28]])"
            ]
          },
          "metadata": {},
          "execution_count": 16
        }
      ]
    },
    {
      "cell_type": "code",
      "source": [
        "arr.max()"
      ],
      "metadata": {
        "colab": {
          "base_uri": "https://localhost:8080/"
        },
        "id": "LOBpHh0CvWfe",
        "outputId": "73c93602-c003-4289-eccb-a4b51f153984"
      },
      "execution_count": 17,
      "outputs": [
        {
          "output_type": "execute_result",
          "data": {
            "text/plain": [
              "79"
            ]
          },
          "metadata": {},
          "execution_count": 17
        }
      ]
    },
    {
      "cell_type": "code",
      "source": [
        "arr.argmax()"
      ],
      "metadata": {
        "colab": {
          "base_uri": "https://localhost:8080/"
        },
        "id": "qrirZzTlvYNz",
        "outputId": "aa69ea89-8412-4ec1-d698-08ba4e2032ee"
      },
      "execution_count": 18,
      "outputs": [
        {
          "output_type": "execute_result",
          "data": {
            "text/plain": [
              "7"
            ]
          },
          "metadata": {},
          "execution_count": 18
        }
      ]
    },
    {
      "cell_type": "code",
      "source": [
        "arr.min()"
      ],
      "metadata": {
        "colab": {
          "base_uri": "https://localhost:8080/"
        },
        "id": "omYhw3f_vXTf",
        "outputId": "527b3bb5-161f-41f0-c0bd-5b6afd73eb1c"
      },
      "execution_count": 19,
      "outputs": [
        {
          "output_type": "execute_result",
          "data": {
            "text/plain": [
              "1"
            ]
          },
          "metadata": {},
          "execution_count": 19
        }
      ]
    },
    {
      "cell_type": "code",
      "source": [
        "arr.argmin()"
      ],
      "metadata": {
        "colab": {
          "base_uri": "https://localhost:8080/"
        },
        "id": "3HCrUXCKvZ_h",
        "outputId": "b34dbe81-1fea-4595-8a95-39edb4d5211b"
      },
      "execution_count": 20,
      "outputs": [
        {
          "output_type": "execute_result",
          "data": {
            "text/plain": [
              "4"
            ]
          },
          "metadata": {},
          "execution_count": 20
        }
      ]
    },
    {
      "cell_type": "code",
      "source": [
        "arr.shape"
      ],
      "metadata": {
        "colab": {
          "base_uri": "https://localhost:8080/"
        },
        "id": "dBpe3-8ivb4i",
        "outputId": "532699d2-9cd3-4d42-af3b-4cdcb24a244f"
      },
      "execution_count": 21,
      "outputs": [
        {
          "output_type": "execute_result",
          "data": {
            "text/plain": [
              "(2, 5)"
            ]
          },
          "metadata": {},
          "execution_count": 21
        }
      ]
    },
    {
      "cell_type": "code",
      "source": [
        "arr.dtype"
      ],
      "metadata": {
        "colab": {
          "base_uri": "https://localhost:8080/"
        },
        "id": "vYp7N7cXvk2K",
        "outputId": "020a9394-bcbf-41d9-ec10-42e5728bef28"
      },
      "execution_count": 22,
      "outputs": [
        {
          "output_type": "execute_result",
          "data": {
            "text/plain": [
              "dtype('int64')"
            ]
          },
          "metadata": {},
          "execution_count": 22
        }
      ]
    },
    {
      "cell_type": "code",
      "source": [
        "# prompt: arr turn to int32\n",
        "\n",
        "import numpy as np\n",
        "arr = arr.astype(np.int32)\n",
        "arr.dtype\n"
      ],
      "metadata": {
        "colab": {
          "base_uri": "https://localhost:8080/"
        },
        "id": "L_ctLPiuvrNp",
        "outputId": "8105f00a-7624-44f3-a7cb-cb4be9fb68c1"
      },
      "execution_count": 23,
      "outputs": [
        {
          "output_type": "execute_result",
          "data": {
            "text/plain": [
              "dtype('int32')"
            ]
          },
          "metadata": {},
          "execution_count": 23
        }
      ]
    },
    {
      "cell_type": "markdown",
      "source": [
        "# Numpy Practices"
      ],
      "metadata": {
        "id": "mcnnyYa-nuvI"
      }
    },
    {
      "cell_type": "code",
      "source": [
        "zeros = np.zeros(3)\n",
        "zeros"
      ],
      "metadata": {
        "id": "4SLAP87g-jtR",
        "colab": {
          "base_uri": "https://localhost:8080/"
        },
        "outputId": "0ca283ee-e694-4a54-d90e-69ba863f020a"
      },
      "execution_count": 24,
      "outputs": [
        {
          "output_type": "execute_result",
          "data": {
            "text/plain": [
              "array([0., 0., 0.])"
            ]
          },
          "metadata": {},
          "execution_count": 24
        }
      ]
    },
    {
      "cell_type": "code",
      "source": [
        "zeros + 5"
      ],
      "metadata": {
        "colab": {
          "base_uri": "https://localhost:8080/"
        },
        "id": "20blfmPHmF5O",
        "outputId": "21a71a52-2558-4624-a11c-5c02ca9356a5"
      },
      "execution_count": 25,
      "outputs": [
        {
          "output_type": "execute_result",
          "data": {
            "text/plain": [
              "array([5., 5., 5.])"
            ]
          },
          "metadata": {},
          "execution_count": 25
        }
      ]
    },
    {
      "cell_type": "code",
      "source": [
        "ones = np.ones(5)\n",
        "ones"
      ],
      "metadata": {
        "colab": {
          "base_uri": "https://localhost:8080/"
        },
        "id": "z3qmsbCNlqoL",
        "outputId": "06266c78-76e1-4ef2-b43d-9f1c3710b5e7"
      },
      "execution_count": 26,
      "outputs": [
        {
          "output_type": "execute_result",
          "data": {
            "text/plain": [
              "array([1., 1., 1., 1., 1.])"
            ]
          },
          "metadata": {},
          "execution_count": 26
        }
      ]
    },
    {
      "cell_type": "code",
      "source": [
        "print(ones*5)"
      ],
      "metadata": {
        "colab": {
          "base_uri": "https://localhost:8080/"
        },
        "id": "I4dxkH-Glt9M",
        "outputId": "a7b6e0db-012a-4f4c-ab0f-dcc6e2fd0f04"
      },
      "execution_count": 27,
      "outputs": [
        {
          "output_type": "stream",
          "name": "stdout",
          "text": [
            "[5. 5. 5. 5. 5.]\n"
          ]
        }
      ]
    },
    {
      "cell_type": "code",
      "source": [
        "np.arange(10,20)"
      ],
      "metadata": {
        "colab": {
          "base_uri": "https://localhost:8080/"
        },
        "id": "2XD3B75Dl1eZ",
        "outputId": "8e645a5c-23d2-48be-ca49-a96c18756ef2"
      },
      "execution_count": 28,
      "outputs": [
        {
          "output_type": "execute_result",
          "data": {
            "text/plain": [
              "array([10, 11, 12, 13, 14, 15, 16, 17, 18, 19])"
            ]
          },
          "metadata": {},
          "execution_count": 28
        }
      ]
    },
    {
      "cell_type": "code",
      "source": [
        "nums = np.arange(9)\n",
        "nums"
      ],
      "metadata": {
        "colab": {
          "base_uri": "https://localhost:8080/"
        },
        "id": "WgmOB6ZnmDWO",
        "outputId": "48855e25-5d6d-4cbe-8891-dd5e014c72e2"
      },
      "execution_count": 29,
      "outputs": [
        {
          "output_type": "execute_result",
          "data": {
            "text/plain": [
              "array([0, 1, 2, 3, 4, 5, 6, 7, 8])"
            ]
          },
          "metadata": {},
          "execution_count": 29
        }
      ]
    },
    {
      "cell_type": "code",
      "source": [
        "nums.reshape (3,3)"
      ],
      "metadata": {
        "colab": {
          "base_uri": "https://localhost:8080/"
        },
        "id": "6yYSVt-BmTQA",
        "outputId": "1bb5e5ea-c21a-4f0f-8083-c567f5ef83e2"
      },
      "execution_count": 30,
      "outputs": [
        {
          "output_type": "execute_result",
          "data": {
            "text/plain": [
              "array([[0, 1, 2],\n",
              "       [3, 4, 5],\n",
              "       [6, 7, 8]])"
            ]
          },
          "metadata": {},
          "execution_count": 30
        }
      ]
    },
    {
      "cell_type": "code",
      "source": [
        "np.random.rand"
      ],
      "metadata": {
        "colab": {
          "base_uri": "https://localhost:8080/"
        },
        "id": "CvXdZmQQmViS",
        "outputId": "395d0c86-c13f-4c17-879e-c205244d551c"
      },
      "execution_count": 31,
      "outputs": [
        {
          "output_type": "execute_result",
          "data": {
            "text/plain": [
              "<function RandomState.rand>"
            ]
          },
          "metadata": {},
          "execution_count": 31
        }
      ]
    },
    {
      "cell_type": "code",
      "source": [
        "np.random.rand(5)"
      ],
      "metadata": {
        "colab": {
          "base_uri": "https://localhost:8080/"
        },
        "id": "pS9oFWp1mt1F",
        "outputId": "ed6eb53e-f903-4b5e-a555-8a00c0a08e1e"
      },
      "execution_count": 32,
      "outputs": [
        {
          "output_type": "execute_result",
          "data": {
            "text/plain": [
              "array([0.47045633, 0.16283117, 0.90636436, 0.32849335, 0.90020248])"
            ]
          },
          "metadata": {},
          "execution_count": 32
        }
      ]
    },
    {
      "cell_type": "code",
      "source": [
        "np.random.randint(9)"
      ],
      "metadata": {
        "colab": {
          "base_uri": "https://localhost:8080/"
        },
        "id": "3qRbvRK8nLnb",
        "outputId": "a76241b9-548b-457e-a9c7-1b7cd00e47de"
      },
      "execution_count": 33,
      "outputs": [
        {
          "output_type": "execute_result",
          "data": {
            "text/plain": [
              "3"
            ]
          },
          "metadata": {},
          "execution_count": 33
        }
      ]
    },
    {
      "cell_type": "code",
      "source": [
        "np.random.randint(9,size=9)"
      ],
      "metadata": {
        "colab": {
          "base_uri": "https://localhost:8080/"
        },
        "id": "8UC6CqGHnM57",
        "outputId": "054374c2-26bd-4633-e4ee-d9b03178ea5e"
      },
      "execution_count": 34,
      "outputs": [
        {
          "output_type": "execute_result",
          "data": {
            "text/plain": [
              "array([1, 5, 5, 4, 6, 5, 8, 1, 4])"
            ]
          },
          "metadata": {},
          "execution_count": 34
        }
      ]
    },
    {
      "cell_type": "code",
      "source": [
        "np.random.randint(5,size=9).reshape(3,3)"
      ],
      "metadata": {
        "colab": {
          "base_uri": "https://localhost:8080/"
        },
        "id": "-nbHCWR8nTWM",
        "outputId": "dc6e0c87-22c1-4d5b-f373-63650cd6be89"
      },
      "execution_count": 35,
      "outputs": [
        {
          "output_type": "execute_result",
          "data": {
            "text/plain": [
              "array([[3, 2, 0],\n",
              "       [0, 0, 0],\n",
              "       [3, 2, 1]])"
            ]
          },
          "metadata": {},
          "execution_count": 35
        }
      ]
    },
    {
      "cell_type": "code",
      "source": [
        "np.random.exponential(scale=1)"
      ],
      "metadata": {
        "colab": {
          "base_uri": "https://localhost:8080/"
        },
        "id": "WJy4uNdumwR-",
        "outputId": "e106cae0-8ab4-4131-84ca-fbbd844bc856"
      },
      "execution_count": 36,
      "outputs": [
        {
          "output_type": "execute_result",
          "data": {
            "text/plain": [
              "0.22646118921857014"
            ]
          },
          "metadata": {},
          "execution_count": 36
        }
      ]
    },
    {
      "cell_type": "code",
      "source": [
        "np.random.exponential(size=5)"
      ],
      "metadata": {
        "colab": {
          "base_uri": "https://localhost:8080/"
        },
        "id": "fKc3Sx5Om-ps",
        "outputId": "31f2e07b-c732-4372-e21c-19acb2202d30"
      },
      "execution_count": 37,
      "outputs": [
        {
          "output_type": "execute_result",
          "data": {
            "text/plain": [
              "array([1.43222671, 0.83493337, 0.25283269, 0.54861487, 0.050943  ])"
            ]
          },
          "metadata": {},
          "execution_count": 37
        }
      ]
    },
    {
      "cell_type": "code",
      "source": [
        "np.random.exponential(scale=1,size=5)"
      ],
      "metadata": {
        "colab": {
          "base_uri": "https://localhost:8080/"
        },
        "id": "MGoO3WjQnBNB",
        "outputId": "2597d4cc-0408-42d8-ab16-920d548f6830"
      },
      "execution_count": 38,
      "outputs": [
        {
          "output_type": "execute_result",
          "data": {
            "text/plain": [
              "array([0.31423819, 1.56089764, 0.45679078, 0.407811  , 1.72190843])"
            ]
          },
          "metadata": {},
          "execution_count": 38
        }
      ]
    },
    {
      "cell_type": "code",
      "source": [
        "np.random.randn(25) # 25 rand numbers from a standard normal distribution"
      ],
      "metadata": {
        "colab": {
          "base_uri": "https://localhost:8080/"
        },
        "id": "KwVBbyOGnDsU",
        "outputId": "80868dc9-16e0-4c83-d13d-2f13c68c1524"
      },
      "execution_count": 39,
      "outputs": [
        {
          "output_type": "execute_result",
          "data": {
            "text/plain": [
              "array([ 0.62089787, -0.17483899, -1.40670563, -1.76760623, -0.92065776,\n",
              "        1.15078719, -1.1142185 ,  1.0327882 ,  0.69131492,  0.00947023,\n",
              "        1.08167481,  0.75265659,  0.82748195, -0.01164639,  1.50685555,\n",
              "        0.19032869,  0.2696154 ,  0.81377969,  0.12456269, -0.39668852,\n",
              "        1.29398212,  0.94631002,  1.68906861,  0.04178456,  0.25587912])"
            ]
          },
          "metadata": {},
          "execution_count": 39
        }
      ]
    },
    {
      "cell_type": "code",
      "source": [
        "np.random.randn(25).shape"
      ],
      "metadata": {
        "colab": {
          "base_uri": "https://localhost:8080/"
        },
        "id": "HAW8Omqtn5Op",
        "outputId": "647723e1-38af-442b-f967-bdf235ecb77d"
      },
      "execution_count": 40,
      "outputs": [
        {
          "output_type": "execute_result",
          "data": {
            "text/plain": [
              "(25,)"
            ]
          },
          "metadata": {},
          "execution_count": 40
        }
      ]
    },
    {
      "cell_type": "code",
      "source": [
        "# create a  matrix from 0.01 to 1\n",
        "# solution 1"
      ],
      "metadata": {
        "id": "Vr1IdRyWn_S6"
      },
      "execution_count": 41,
      "outputs": []
    },
    {
      "cell_type": "code",
      "source": [
        "np.arange(1,101) / 100 # arange gives you 1 - 100"
      ],
      "metadata": {
        "colab": {
          "base_uri": "https://localhost:8080/"
        },
        "id": "OSTkQ3w93Jcu",
        "outputId": "b28a2c0f-dbfc-47bd-e71b-c0224682bb03"
      },
      "execution_count": 42,
      "outputs": [
        {
          "output_type": "execute_result",
          "data": {
            "text/plain": [
              "array([0.01, 0.02, 0.03, 0.04, 0.05, 0.06, 0.07, 0.08, 0.09, 0.1 , 0.11,\n",
              "       0.12, 0.13, 0.14, 0.15, 0.16, 0.17, 0.18, 0.19, 0.2 , 0.21, 0.22,\n",
              "       0.23, 0.24, 0.25, 0.26, 0.27, 0.28, 0.29, 0.3 , 0.31, 0.32, 0.33,\n",
              "       0.34, 0.35, 0.36, 0.37, 0.38, 0.39, 0.4 , 0.41, 0.42, 0.43, 0.44,\n",
              "       0.45, 0.46, 0.47, 0.48, 0.49, 0.5 , 0.51, 0.52, 0.53, 0.54, 0.55,\n",
              "       0.56, 0.57, 0.58, 0.59, 0.6 , 0.61, 0.62, 0.63, 0.64, 0.65, 0.66,\n",
              "       0.67, 0.68, 0.69, 0.7 , 0.71, 0.72, 0.73, 0.74, 0.75, 0.76, 0.77,\n",
              "       0.78, 0.79, 0.8 , 0.81, 0.82, 0.83, 0.84, 0.85, 0.86, 0.87, 0.88,\n",
              "       0.89, 0.9 , 0.91, 0.92, 0.93, 0.94, 0.95, 0.96, 0.97, 0.98, 0.99,\n",
              "       1.  ])"
            ]
          },
          "metadata": {},
          "execution_count": 42
        }
      ]
    },
    {
      "cell_type": "code",
      "source": [
        "np.linspace(0.01,1,100).reshape(2,2,5,5) # 4 dimention on 5*5"
      ],
      "metadata": {
        "colab": {
          "base_uri": "https://localhost:8080/"
        },
        "id": "s8Ou8g7J3TOh",
        "outputId": "fbe2539e-ad2a-437f-8fb6-482482942e8f"
      },
      "execution_count": 43,
      "outputs": [
        {
          "output_type": "execute_result",
          "data": {
            "text/plain": [
              "array([[[[0.01, 0.02, 0.03, 0.04, 0.05],\n",
              "         [0.06, 0.07, 0.08, 0.09, 0.1 ],\n",
              "         [0.11, 0.12, 0.13, 0.14, 0.15],\n",
              "         [0.16, 0.17, 0.18, 0.19, 0.2 ],\n",
              "         [0.21, 0.22, 0.23, 0.24, 0.25]],\n",
              "\n",
              "        [[0.26, 0.27, 0.28, 0.29, 0.3 ],\n",
              "         [0.31, 0.32, 0.33, 0.34, 0.35],\n",
              "         [0.36, 0.37, 0.38, 0.39, 0.4 ],\n",
              "         [0.41, 0.42, 0.43, 0.44, 0.45],\n",
              "         [0.46, 0.47, 0.48, 0.49, 0.5 ]]],\n",
              "\n",
              "\n",
              "       [[[0.51, 0.52, 0.53, 0.54, 0.55],\n",
              "         [0.56, 0.57, 0.58, 0.59, 0.6 ],\n",
              "         [0.61, 0.62, 0.63, 0.64, 0.65],\n",
              "         [0.66, 0.67, 0.68, 0.69, 0.7 ],\n",
              "         [0.71, 0.72, 0.73, 0.74, 0.75]],\n",
              "\n",
              "        [[0.76, 0.77, 0.78, 0.79, 0.8 ],\n",
              "         [0.81, 0.82, 0.83, 0.84, 0.85],\n",
              "         [0.86, 0.87, 0.88, 0.89, 0.9 ],\n",
              "         [0.91, 0.92, 0.93, 0.94, 0.95],\n",
              "         [0.96, 0.97, 0.98, 0.99, 1.  ]]]])"
            ]
          },
          "metadata": {},
          "execution_count": 43
        }
      ]
    },
    {
      "cell_type": "code",
      "source": [
        "np.linspace(0,1,20) # 20 linearly spaced points 0-1"
      ],
      "metadata": {
        "colab": {
          "base_uri": "https://localhost:8080/"
        },
        "id": "pKBJ2Z8w4DMU",
        "outputId": "ad9a18c2-a775-4f91-fa0b-650fbb7b5fb7"
      },
      "execution_count": 44,
      "outputs": [
        {
          "output_type": "execute_result",
          "data": {
            "text/plain": [
              "array([0.        , 0.05263158, 0.10526316, 0.15789474, 0.21052632,\n",
              "       0.26315789, 0.31578947, 0.36842105, 0.42105263, 0.47368421,\n",
              "       0.52631579, 0.57894737, 0.63157895, 0.68421053, 0.73684211,\n",
              "       0.78947368, 0.84210526, 0.89473684, 0.94736842, 1.        ])"
            ]
          },
          "metadata": {},
          "execution_count": 44
        }
      ]
    },
    {
      "cell_type": "markdown",
      "source": [
        "## numpy indexing and selection"
      ],
      "metadata": {
        "id": "93H6AcFe4e09"
      }
    },
    {
      "cell_type": "code",
      "source": [
        "mat = np.arange(1,26).reshape(5,5)\n",
        "mat"
      ],
      "metadata": {
        "colab": {
          "base_uri": "https://localhost:8080/"
        },
        "id": "syKSXnDy4hDD",
        "outputId": "aa2b9e17-2386-466f-fe8e-27b11a63b346"
      },
      "execution_count": 45,
      "outputs": [
        {
          "output_type": "execute_result",
          "data": {
            "text/plain": [
              "array([[ 1,  2,  3,  4,  5],\n",
              "       [ 6,  7,  8,  9, 10],\n",
              "       [11, 12, 13, 14, 15],\n",
              "       [16, 17, 18, 19, 20],\n",
              "       [21, 22, 23, 24, 25]])"
            ]
          },
          "metadata": {},
          "execution_count": 45
        }
      ]
    },
    {
      "cell_type": "code",
      "source": [
        "mat[2:] # row 2 - end"
      ],
      "metadata": {
        "colab": {
          "base_uri": "https://localhost:8080/"
        },
        "id": "AhbBD1ib4p3-",
        "outputId": "3c1349aa-40c4-4a74-8fd7-c1eb03984cce"
      },
      "execution_count": 46,
      "outputs": [
        {
          "output_type": "execute_result",
          "data": {
            "text/plain": [
              "array([[11, 12, 13, 14, 15],\n",
              "       [16, 17, 18, 19, 20],\n",
              "       [21, 22, 23, 24, 25]])"
            ]
          },
          "metadata": {},
          "execution_count": 46
        }
      ]
    },
    {
      "cell_type": "code",
      "source": [
        "mat[2:,:1] # row 2 , col 0"
      ],
      "metadata": {
        "colab": {
          "base_uri": "https://localhost:8080/"
        },
        "id": "ocx2WDP14wva",
        "outputId": "0588d0bf-1bb4-42be-d2c3-c2dba5273379"
      },
      "execution_count": 47,
      "outputs": [
        {
          "output_type": "execute_result",
          "data": {
            "text/plain": [
              "array([[11],\n",
              "       [16],\n",
              "       [21]])"
            ]
          },
          "metadata": {},
          "execution_count": 47
        }
      ]
    },
    {
      "cell_type": "code",
      "source": [
        "mat[2:,:2] # row 2 - col 0 and 1"
      ],
      "metadata": {
        "colab": {
          "base_uri": "https://localhost:8080/"
        },
        "id": "poIJjkpd4zu7",
        "outputId": "161c4d9e-d19a-4bc4-f160-04ecc2f548ac"
      },
      "execution_count": 48,
      "outputs": [
        {
          "output_type": "execute_result",
          "data": {
            "text/plain": [
              "array([[11, 12],\n",
              "       [16, 17],\n",
              "       [21, 22]])"
            ]
          },
          "metadata": {},
          "execution_count": 48
        }
      ]
    },
    {
      "cell_type": "code",
      "source": [
        "mat[2:,1:2]"
      ],
      "metadata": {
        "colab": {
          "base_uri": "https://localhost:8080/"
        },
        "id": "pPV9-1ax-TcD",
        "outputId": "fa47250f-d53c-4ee1-fe14-7945f10578b0"
      },
      "execution_count": 49,
      "outputs": [
        {
          "output_type": "execute_result",
          "data": {
            "text/plain": [
              "array([[12],\n",
              "       [17],\n",
              "       [22]])"
            ]
          },
          "metadata": {},
          "execution_count": 49
        }
      ]
    },
    {
      "cell_type": "code",
      "source": [
        "mat[2:,1:2].shape"
      ],
      "metadata": {
        "colab": {
          "base_uri": "https://localhost:8080/"
        },
        "id": "gYHXuTVU-kFn",
        "outputId": "fdf96631-d9c7-4e04-edf3-0d5a917660ee"
      },
      "execution_count": 50,
      "outputs": [
        {
          "output_type": "execute_result",
          "data": {
            "text/plain": [
              "(3, 1)"
            ]
          },
          "metadata": {},
          "execution_count": 50
        }
      ]
    },
    {
      "cell_type": "code",
      "source": [
        "mat[2:,1:]"
      ],
      "metadata": {
        "colab": {
          "base_uri": "https://localhost:8080/"
        },
        "id": "enNnPQSJ4dr9",
        "outputId": "69bbcda6-65a9-44f0-88a4-f5e66a175533"
      },
      "execution_count": 51,
      "outputs": [
        {
          "output_type": "execute_result",
          "data": {
            "text/plain": [
              "array([[12, 13, 14, 15],\n",
              "       [17, 18, 19, 20],\n",
              "       [22, 23, 24, 25]])"
            ]
          },
          "metadata": {},
          "execution_count": 51
        }
      ]
    },
    {
      "cell_type": "code",
      "source": [
        "mat[2:,1]"
      ],
      "metadata": {
        "colab": {
          "base_uri": "https://localhost:8080/"
        },
        "id": "7tWQPaiz-sDL",
        "outputId": "315d8950-47c4-4490-cf28-89ae93f2a60b"
      },
      "execution_count": 52,
      "outputs": [
        {
          "output_type": "execute_result",
          "data": {
            "text/plain": [
              "array([12, 17, 22])"
            ]
          },
          "metadata": {},
          "execution_count": 52
        }
      ]
    },
    {
      "cell_type": "code",
      "source": [
        "mat[3,4]"
      ],
      "metadata": {
        "colab": {
          "base_uri": "https://localhost:8080/"
        },
        "id": "aembnqQz4Vgo",
        "outputId": "6ffa89b6-a5a7-4caa-b2c9-59089794d523"
      },
      "execution_count": 53,
      "outputs": [
        {
          "output_type": "execute_result",
          "data": {
            "text/plain": [
              "20"
            ]
          },
          "metadata": {},
          "execution_count": 53
        }
      ]
    },
    {
      "cell_type": "code",
      "source": [
        "mat.shape"
      ],
      "metadata": {
        "colab": {
          "base_uri": "https://localhost:8080/"
        },
        "id": "G_QV6R1m5rlw",
        "outputId": "73fc6567-6e50-468d-c4bb-6742437a3b79"
      },
      "execution_count": 54,
      "outputs": [
        {
          "output_type": "execute_result",
          "data": {
            "text/plain": [
              "(5, 5)"
            ]
          },
          "metadata": {},
          "execution_count": 54
        }
      ]
    },
    {
      "source": [
        "# Since mat[1][1] will always be 7, the if condition is redundant.\n",
        "# We can directly print all elements of 'mat' using a nested loop:\n",
        "\n",
        "for i in range(mat.shape[0]):  # Iterate through rows\n",
        "    for j in range(mat.shape[1]):  # Iterate through columns\n",
        "        if mat[i,j] == 20:\n",
        "          print(i,j, mat[i, j])"
      ],
      "cell_type": "code",
      "metadata": {
        "colab": {
          "base_uri": "https://localhost:8080/"
        },
        "id": "XmpCDREX7VJC",
        "outputId": "70b86b38-01b1-457d-e9e1-cd1c85857b88"
      },
      "execution_count": 55,
      "outputs": [
        {
          "output_type": "stream",
          "name": "stdout",
          "text": [
            "3 4 20\n"
          ]
        }
      ]
    },
    {
      "cell_type": "markdown",
      "source": [
        "range(mat.shape[0], mat.shape[1]): This creates a sequence of numbers starting from mat.shape[0] (5) and ending before mat.shape[1] (5). It generates a sequence from 5 to 5 (non-inclusive). Because the start and end is the same, this range is empty meaning it has no values."
      ],
      "metadata": {
        "id": "IGK79gVM-LIf"
      }
    },
    {
      "cell_type": "code",
      "source": [
        "for i,j in range(mat.shape[0], mat.shape[1]):\n",
        "  print (i,j)\n",
        "  # if mat[i,j] == 20 :\n",
        "  #   print(i,j, mat[i,j])"
      ],
      "metadata": {
        "id": "bSUzxpY57vCE"
      },
      "execution_count": 56,
      "outputs": []
    },
    {
      "cell_type": "code",
      "source": [
        "# last row\n",
        "mat[4:,:]"
      ],
      "metadata": {
        "colab": {
          "base_uri": "https://localhost:8080/"
        },
        "id": "_xQ2Riaa9jRX",
        "outputId": "e8515c65-11e0-4959-f68b-4b77ce4c0592"
      },
      "execution_count": 57,
      "outputs": [
        {
          "output_type": "execute_result",
          "data": {
            "text/plain": [
              "array([[21, 22, 23, 24, 25]])"
            ]
          },
          "metadata": {},
          "execution_count": 57
        }
      ]
    },
    {
      "cell_type": "code",
      "source": [
        "# last row\n",
        "mat[-1:,:]"
      ],
      "metadata": {
        "id": "q2XaJlUp6imE",
        "colab": {
          "base_uri": "https://localhost:8080/"
        },
        "outputId": "2db803db-d333-460c-cc1f-db183f5836d4"
      },
      "execution_count": 58,
      "outputs": [
        {
          "output_type": "execute_result",
          "data": {
            "text/plain": [
              "array([[21, 22, 23, 24, 25]])"
            ]
          },
          "metadata": {},
          "execution_count": 58
        }
      ]
    },
    {
      "cell_type": "code",
      "source": [
        "new_arr = np.arange(1,10)\n",
        "new_arr"
      ],
      "metadata": {
        "colab": {
          "base_uri": "https://localhost:8080/"
        },
        "id": "lpgVbhj_wVG6",
        "outputId": "db22eb78-b6a2-470a-c80f-c50fb62b3121"
      },
      "execution_count": 59,
      "outputs": [
        {
          "output_type": "execute_result",
          "data": {
            "text/plain": [
              "array([1, 2, 3, 4, 5, 6, 7, 8, 9])"
            ]
          },
          "metadata": {},
          "execution_count": 59
        }
      ]
    },
    {
      "cell_type": "code",
      "source": [
        "slice_of_new_arr = new_arr[:6]\n",
        "slice_of_new_arr"
      ],
      "metadata": {
        "colab": {
          "base_uri": "https://localhost:8080/"
        },
        "id": "XkWC7fcewatF",
        "outputId": "8e089eaa-8f12-449f-cd92-1b5d6b8b9267"
      },
      "execution_count": 60,
      "outputs": [
        {
          "output_type": "execute_result",
          "data": {
            "text/plain": [
              "array([1, 2, 3, 4, 5, 6])"
            ]
          },
          "metadata": {},
          "execution_count": 60
        }
      ]
    },
    {
      "cell_type": "code",
      "source": [
        "slice_of_new_arr[:] = 99\n",
        "slice_of_new_arr"
      ],
      "metadata": {
        "colab": {
          "base_uri": "https://localhost:8080/"
        },
        "id": "ZlT6mpOHwxYU",
        "outputId": "cfd6fe58-9f1a-453c-951f-74e718c7b09c"
      },
      "execution_count": 61,
      "outputs": [
        {
          "output_type": "execute_result",
          "data": {
            "text/plain": [
              "array([99, 99, 99, 99, 99, 99])"
            ]
          },
          "metadata": {},
          "execution_count": 61
        }
      ]
    },
    {
      "cell_type": "code",
      "source": [
        "new_arr"
      ],
      "metadata": {
        "colab": {
          "base_uri": "https://localhost:8080/"
        },
        "id": "rceNVr3KxYed",
        "outputId": "05e1cb7d-a0bd-4d93-bda4-57a80cbcb8e6"
      },
      "execution_count": 62,
      "outputs": [
        {
          "output_type": "execute_result",
          "data": {
            "text/plain": [
              "array([99, 99, 99, 99, 99, 99,  7,  8,  9])"
            ]
          },
          "metadata": {},
          "execution_count": 62
        }
      ]
    },
    {
      "cell_type": "code",
      "source": [
        "arr_copy = new_arr.copy() # copy the array\n",
        "arr_copy"
      ],
      "metadata": {
        "colab": {
          "base_uri": "https://localhost:8080/"
        },
        "id": "FtID4eUJxd5b",
        "outputId": "6235514f-9d03-4464-a650-623f9cce1b94"
      },
      "execution_count": 63,
      "outputs": [
        {
          "output_type": "execute_result",
          "data": {
            "text/plain": [
              "array([99, 99, 99, 99, 99, 99,  7,  8,  9])"
            ]
          },
          "metadata": {},
          "execution_count": 63
        }
      ]
    },
    {
      "cell_type": "code",
      "source": [
        "arr_copy [:] = 100\n",
        "arr_copy"
      ],
      "metadata": {
        "colab": {
          "base_uri": "https://localhost:8080/"
        },
        "id": "nGkJC1nZxkfr",
        "outputId": "6be45b4d-8299-4cf2-824b-ab3bdd8dd84c"
      },
      "execution_count": 64,
      "outputs": [
        {
          "output_type": "execute_result",
          "data": {
            "text/plain": [
              "array([100, 100, 100, 100, 100, 100, 100, 100, 100])"
            ]
          },
          "metadata": {},
          "execution_count": 64
        }
      ]
    },
    {
      "cell_type": "code",
      "source": [
        "new_arr"
      ],
      "metadata": {
        "colab": {
          "base_uri": "https://localhost:8080/"
        },
        "id": "Ez0R4Nnwxy7l",
        "outputId": "b749fd7d-d1e3-4d3c-add7-e6a5b85c42bc"
      },
      "execution_count": 65,
      "outputs": [
        {
          "output_type": "execute_result",
          "data": {
            "text/plain": [
              "array([99, 99, 99, 99, 99, 99,  7,  8,  9])"
            ]
          },
          "metadata": {},
          "execution_count": 65
        }
      ]
    },
    {
      "cell_type": "code",
      "source": [
        "# prompt: generate a 2d array\n",
        "\n",
        "import numpy as np\n",
        "# Create a 2D array (matrix) with random integers\n",
        "rows = 5  # Number of rows\n",
        "cols = 3  # Number of columns\n",
        "min_val = 1\n",
        "max_val = 10\n",
        "\n",
        "two_d_array = np.random.randint(min_val, max_val + 1, size=(rows, cols))\n",
        "\n",
        "two_d_array\n"
      ],
      "metadata": {
        "colab": {
          "base_uri": "https://localhost:8080/"
        },
        "id": "yPMf73JrwYaB",
        "outputId": "1273fd9b-aace-4a45-ab85-8eeb478bc825"
      },
      "execution_count": 66,
      "outputs": [
        {
          "output_type": "execute_result",
          "data": {
            "text/plain": [
              "array([[10,  1, 10],\n",
              "       [ 8,  9,  2],\n",
              "       [ 6,  3,  1],\n",
              "       [ 5,  5,  5],\n",
              "       [ 7,  7,  4]])"
            ]
          },
          "metadata": {},
          "execution_count": 66
        }
      ]
    },
    {
      "cell_type": "code",
      "source": [
        "two_d_array[1][1]"
      ],
      "metadata": {
        "colab": {
          "base_uri": "https://localhost:8080/"
        },
        "id": "0yher_KpyOJl",
        "outputId": "269ae521-064a-4f3a-b2b6-e764f18da6c2"
      },
      "execution_count": 67,
      "outputs": [
        {
          "output_type": "execute_result",
          "data": {
            "text/plain": [
              "9"
            ]
          },
          "metadata": {},
          "execution_count": 67
        }
      ]
    },
    {
      "cell_type": "code",
      "source": [
        "two_d_array[1,1]"
      ],
      "metadata": {
        "colab": {
          "base_uri": "https://localhost:8080/"
        },
        "id": "NMdpkPUdyUcy",
        "outputId": "126688c5-81f6-4fd3-d08b-3a81caa28af1"
      },
      "execution_count": 68,
      "outputs": [
        {
          "output_type": "execute_result",
          "data": {
            "text/plain": [
              "9"
            ]
          },
          "metadata": {},
          "execution_count": 68
        }
      ]
    },
    {
      "cell_type": "code",
      "source": [
        "two_d_array[2,1] + new_arr[2]"
      ],
      "metadata": {
        "colab": {
          "base_uri": "https://localhost:8080/"
        },
        "id": "UF4IYZWXyWCH",
        "outputId": "c42bcd9e-b1d8-4489-be91-d5102b147603"
      },
      "execution_count": 69,
      "outputs": [
        {
          "output_type": "execute_result",
          "data": {
            "text/plain": [
              "102"
            ]
          },
          "metadata": {},
          "execution_count": 69
        }
      ]
    },
    {
      "cell_type": "code",
      "source": [
        "two_d_array * two_d_array"
      ],
      "metadata": {
        "colab": {
          "base_uri": "https://localhost:8080/"
        },
        "id": "xXgMEgF5ye9o",
        "outputId": "322ea6ef-c834-4ea2-921c-e6fb3853152e"
      },
      "execution_count": 70,
      "outputs": [
        {
          "output_type": "execute_result",
          "data": {
            "text/plain": [
              "array([[100,   1, 100],\n",
              "       [ 64,  81,   4],\n",
              "       [ 36,   9,   1],\n",
              "       [ 25,  25,  25],\n",
              "       [ 49,  49,  16]])"
            ]
          },
          "metadata": {},
          "execution_count": 70
        }
      ]
    },
    {
      "cell_type": "code",
      "source": [
        "two_d_array / two_d_array"
      ],
      "metadata": {
        "colab": {
          "base_uri": "https://localhost:8080/"
        },
        "id": "SA4-btQ9yjlG",
        "outputId": "b86a816f-36a2-4c2f-86ac-856ceb11056b"
      },
      "execution_count": 71,
      "outputs": [
        {
          "output_type": "execute_result",
          "data": {
            "text/plain": [
              "array([[1., 1., 1.],\n",
              "       [1., 1., 1.],\n",
              "       [1., 1., 1.],\n",
              "       [1., 1., 1.],\n",
              "       [1., 1., 1.]])"
            ]
          },
          "metadata": {},
          "execution_count": 71
        }
      ]
    },
    {
      "cell_type": "code",
      "source": [
        "two_d_array ** 1.3534535"
      ],
      "metadata": {
        "colab": {
          "base_uri": "https://localhost:8080/"
        },
        "id": "AAnWVCmRyuR_",
        "outputId": "f20c47a5-5fb3-42e0-8d22-5497e0e45e8a"
      },
      "execution_count": 72,
      "outputs": [
        {
          "output_type": "execute_result",
          "data": {
            "text/plain": [
              "array([[22.56594369,  1.        , 22.56594369],\n",
              "       [16.68362055, 19.56693779,  2.55523061],\n",
              "       [11.30294289,  4.42345315,  1.        ],\n",
              "       [ 8.8312748 ,  8.8312748 ,  8.8312748 ],\n",
              "       [13.92518264, 13.92518264,  6.52920347]])"
            ]
          },
          "metadata": {},
          "execution_count": 72
        }
      ]
    },
    {
      "cell_type": "code",
      "source": [
        "arr = np.arange(1,11)\n",
        "arr"
      ],
      "metadata": {
        "colab": {
          "base_uri": "https://localhost:8080/"
        },
        "id": "J7NRGzeRyy6I",
        "outputId": "a2005024-cb09-49e9-da1a-bc27a17296f8"
      },
      "execution_count": 73,
      "outputs": [
        {
          "output_type": "execute_result",
          "data": {
            "text/plain": [
              "array([ 1,  2,  3,  4,  5,  6,  7,  8,  9, 10])"
            ]
          },
          "metadata": {},
          "execution_count": 73
        }
      ]
    },
    {
      "cell_type": "code",
      "source": [
        "bool_arr = arr > 4\n",
        "bool_arr"
      ],
      "metadata": {
        "colab": {
          "base_uri": "https://localhost:8080/"
        },
        "id": "PSivaoJOzGsi",
        "outputId": "7dab089f-ee28-4c3f-e9f2-418d37da810a"
      },
      "execution_count": 74,
      "outputs": [
        {
          "output_type": "execute_result",
          "data": {
            "text/plain": [
              "array([False, False, False, False,  True,  True,  True,  True,  True,\n",
              "        True])"
            ]
          },
          "metadata": {},
          "execution_count": 74
        }
      ]
    },
    {
      "cell_type": "code",
      "source": [
        "arr < 9"
      ],
      "metadata": {
        "colab": {
          "base_uri": "https://localhost:8080/"
        },
        "id": "pBM4M3XWzZUQ",
        "outputId": "239e58bc-c0c2-45ad-c3c2-f33561d43c03"
      },
      "execution_count": 75,
      "outputs": [
        {
          "output_type": "execute_result",
          "data": {
            "text/plain": [
              "array([ True,  True,  True,  True,  True,  True,  True,  True, False,\n",
              "       False])"
            ]
          },
          "metadata": {},
          "execution_count": 75
        }
      ]
    },
    {
      "cell_type": "code",
      "source": [
        "arr > 4 , arr < 9"
      ],
      "metadata": {
        "colab": {
          "base_uri": "https://localhost:8080/"
        },
        "id": "8FN9RG5BzasN",
        "outputId": "a0ec5597-2eb5-4b74-b0ed-e8ac4fcf7b47"
      },
      "execution_count": 76,
      "outputs": [
        {
          "output_type": "execute_result",
          "data": {
            "text/plain": [
              "(array([False, False, False, False,  True,  True,  True,  True,  True,\n",
              "         True]),\n",
              " array([ True,  True,  True,  True,  True,  True,  True,  True, False,\n",
              "        False]))"
            ]
          },
          "metadata": {},
          "execution_count": 76
        }
      ]
    },
    {
      "cell_type": "code",
      "source": [
        "arr > 4 , # what happens here ??\n",
        "arr < 9"
      ],
      "metadata": {
        "colab": {
          "base_uri": "https://localhost:8080/"
        },
        "id": "FEfFUuWZzIBp",
        "outputId": "10fc3560-209c-4b1a-bda2-a79c8c96bb7e"
      },
      "execution_count": 77,
      "outputs": [
        {
          "output_type": "execute_result",
          "data": {
            "text/plain": [
              "array([ True,  True,  True,  True,  True,  True,  True,  True, False,\n",
              "       False])"
            ]
          },
          "metadata": {},
          "execution_count": 77
        }
      ]
    },
    {
      "cell_type": "code",
      "source": [
        "arr[arr>4]"
      ],
      "metadata": {
        "colab": {
          "base_uri": "https://localhost:8080/"
        },
        "id": "sM6uHuqlzqku",
        "outputId": "69627352-23ec-4f82-8b7a-9830190c99d2"
      },
      "execution_count": 78,
      "outputs": [
        {
          "output_type": "execute_result",
          "data": {
            "text/plain": [
              "array([ 5,  6,  7,  8,  9, 10])"
            ]
          },
          "metadata": {},
          "execution_count": 78
        }
      ]
    },
    {
      "cell_type": "markdown",
      "source": [
        "# math"
      ],
      "metadata": {
        "id": "G0XPwDbM_qma"
      }
    },
    {
      "cell_type": "code",
      "source": [
        "mat"
      ],
      "metadata": {
        "colab": {
          "base_uri": "https://localhost:8080/"
        },
        "id": "C_QSX5s8__mW",
        "outputId": "29c66c22-c653-4376-9fe7-b2aa2eb43fc1"
      },
      "execution_count": 79,
      "outputs": [
        {
          "output_type": "execute_result",
          "data": {
            "text/plain": [
              "array([[ 1,  2,  3,  4,  5],\n",
              "       [ 6,  7,  8,  9, 10],\n",
              "       [11, 12, 13, 14, 15],\n",
              "       [16, 17, 18, 19, 20],\n",
              "       [21, 22, 23, 24, 25]])"
            ]
          },
          "metadata": {},
          "execution_count": 79
        }
      ]
    },
    {
      "cell_type": "code",
      "source": [
        "np.sum(mat)"
      ],
      "metadata": {
        "id": "_L-B4FnW6Eqs",
        "colab": {
          "base_uri": "https://localhost:8080/"
        },
        "outputId": "aab72d5f-dbde-4932-ef46-94426a921bd3"
      },
      "execution_count": 80,
      "outputs": [
        {
          "output_type": "execute_result",
          "data": {
            "text/plain": [
              "325"
            ]
          },
          "metadata": {},
          "execution_count": 80
        }
      ]
    },
    {
      "cell_type": "code",
      "source": [
        "mat.sum()"
      ],
      "metadata": {
        "id": "ja3DQk5A3tHt",
        "colab": {
          "base_uri": "https://localhost:8080/"
        },
        "outputId": "1e9dbe0b-12c5-44f5-9375-79ff2689f7d9"
      },
      "execution_count": 81,
      "outputs": [
        {
          "output_type": "execute_result",
          "data": {
            "text/plain": [
              "325"
            ]
          },
          "metadata": {},
          "execution_count": 81
        }
      ]
    },
    {
      "cell_type": "code",
      "source": [
        "np.std(mat)"
      ],
      "metadata": {
        "id": "lSCPtv1I3pEP",
        "colab": {
          "base_uri": "https://localhost:8080/"
        },
        "outputId": "90c4fc01-80e3-4710-cf1e-fa7680a52da0"
      },
      "execution_count": 82,
      "outputs": [
        {
          "output_type": "execute_result",
          "data": {
            "text/plain": [
              "7.211102550927978"
            ]
          },
          "metadata": {},
          "execution_count": 82
        }
      ]
    },
    {
      "cell_type": "code",
      "source": [
        "mat.std()"
      ],
      "metadata": {
        "colab": {
          "base_uri": "https://localhost:8080/"
        },
        "id": "G0bLpErD_yhB",
        "outputId": "763dd93c-1cd9-4dfa-b011-b34f00c1fb84"
      },
      "execution_count": 83,
      "outputs": [
        {
          "output_type": "execute_result",
          "data": {
            "text/plain": [
              "7.211102550927978"
            ]
          },
          "metadata": {},
          "execution_count": 83
        }
      ]
    },
    {
      "cell_type": "code",
      "source": [
        "# sum of all cols\n",
        "mat.sum(axis=0)"
      ],
      "metadata": {
        "id": "jVMccCKi3Ovd",
        "colab": {
          "base_uri": "https://localhost:8080/"
        },
        "outputId": "4e354303-0024-4d9b-ee0c-879f8ed0e017"
      },
      "execution_count": 84,
      "outputs": [
        {
          "output_type": "execute_result",
          "data": {
            "text/plain": [
              "array([55, 60, 65, 70, 75])"
            ]
          },
          "metadata": {},
          "execution_count": 84
        }
      ]
    },
    {
      "cell_type": "code",
      "source": [
        "# sum of all rows\n",
        "mat.sum(axis=1)"
      ],
      "metadata": {
        "id": "PKUCEddvm4jZ",
        "colab": {
          "base_uri": "https://localhost:8080/"
        },
        "outputId": "bd1ff4fb-e5fb-4294-9721-9f64cfbad594"
      },
      "execution_count": 85,
      "outputs": [
        {
          "output_type": "execute_result",
          "data": {
            "text/plain": [
              "array([ 15,  40,  65,  90, 115])"
            ]
          },
          "metadata": {},
          "execution_count": 85
        }
      ]
    },
    {
      "cell_type": "markdown",
      "source": [
        "# Numpy Opreations"
      ],
      "metadata": {
        "id": "6utgtq6_0H5y"
      }
    },
    {
      "cell_type": "code",
      "source": [
        "arr = np.arange(0,11)"
      ],
      "metadata": {
        "id": "qMgpBFzN0Jjc"
      },
      "execution_count": 86,
      "outputs": []
    },
    {
      "cell_type": "code",
      "source": [],
      "metadata": {
        "id": "dWS5ib_I0WlH"
      },
      "execution_count": 86,
      "outputs": []
    },
    {
      "cell_type": "code",
      "source": [
        "arr * 2"
      ],
      "metadata": {
        "colab": {
          "base_uri": "https://localhost:8080/"
        },
        "id": "WqXLfkZX0P89",
        "outputId": "e9ecf0a5-eb17-4f14-87f7-e4f54794542c"
      },
      "execution_count": 87,
      "outputs": [
        {
          "output_type": "execute_result",
          "data": {
            "text/plain": [
              "array([ 0,  2,  4,  6,  8, 10, 12, 14, 16, 18, 20])"
            ]
          },
          "metadata": {},
          "execution_count": 87
        }
      ]
    },
    {
      "cell_type": "code",
      "source": [],
      "metadata": {
        "id": "TBSFGFed0Qmp"
      },
      "execution_count": 87,
      "outputs": []
    },
    {
      "cell_type": "code",
      "source": [],
      "metadata": {
        "id": "gQkiEuu4m3Jr"
      },
      "execution_count": 87,
      "outputs": []
    },
    {
      "cell_type": "code",
      "source": [],
      "metadata": {
        "id": "saSFTiCdmemv"
      },
      "execution_count": 87,
      "outputs": []
    },
    {
      "cell_type": "code",
      "source": [],
      "metadata": {
        "id": "vAxJ97h1mdlE"
      },
      "execution_count": 87,
      "outputs": []
    },
    {
      "cell_type": "code",
      "source": [],
      "metadata": {
        "id": "ctxC1xWRmcL3"
      },
      "execution_count": 87,
      "outputs": []
    }
  ]
}