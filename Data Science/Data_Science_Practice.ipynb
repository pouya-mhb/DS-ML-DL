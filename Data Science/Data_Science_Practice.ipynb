{
  "nbformat": 4,
  "nbformat_minor": 0,
  "metadata": {
    "colab": {
      "provenance": []
    },
    "kernelspec": {
      "name": "python3",
      "display_name": "Python 3"
    },
    "language_info": {
      "name": "python"
    }
  },
  "cells": [
    {
      "cell_type": "code",
      "execution_count": 1,
      "metadata": {
        "id": "vtM9XvkG_T8z"
      },
      "outputs": [],
      "source": [
        "import numpy as np\n",
        "import pandas as pd\n",
        "import matplotlib.pyplot as plt\n",
        "import seaborn as sns\n",
        "import warnings\n",
        "warnings.filterwarnings(\"ignore\")"
      ]
    },
    {
      "cell_type": "markdown",
      "source": [
        "# Numpy Arrays"
      ],
      "metadata": {
        "id": "yfpWnmCXAqwA"
      }
    },
    {
      "cell_type": "code",
      "source": [
        "num_list = [1,2,3,4,5]"
      ],
      "metadata": {
        "id": "RzTdxkJ5AsHl"
      },
      "execution_count": 2,
      "outputs": []
    },
    {
      "cell_type": "code",
      "source": [
        "np_arr = np.array(num_list)"
      ],
      "metadata": {
        "id": "l8mRmRxNAvxc"
      },
      "execution_count": 3,
      "outputs": []
    },
    {
      "cell_type": "code",
      "source": [
        "np_arr"
      ],
      "metadata": {
        "colab": {
          "base_uri": "https://localhost:8080/"
        },
        "id": "TaPreeCxAzlm",
        "outputId": "66e7aa1f-e779-4b13-eb1e-1f82cb9efac7"
      },
      "execution_count": 4,
      "outputs": [
        {
          "output_type": "execute_result",
          "data": {
            "text/plain": [
              "array([1, 2, 3, 4, 5])"
            ]
          },
          "metadata": {},
          "execution_count": 4
        }
      ]
    },
    {
      "cell_type": "code",
      "source": [
        "num_list_2 = [[1, 2, 3], [4, 5, 6], [7, 8, 9]]"
      ],
      "metadata": {
        "id": "eShiQ7bsA0os"
      },
      "execution_count": 5,
      "outputs": []
    },
    {
      "cell_type": "code",
      "source": [
        "np_arr_2 = np.array(num_list_2)"
      ],
      "metadata": {
        "id": "i1UZAOx2BFIG"
      },
      "execution_count": 6,
      "outputs": []
    },
    {
      "cell_type": "code",
      "source": [
        "np_arr_2"
      ],
      "metadata": {
        "colab": {
          "base_uri": "https://localhost:8080/"
        },
        "id": "7HsHb1NHBGzx",
        "outputId": "19159099-6e43-4eec-a637-edc06c5bb20f"
      },
      "execution_count": 7,
      "outputs": [
        {
          "output_type": "execute_result",
          "data": {
            "text/plain": [
              "array([[1, 2, 3],\n",
              "       [4, 5, 6],\n",
              "       [7, 8, 9]])"
            ]
          },
          "metadata": {},
          "execution_count": 7
        }
      ]
    },
    {
      "cell_type": "code",
      "source": [
        "np.arange(0,10)"
      ],
      "metadata": {
        "colab": {
          "base_uri": "https://localhost:8080/"
        },
        "id": "r5QlK2tFBIll",
        "outputId": "d6e6a032-049c-4ee0-9a62-374882f822de"
      },
      "execution_count": 8,
      "outputs": [
        {
          "output_type": "execute_result",
          "data": {
            "text/plain": [
              "array([0, 1, 2, 3, 4, 5, 6, 7, 8, 9])"
            ]
          },
          "metadata": {},
          "execution_count": 8
        }
      ]
    },
    {
      "cell_type": "code",
      "source": [
        "np.arange(0,10,2)"
      ],
      "metadata": {
        "colab": {
          "base_uri": "https://localhost:8080/"
        },
        "id": "aCcRV0OtBNLI",
        "outputId": "713c6a26-fc98-4a3b-b668-7a6d05da1206"
      },
      "execution_count": 9,
      "outputs": [
        {
          "output_type": "execute_result",
          "data": {
            "text/plain": [
              "array([0, 2, 4, 6, 8])"
            ]
          },
          "metadata": {},
          "execution_count": 9
        }
      ]
    },
    {
      "cell_type": "code",
      "source": [
        "np.arange(0,10,3)"
      ],
      "metadata": {
        "colab": {
          "base_uri": "https://localhost:8080/"
        },
        "id": "74yvrY9jBeVJ",
        "outputId": "8bceb81a-8804-4dd4-d98c-956a444f4c39"
      },
      "execution_count": 10,
      "outputs": [
        {
          "output_type": "execute_result",
          "data": {
            "text/plain": [
              "array([0, 3, 6, 9])"
            ]
          },
          "metadata": {},
          "execution_count": 10
        }
      ]
    },
    {
      "cell_type": "code",
      "source": [
        "np.linspace(0,10,100)"
      ],
      "metadata": {
        "colab": {
          "base_uri": "https://localhost:8080/"
        },
        "id": "aQaZc38fuvAn",
        "outputId": "e03d4fd7-2d34-414e-fb94-ad263d7624f4"
      },
      "execution_count": 54,
      "outputs": [
        {
          "output_type": "execute_result",
          "data": {
            "text/plain": [
              "array([ 0.        ,  0.1010101 ,  0.2020202 ,  0.3030303 ,  0.4040404 ,\n",
              "        0.50505051,  0.60606061,  0.70707071,  0.80808081,  0.90909091,\n",
              "        1.01010101,  1.11111111,  1.21212121,  1.31313131,  1.41414141,\n",
              "        1.51515152,  1.61616162,  1.71717172,  1.81818182,  1.91919192,\n",
              "        2.02020202,  2.12121212,  2.22222222,  2.32323232,  2.42424242,\n",
              "        2.52525253,  2.62626263,  2.72727273,  2.82828283,  2.92929293,\n",
              "        3.03030303,  3.13131313,  3.23232323,  3.33333333,  3.43434343,\n",
              "        3.53535354,  3.63636364,  3.73737374,  3.83838384,  3.93939394,\n",
              "        4.04040404,  4.14141414,  4.24242424,  4.34343434,  4.44444444,\n",
              "        4.54545455,  4.64646465,  4.74747475,  4.84848485,  4.94949495,\n",
              "        5.05050505,  5.15151515,  5.25252525,  5.35353535,  5.45454545,\n",
              "        5.55555556,  5.65656566,  5.75757576,  5.85858586,  5.95959596,\n",
              "        6.06060606,  6.16161616,  6.26262626,  6.36363636,  6.46464646,\n",
              "        6.56565657,  6.66666667,  6.76767677,  6.86868687,  6.96969697,\n",
              "        7.07070707,  7.17171717,  7.27272727,  7.37373737,  7.47474747,\n",
              "        7.57575758,  7.67676768,  7.77777778,  7.87878788,  7.97979798,\n",
              "        8.08080808,  8.18181818,  8.28282828,  8.38383838,  8.48484848,\n",
              "        8.58585859,  8.68686869,  8.78787879,  8.88888889,  8.98989899,\n",
              "        9.09090909,  9.19191919,  9.29292929,  9.39393939,  9.49494949,\n",
              "        9.5959596 ,  9.6969697 ,  9.7979798 ,  9.8989899 , 10.        ])"
            ]
          },
          "metadata": {},
          "execution_count": 54
        }
      ]
    },
    {
      "cell_type": "code",
      "source": [
        "np.eye(5)"
      ],
      "metadata": {
        "colab": {
          "base_uri": "https://localhost:8080/"
        },
        "id": "vzvJEw6IuxIo",
        "outputId": "9162030a-6cda-4a58-e779-15c67e86c0f5"
      },
      "execution_count": 56,
      "outputs": [
        {
          "output_type": "execute_result",
          "data": {
            "text/plain": [
              "array([[1., 0., 0., 0., 0.],\n",
              "       [0., 1., 0., 0., 0.],\n",
              "       [0., 0., 1., 0., 0.],\n",
              "       [0., 0., 0., 1., 0.],\n",
              "       [0., 0., 0., 0., 1.]])"
            ]
          },
          "metadata": {},
          "execution_count": 56
        }
      ]
    },
    {
      "cell_type": "code",
      "source": [
        "np.random.rand(5)"
      ],
      "metadata": {
        "colab": {
          "base_uri": "https://localhost:8080/"
        },
        "id": "78J9HwMUu49x",
        "outputId": "960a2a17-6a88-4519-e2e9-f654af9476e6"
      },
      "execution_count": 58,
      "outputs": [
        {
          "output_type": "execute_result",
          "data": {
            "text/plain": [
              "array([0.69290882, 0.9666298 , 0.31651719, 0.74966357, 0.73626047])"
            ]
          },
          "metadata": {},
          "execution_count": 58
        }
      ]
    },
    {
      "cell_type": "code",
      "source": [
        "np.random.randn(100)"
      ],
      "metadata": {
        "colab": {
          "base_uri": "https://localhost:8080/"
        },
        "id": "tPoZlM_wvAd2",
        "outputId": "098afd3e-cb5a-4194-e450-840776d2927e"
      },
      "execution_count": 59,
      "outputs": [
        {
          "output_type": "execute_result",
          "data": {
            "text/plain": [
              "array([ 8.31509275e-01,  1.36831966e+00, -1.17626843e+00,  7.55619255e-01,\n",
              "       -6.77660216e-02,  1.13084580e+00,  7.73421418e-01,  1.80040700e+00,\n",
              "        5.95576115e-01, -9.13286302e-01, -7.85885799e-01,  1.37278795e+00,\n",
              "        2.87191334e-01, -4.85501767e-01,  1.34508008e+00, -7.04143784e-01,\n",
              "       -1.68147509e+00, -7.95677889e-01,  1.93639309e+00, -7.78714992e-01,\n",
              "       -1.05791109e+00, -2.87388940e-01, -7.93713786e-01,  1.06214906e+00,\n",
              "        4.48038866e-01, -3.90418880e-02, -7.25793879e-01, -2.78242509e-01,\n",
              "       -1.17989444e+00, -3.71201072e-01, -9.89713309e-01, -1.76658243e-01,\n",
              "        2.34904356e+00, -5.86612054e-02,  5.01726801e-01, -3.57617440e-01,\n",
              "       -9.56587748e-01, -5.98627400e-02, -7.55488382e-01,  2.14079765e+00,\n",
              "        9.66660413e-02, -2.01575811e-02,  1.28972643e+00,  7.87988299e-01,\n",
              "       -2.98778989e-01,  1.44518877e+00, -1.91404284e-01, -4.73592648e-02,\n",
              "       -1.45411232e-01,  1.81481773e+00, -9.84771318e-01,  2.34694662e+00,\n",
              "       -7.06438835e-01,  5.00733301e-01, -6.22628532e-01, -4.02421740e-01,\n",
              "       -7.10241656e-01,  2.00979921e+00, -2.09354146e+00,  1.03856985e-01,\n",
              "       -3.88811492e-01, -9.03760656e-01, -4.69493567e-01,  7.93577799e-03,\n",
              "       -1.57256105e+00,  7.21504975e-01,  7.88512808e-01,  1.22854478e+00,\n",
              "        5.15135529e-01, -1.08856945e+00,  6.03260975e-01,  7.68731554e-01,\n",
              "       -1.90346242e-01, -1.07591941e+00, -1.13506907e+00,  1.19797700e-01,\n",
              "       -1.44084346e+00,  1.68176278e-04,  6.54880100e-01, -9.58361940e-01,\n",
              "       -4.44437320e-01,  2.15426314e+00, -1.58137252e+00, -8.76592608e-01,\n",
              "        5.16768648e-01, -1.33181639e+00,  1.34457243e-01,  8.15462733e-01,\n",
              "        3.27030524e-01, -7.17072833e-01,  3.38508173e-01,  7.11802160e-01,\n",
              "       -1.05040418e+00,  6.73485304e-01,  3.59319669e-01,  1.01952491e+00,\n",
              "        1.03025291e+00, -2.19396167e-01,  9.24410618e-01, -8.71852135e-01])"
            ]
          },
          "metadata": {},
          "execution_count": 59
        }
      ]
    },
    {
      "cell_type": "code",
      "source": [
        "arr = np.random.randint(1,100,10).reshape(2,5)\n",
        "arr"
      ],
      "metadata": {
        "colab": {
          "base_uri": "https://localhost:8080/"
        },
        "id": "BxxoAQ_6u_EJ",
        "outputId": "8dcbe7de-4feb-4c23-d341-b48ab7e29323"
      },
      "execution_count": 68,
      "outputs": [
        {
          "output_type": "execute_result",
          "data": {
            "text/plain": [
              "array([[54, 75, 44, 67, 23],\n",
              "       [77, 79, 74, 33, 75]])"
            ]
          },
          "metadata": {},
          "execution_count": 68
        }
      ]
    },
    {
      "cell_type": "code",
      "source": [
        "arr.max()"
      ],
      "metadata": {
        "colab": {
          "base_uri": "https://localhost:8080/"
        },
        "id": "LOBpHh0CvWfe",
        "outputId": "6862b9e5-5ced-4638-ab72-3beb7305d2d9"
      },
      "execution_count": 69,
      "outputs": [
        {
          "output_type": "execute_result",
          "data": {
            "text/plain": [
              "79"
            ]
          },
          "metadata": {},
          "execution_count": 69
        }
      ]
    },
    {
      "cell_type": "code",
      "source": [
        "arr.argmax()"
      ],
      "metadata": {
        "colab": {
          "base_uri": "https://localhost:8080/"
        },
        "id": "qrirZzTlvYNz",
        "outputId": "1a012d30-9bbd-4cd2-87b9-cb9f49dedfb8"
      },
      "execution_count": 71,
      "outputs": [
        {
          "output_type": "execute_result",
          "data": {
            "text/plain": [
              "6"
            ]
          },
          "metadata": {},
          "execution_count": 71
        }
      ]
    },
    {
      "cell_type": "code",
      "source": [
        "arr.min()"
      ],
      "metadata": {
        "colab": {
          "base_uri": "https://localhost:8080/"
        },
        "id": "omYhw3f_vXTf",
        "outputId": "28677403-482b-4324-ed65-2ee58c23e30d"
      },
      "execution_count": 70,
      "outputs": [
        {
          "output_type": "execute_result",
          "data": {
            "text/plain": [
              "23"
            ]
          },
          "metadata": {},
          "execution_count": 70
        }
      ]
    },
    {
      "cell_type": "code",
      "source": [
        "arr.argmin()"
      ],
      "metadata": {
        "colab": {
          "base_uri": "https://localhost:8080/"
        },
        "id": "3HCrUXCKvZ_h",
        "outputId": "cba754f0-79b4-4d81-fab7-1f9dfa2fd6a0"
      },
      "execution_count": 72,
      "outputs": [
        {
          "output_type": "execute_result",
          "data": {
            "text/plain": [
              "4"
            ]
          },
          "metadata": {},
          "execution_count": 72
        }
      ]
    },
    {
      "cell_type": "code",
      "source": [
        "arr.shape"
      ],
      "metadata": {
        "colab": {
          "base_uri": "https://localhost:8080/"
        },
        "id": "dBpe3-8ivb4i",
        "outputId": "b5ac2aa7-e37b-4c08-f4fd-48bb3a0a9133"
      },
      "execution_count": 73,
      "outputs": [
        {
          "output_type": "execute_result",
          "data": {
            "text/plain": [
              "(2, 5)"
            ]
          },
          "metadata": {},
          "execution_count": 73
        }
      ]
    },
    {
      "cell_type": "code",
      "source": [
        "arr.dtype"
      ],
      "metadata": {
        "colab": {
          "base_uri": "https://localhost:8080/"
        },
        "id": "vYp7N7cXvk2K",
        "outputId": "e3fc1730-16b4-4f89-95d5-13677a4b0fd7"
      },
      "execution_count": 75,
      "outputs": [
        {
          "output_type": "execute_result",
          "data": {
            "text/plain": [
              "dtype('int64')"
            ]
          },
          "metadata": {},
          "execution_count": 75
        }
      ]
    },
    {
      "cell_type": "code",
      "source": [
        "# prompt: arr turn to int32\n",
        "\n",
        "import numpy as np\n",
        "arr = arr.astype(np.int32)\n",
        "arr.dtype\n"
      ],
      "metadata": {
        "colab": {
          "base_uri": "https://localhost:8080/"
        },
        "id": "L_ctLPiuvrNp",
        "outputId": "431e7978-cdca-480f-9ee4-38cc662e80c9"
      },
      "execution_count": 76,
      "outputs": [
        {
          "output_type": "execute_result",
          "data": {
            "text/plain": [
              "dtype('int32')"
            ]
          },
          "metadata": {},
          "execution_count": 76
        }
      ]
    },
    {
      "cell_type": "markdown",
      "source": [
        "# Numpy Practices"
      ],
      "metadata": {
        "id": "mcnnyYa-nuvI"
      }
    },
    {
      "cell_type": "code",
      "source": [
        "zeros = np.zeros(3)\n",
        "zeros"
      ],
      "metadata": {
        "id": "4SLAP87g-jtR",
        "colab": {
          "base_uri": "https://localhost:8080/"
        },
        "outputId": "9c4061ef-8e99-4e7c-87c0-a029f18eeba0"
      },
      "execution_count": 11,
      "outputs": [
        {
          "output_type": "execute_result",
          "data": {
            "text/plain": [
              "array([0., 0., 0.])"
            ]
          },
          "metadata": {},
          "execution_count": 11
        }
      ]
    },
    {
      "cell_type": "code",
      "source": [
        "zeros + 5"
      ],
      "metadata": {
        "colab": {
          "base_uri": "https://localhost:8080/"
        },
        "id": "20blfmPHmF5O",
        "outputId": "3fd8ba2d-b5a6-480b-bac6-fa9a130ad68e"
      },
      "execution_count": 12,
      "outputs": [
        {
          "output_type": "execute_result",
          "data": {
            "text/plain": [
              "array([5., 5., 5.])"
            ]
          },
          "metadata": {},
          "execution_count": 12
        }
      ]
    },
    {
      "cell_type": "code",
      "source": [
        "ones = np.ones(5)\n",
        "ones"
      ],
      "metadata": {
        "colab": {
          "base_uri": "https://localhost:8080/"
        },
        "id": "z3qmsbCNlqoL",
        "outputId": "b9992c25-8fec-44a8-90e8-d708a149058d"
      },
      "execution_count": 13,
      "outputs": [
        {
          "output_type": "execute_result",
          "data": {
            "text/plain": [
              "array([1., 1., 1., 1., 1.])"
            ]
          },
          "metadata": {},
          "execution_count": 13
        }
      ]
    },
    {
      "cell_type": "code",
      "source": [
        "print(ones*5)"
      ],
      "metadata": {
        "colab": {
          "base_uri": "https://localhost:8080/"
        },
        "id": "I4dxkH-Glt9M",
        "outputId": "1294bcdc-9e19-4021-a814-3c9ac8f32bb9"
      },
      "execution_count": 14,
      "outputs": [
        {
          "output_type": "stream",
          "name": "stdout",
          "text": [
            "[5. 5. 5. 5. 5.]\n"
          ]
        }
      ]
    },
    {
      "cell_type": "code",
      "source": [
        "np.arange(10,20)"
      ],
      "metadata": {
        "colab": {
          "base_uri": "https://localhost:8080/"
        },
        "id": "2XD3B75Dl1eZ",
        "outputId": "dbb3227b-53e0-4dc6-c13a-c578e21f825d"
      },
      "execution_count": 15,
      "outputs": [
        {
          "output_type": "execute_result",
          "data": {
            "text/plain": [
              "array([10, 11, 12, 13, 14, 15, 16, 17, 18, 19])"
            ]
          },
          "metadata": {},
          "execution_count": 15
        }
      ]
    },
    {
      "cell_type": "code",
      "source": [
        "nums = np.arange(9)\n",
        "nums"
      ],
      "metadata": {
        "colab": {
          "base_uri": "https://localhost:8080/"
        },
        "id": "WgmOB6ZnmDWO",
        "outputId": "938ad49f-de02-4d28-d525-495b6961ce01"
      },
      "execution_count": 16,
      "outputs": [
        {
          "output_type": "execute_result",
          "data": {
            "text/plain": [
              "array([0, 1, 2, 3, 4, 5, 6, 7, 8])"
            ]
          },
          "metadata": {},
          "execution_count": 16
        }
      ]
    },
    {
      "cell_type": "code",
      "source": [
        "nums.reshape (3,3)"
      ],
      "metadata": {
        "colab": {
          "base_uri": "https://localhost:8080/"
        },
        "id": "6yYSVt-BmTQA",
        "outputId": "5a60956a-0f3c-424b-b0f5-28e66c27f4a2"
      },
      "execution_count": 17,
      "outputs": [
        {
          "output_type": "execute_result",
          "data": {
            "text/plain": [
              "array([[0, 1, 2],\n",
              "       [3, 4, 5],\n",
              "       [6, 7, 8]])"
            ]
          },
          "metadata": {},
          "execution_count": 17
        }
      ]
    },
    {
      "cell_type": "code",
      "source": [
        "np.random.rand"
      ],
      "metadata": {
        "colab": {
          "base_uri": "https://localhost:8080/"
        },
        "id": "CvXdZmQQmViS",
        "outputId": "5dd96d96-9b84-4080-ae30-0a9c24035de7"
      },
      "execution_count": 18,
      "outputs": [
        {
          "output_type": "execute_result",
          "data": {
            "text/plain": [
              "<function RandomState.rand>"
            ]
          },
          "metadata": {},
          "execution_count": 18
        }
      ]
    },
    {
      "cell_type": "code",
      "source": [
        "np.random.rand(5)"
      ],
      "metadata": {
        "colab": {
          "base_uri": "https://localhost:8080/"
        },
        "id": "pS9oFWp1mt1F",
        "outputId": "a9d353ec-ebca-4b43-f06b-a08c4d358672"
      },
      "execution_count": 19,
      "outputs": [
        {
          "output_type": "execute_result",
          "data": {
            "text/plain": [
              "array([0.16400561, 0.41411985, 0.31537413, 0.31101057, 0.64644476])"
            ]
          },
          "metadata": {},
          "execution_count": 19
        }
      ]
    },
    {
      "cell_type": "code",
      "source": [
        "np.random.randint(9)"
      ],
      "metadata": {
        "colab": {
          "base_uri": "https://localhost:8080/"
        },
        "id": "3qRbvRK8nLnb",
        "outputId": "293e2e57-6095-4d70-c2a9-d9a9b07ec907"
      },
      "execution_count": 20,
      "outputs": [
        {
          "output_type": "execute_result",
          "data": {
            "text/plain": [
              "3"
            ]
          },
          "metadata": {},
          "execution_count": 20
        }
      ]
    },
    {
      "cell_type": "code",
      "source": [
        "np.random.randint(9,size=9)"
      ],
      "metadata": {
        "colab": {
          "base_uri": "https://localhost:8080/"
        },
        "id": "8UC6CqGHnM57",
        "outputId": "98f53fa6-a28e-468e-fe59-451cd701dbf2"
      },
      "execution_count": 21,
      "outputs": [
        {
          "output_type": "execute_result",
          "data": {
            "text/plain": [
              "array([7, 7, 7, 2, 3, 1, 5, 0, 7])"
            ]
          },
          "metadata": {},
          "execution_count": 21
        }
      ]
    },
    {
      "cell_type": "code",
      "source": [
        "np.random.randint(5,size=9).reshape(3,3)"
      ],
      "metadata": {
        "colab": {
          "base_uri": "https://localhost:8080/"
        },
        "id": "-nbHCWR8nTWM",
        "outputId": "2c9aec2d-60c7-41be-a204-99a4c528245c"
      },
      "execution_count": 22,
      "outputs": [
        {
          "output_type": "execute_result",
          "data": {
            "text/plain": [
              "array([[3, 4, 2],\n",
              "       [2, 1, 4],\n",
              "       [2, 3, 0]])"
            ]
          },
          "metadata": {},
          "execution_count": 22
        }
      ]
    },
    {
      "cell_type": "code",
      "source": [
        "np.random.exponential(scale=1)"
      ],
      "metadata": {
        "colab": {
          "base_uri": "https://localhost:8080/"
        },
        "id": "WJy4uNdumwR-",
        "outputId": "cfa2d86a-9468-4001-d710-3fafa415486a"
      },
      "execution_count": 23,
      "outputs": [
        {
          "output_type": "execute_result",
          "data": {
            "text/plain": [
              "0.14644758548406617"
            ]
          },
          "metadata": {},
          "execution_count": 23
        }
      ]
    },
    {
      "cell_type": "code",
      "source": [
        "np.random.exponential(size=5)"
      ],
      "metadata": {
        "colab": {
          "base_uri": "https://localhost:8080/"
        },
        "id": "fKc3Sx5Om-ps",
        "outputId": "2f067b1e-1422-4d36-d212-8124467147a0"
      },
      "execution_count": 24,
      "outputs": [
        {
          "output_type": "execute_result",
          "data": {
            "text/plain": [
              "array([0.14143723, 0.95736326, 0.2609685 , 0.19719655, 0.15346098])"
            ]
          },
          "metadata": {},
          "execution_count": 24
        }
      ]
    },
    {
      "cell_type": "code",
      "source": [
        "np.random.exponential(scale=1,size=5)"
      ],
      "metadata": {
        "colab": {
          "base_uri": "https://localhost:8080/"
        },
        "id": "MGoO3WjQnBNB",
        "outputId": "9d73dabe-8d4b-4591-a085-d316c7834f8c"
      },
      "execution_count": 25,
      "outputs": [
        {
          "output_type": "execute_result",
          "data": {
            "text/plain": [
              "array([0.49003066, 0.42481996, 0.06824649, 0.21149986, 0.17881375])"
            ]
          },
          "metadata": {},
          "execution_count": 25
        }
      ]
    },
    {
      "cell_type": "code",
      "source": [
        "np.random.randn(25) # 25 rand numbers from a standard normal distribution"
      ],
      "metadata": {
        "colab": {
          "base_uri": "https://localhost:8080/"
        },
        "id": "KwVBbyOGnDsU",
        "outputId": "6df0c7a5-4fe4-4c3a-8c40-bc16036d7889"
      },
      "execution_count": 26,
      "outputs": [
        {
          "output_type": "execute_result",
          "data": {
            "text/plain": [
              "array([ 0.9457096 , -2.08975936, -0.10120439,  0.9178201 ,  1.18841444,\n",
              "       -0.40729885,  1.482753  , -0.72645905, -0.9193216 ,  0.82106246,\n",
              "       -0.68488526,  0.90670262, -0.55755954, -0.07846309,  0.19056648,\n",
              "        0.61964518, -1.73080039, -0.01854243, -0.58122407, -0.3664355 ,\n",
              "        0.55025089, -0.20630648,  0.15724756, -1.56292462, -0.07916613])"
            ]
          },
          "metadata": {},
          "execution_count": 26
        }
      ]
    },
    {
      "cell_type": "code",
      "source": [
        "np.random.randn(25).shape"
      ],
      "metadata": {
        "colab": {
          "base_uri": "https://localhost:8080/"
        },
        "id": "HAW8Omqtn5Op",
        "outputId": "c3a1b95b-4d0f-4df1-d735-4c3683d157d2"
      },
      "execution_count": 27,
      "outputs": [
        {
          "output_type": "execute_result",
          "data": {
            "text/plain": [
              "(25,)"
            ]
          },
          "metadata": {},
          "execution_count": 27
        }
      ]
    },
    {
      "cell_type": "code",
      "source": [
        "# create a  matrix from 0.01 to 1\n",
        "# solution 1"
      ],
      "metadata": {
        "id": "Vr1IdRyWn_S6"
      },
      "execution_count": 28,
      "outputs": []
    },
    {
      "cell_type": "code",
      "source": [
        "np.arange(1,101) / 100 # arange gives you 1 - 100"
      ],
      "metadata": {
        "colab": {
          "base_uri": "https://localhost:8080/"
        },
        "id": "OSTkQ3w93Jcu",
        "outputId": "381821d2-b5f0-4345-f539-ff0ba99132de"
      },
      "execution_count": 29,
      "outputs": [
        {
          "output_type": "execute_result",
          "data": {
            "text/plain": [
              "array([0.01, 0.02, 0.03, 0.04, 0.05, 0.06, 0.07, 0.08, 0.09, 0.1 , 0.11,\n",
              "       0.12, 0.13, 0.14, 0.15, 0.16, 0.17, 0.18, 0.19, 0.2 , 0.21, 0.22,\n",
              "       0.23, 0.24, 0.25, 0.26, 0.27, 0.28, 0.29, 0.3 , 0.31, 0.32, 0.33,\n",
              "       0.34, 0.35, 0.36, 0.37, 0.38, 0.39, 0.4 , 0.41, 0.42, 0.43, 0.44,\n",
              "       0.45, 0.46, 0.47, 0.48, 0.49, 0.5 , 0.51, 0.52, 0.53, 0.54, 0.55,\n",
              "       0.56, 0.57, 0.58, 0.59, 0.6 , 0.61, 0.62, 0.63, 0.64, 0.65, 0.66,\n",
              "       0.67, 0.68, 0.69, 0.7 , 0.71, 0.72, 0.73, 0.74, 0.75, 0.76, 0.77,\n",
              "       0.78, 0.79, 0.8 , 0.81, 0.82, 0.83, 0.84, 0.85, 0.86, 0.87, 0.88,\n",
              "       0.89, 0.9 , 0.91, 0.92, 0.93, 0.94, 0.95, 0.96, 0.97, 0.98, 0.99,\n",
              "       1.  ])"
            ]
          },
          "metadata": {},
          "execution_count": 29
        }
      ]
    },
    {
      "cell_type": "code",
      "source": [
        "np.linspace(0.01,1,100).reshape(2,2,5,5) # 4 dimention on 5*5"
      ],
      "metadata": {
        "colab": {
          "base_uri": "https://localhost:8080/"
        },
        "id": "s8Ou8g7J3TOh",
        "outputId": "ed29fbf8-b902-427e-8ee7-6f384915fe48"
      },
      "execution_count": 30,
      "outputs": [
        {
          "output_type": "execute_result",
          "data": {
            "text/plain": [
              "array([[[[0.01, 0.02, 0.03, 0.04, 0.05],\n",
              "         [0.06, 0.07, 0.08, 0.09, 0.1 ],\n",
              "         [0.11, 0.12, 0.13, 0.14, 0.15],\n",
              "         [0.16, 0.17, 0.18, 0.19, 0.2 ],\n",
              "         [0.21, 0.22, 0.23, 0.24, 0.25]],\n",
              "\n",
              "        [[0.26, 0.27, 0.28, 0.29, 0.3 ],\n",
              "         [0.31, 0.32, 0.33, 0.34, 0.35],\n",
              "         [0.36, 0.37, 0.38, 0.39, 0.4 ],\n",
              "         [0.41, 0.42, 0.43, 0.44, 0.45],\n",
              "         [0.46, 0.47, 0.48, 0.49, 0.5 ]]],\n",
              "\n",
              "\n",
              "       [[[0.51, 0.52, 0.53, 0.54, 0.55],\n",
              "         [0.56, 0.57, 0.58, 0.59, 0.6 ],\n",
              "         [0.61, 0.62, 0.63, 0.64, 0.65],\n",
              "         [0.66, 0.67, 0.68, 0.69, 0.7 ],\n",
              "         [0.71, 0.72, 0.73, 0.74, 0.75]],\n",
              "\n",
              "        [[0.76, 0.77, 0.78, 0.79, 0.8 ],\n",
              "         [0.81, 0.82, 0.83, 0.84, 0.85],\n",
              "         [0.86, 0.87, 0.88, 0.89, 0.9 ],\n",
              "         [0.91, 0.92, 0.93, 0.94, 0.95],\n",
              "         [0.96, 0.97, 0.98, 0.99, 1.  ]]]])"
            ]
          },
          "metadata": {},
          "execution_count": 30
        }
      ]
    },
    {
      "cell_type": "code",
      "source": [
        "np.linspace(0,1,20) # 20 linearly spaced points 0-1"
      ],
      "metadata": {
        "colab": {
          "base_uri": "https://localhost:8080/"
        },
        "id": "pKBJ2Z8w4DMU",
        "outputId": "ccfc4f0c-b4d2-4b27-9bdf-38b461c793a3"
      },
      "execution_count": 31,
      "outputs": [
        {
          "output_type": "execute_result",
          "data": {
            "text/plain": [
              "array([0.        , 0.05263158, 0.10526316, 0.15789474, 0.21052632,\n",
              "       0.26315789, 0.31578947, 0.36842105, 0.42105263, 0.47368421,\n",
              "       0.52631579, 0.57894737, 0.63157895, 0.68421053, 0.73684211,\n",
              "       0.78947368, 0.84210526, 0.89473684, 0.94736842, 1.        ])"
            ]
          },
          "metadata": {},
          "execution_count": 31
        }
      ]
    },
    {
      "cell_type": "markdown",
      "source": [
        "## numpy indexing and selection"
      ],
      "metadata": {
        "id": "93H6AcFe4e09"
      }
    },
    {
      "cell_type": "code",
      "source": [
        "mat = np.arange(1,26).reshape(5,5)\n",
        "mat"
      ],
      "metadata": {
        "colab": {
          "base_uri": "https://localhost:8080/"
        },
        "id": "syKSXnDy4hDD",
        "outputId": "9e9ccc27-7660-42e1-f2c8-971232fdfb63"
      },
      "execution_count": 32,
      "outputs": [
        {
          "output_type": "execute_result",
          "data": {
            "text/plain": [
              "array([[ 1,  2,  3,  4,  5],\n",
              "       [ 6,  7,  8,  9, 10],\n",
              "       [11, 12, 13, 14, 15],\n",
              "       [16, 17, 18, 19, 20],\n",
              "       [21, 22, 23, 24, 25]])"
            ]
          },
          "metadata": {},
          "execution_count": 32
        }
      ]
    },
    {
      "cell_type": "code",
      "source": [
        "mat[2:] # row 2 - end"
      ],
      "metadata": {
        "colab": {
          "base_uri": "https://localhost:8080/"
        },
        "id": "AhbBD1ib4p3-",
        "outputId": "8bf18885-252c-4c4b-cb38-c938da957e4d"
      },
      "execution_count": 33,
      "outputs": [
        {
          "output_type": "execute_result",
          "data": {
            "text/plain": [
              "array([[11, 12, 13, 14, 15],\n",
              "       [16, 17, 18, 19, 20],\n",
              "       [21, 22, 23, 24, 25]])"
            ]
          },
          "metadata": {},
          "execution_count": 33
        }
      ]
    },
    {
      "cell_type": "code",
      "source": [
        "mat[2:,:1] # row 2 , col 0"
      ],
      "metadata": {
        "colab": {
          "base_uri": "https://localhost:8080/"
        },
        "id": "ocx2WDP14wva",
        "outputId": "b01f30c2-cf07-419e-cf35-efc7471d5f26"
      },
      "execution_count": 34,
      "outputs": [
        {
          "output_type": "execute_result",
          "data": {
            "text/plain": [
              "array([[11],\n",
              "       [16],\n",
              "       [21]])"
            ]
          },
          "metadata": {},
          "execution_count": 34
        }
      ]
    },
    {
      "cell_type": "code",
      "source": [
        "mat[2:,:2] # row 2 - col 0 and 1"
      ],
      "metadata": {
        "colab": {
          "base_uri": "https://localhost:8080/"
        },
        "id": "poIJjkpd4zu7",
        "outputId": "49855c46-0276-46a5-8139-7c2c04da8222"
      },
      "execution_count": 35,
      "outputs": [
        {
          "output_type": "execute_result",
          "data": {
            "text/plain": [
              "array([[11, 12],\n",
              "       [16, 17],\n",
              "       [21, 22]])"
            ]
          },
          "metadata": {},
          "execution_count": 35
        }
      ]
    },
    {
      "cell_type": "code",
      "source": [
        "mat[2:,1:2]"
      ],
      "metadata": {
        "colab": {
          "base_uri": "https://localhost:8080/"
        },
        "id": "pPV9-1ax-TcD",
        "outputId": "b9d898ec-732d-405a-909a-d872d18a2113"
      },
      "execution_count": 36,
      "outputs": [
        {
          "output_type": "execute_result",
          "data": {
            "text/plain": [
              "array([[12],\n",
              "       [17],\n",
              "       [22]])"
            ]
          },
          "metadata": {},
          "execution_count": 36
        }
      ]
    },
    {
      "cell_type": "code",
      "source": [
        "mat[2:,1:2].shape"
      ],
      "metadata": {
        "colab": {
          "base_uri": "https://localhost:8080/"
        },
        "id": "gYHXuTVU-kFn",
        "outputId": "50e30da7-d42c-4b9d-ed11-f86c374878b5"
      },
      "execution_count": 37,
      "outputs": [
        {
          "output_type": "execute_result",
          "data": {
            "text/plain": [
              "(3, 1)"
            ]
          },
          "metadata": {},
          "execution_count": 37
        }
      ]
    },
    {
      "cell_type": "code",
      "source": [
        "mat[2:,1:]"
      ],
      "metadata": {
        "colab": {
          "base_uri": "https://localhost:8080/"
        },
        "id": "enNnPQSJ4dr9",
        "outputId": "39634182-704c-457a-c101-7dbaf1aedf98"
      },
      "execution_count": 38,
      "outputs": [
        {
          "output_type": "execute_result",
          "data": {
            "text/plain": [
              "array([[12, 13, 14, 15],\n",
              "       [17, 18, 19, 20],\n",
              "       [22, 23, 24, 25]])"
            ]
          },
          "metadata": {},
          "execution_count": 38
        }
      ]
    },
    {
      "cell_type": "code",
      "source": [
        "mat[2:,1]"
      ],
      "metadata": {
        "colab": {
          "base_uri": "https://localhost:8080/"
        },
        "id": "7tWQPaiz-sDL",
        "outputId": "104905cf-a155-400e-fe19-50d86f32a8b8"
      },
      "execution_count": 39,
      "outputs": [
        {
          "output_type": "execute_result",
          "data": {
            "text/plain": [
              "array([12, 17, 22])"
            ]
          },
          "metadata": {},
          "execution_count": 39
        }
      ]
    },
    {
      "cell_type": "code",
      "source": [
        "mat[3,4]"
      ],
      "metadata": {
        "colab": {
          "base_uri": "https://localhost:8080/"
        },
        "id": "aembnqQz4Vgo",
        "outputId": "fa11fb55-7b7b-4ed3-8334-0c794060888e"
      },
      "execution_count": 40,
      "outputs": [
        {
          "output_type": "execute_result",
          "data": {
            "text/plain": [
              "20"
            ]
          },
          "metadata": {},
          "execution_count": 40
        }
      ]
    },
    {
      "cell_type": "code",
      "source": [
        "mat.shape"
      ],
      "metadata": {
        "colab": {
          "base_uri": "https://localhost:8080/"
        },
        "id": "G_QV6R1m5rlw",
        "outputId": "130fed65-769b-41b9-aaa3-f9a69e9563c0"
      },
      "execution_count": 41,
      "outputs": [
        {
          "output_type": "execute_result",
          "data": {
            "text/plain": [
              "(5, 5)"
            ]
          },
          "metadata": {},
          "execution_count": 41
        }
      ]
    },
    {
      "source": [
        "# Since mat[1][1] will always be 7, the if condition is redundant.\n",
        "# We can directly print all elements of 'mat' using a nested loop:\n",
        "\n",
        "for i in range(mat.shape[0]):  # Iterate through rows\n",
        "    for j in range(mat.shape[1]):  # Iterate through columns\n",
        "        if mat[i,j] == 20:\n",
        "          print(i,j, mat[i, j])"
      ],
      "cell_type": "code",
      "metadata": {
        "colab": {
          "base_uri": "https://localhost:8080/"
        },
        "id": "XmpCDREX7VJC",
        "outputId": "8594accb-b34e-49eb-c6e1-e2a5ab1758e0"
      },
      "execution_count": 42,
      "outputs": [
        {
          "output_type": "stream",
          "name": "stdout",
          "text": [
            "3 4 20\n"
          ]
        }
      ]
    },
    {
      "cell_type": "markdown",
      "source": [
        "range(mat.shape[0], mat.shape[1]): This creates a sequence of numbers starting from mat.shape[0] (5) and ending before mat.shape[1] (5). It generates a sequence from 5 to 5 (non-inclusive). Because the start and end is the same, this range is empty meaning it has no values."
      ],
      "metadata": {
        "id": "IGK79gVM-LIf"
      }
    },
    {
      "cell_type": "code",
      "source": [
        "for i,j in range(mat.shape[0], mat.shape[1]):\n",
        "  print (i,j)\n",
        "  # if mat[i,j] == 20 :\n",
        "  #   print(i,j, mat[i,j])"
      ],
      "metadata": {
        "id": "bSUzxpY57vCE"
      },
      "execution_count": 43,
      "outputs": []
    },
    {
      "cell_type": "code",
      "source": [
        "# last row\n",
        "mat[4:,:]"
      ],
      "metadata": {
        "colab": {
          "base_uri": "https://localhost:8080/"
        },
        "id": "_xQ2Riaa9jRX",
        "outputId": "e63daf6d-887b-476f-daed-37df2c991bd0"
      },
      "execution_count": 44,
      "outputs": [
        {
          "output_type": "execute_result",
          "data": {
            "text/plain": [
              "array([[21, 22, 23, 24, 25]])"
            ]
          },
          "metadata": {},
          "execution_count": 44
        }
      ]
    },
    {
      "cell_type": "code",
      "source": [
        "# last row\n",
        "mat[-1:,:]"
      ],
      "metadata": {
        "id": "q2XaJlUp6imE",
        "colab": {
          "base_uri": "https://localhost:8080/"
        },
        "outputId": "bf3ef98f-1e4a-4973-ccfb-57854068dbf5"
      },
      "execution_count": 45,
      "outputs": [
        {
          "output_type": "execute_result",
          "data": {
            "text/plain": [
              "array([[21, 22, 23, 24, 25]])"
            ]
          },
          "metadata": {},
          "execution_count": 45
        }
      ]
    },
    {
      "cell_type": "code",
      "source": [
        "new_arr = np.arange(1,10)\n",
        "new_arr"
      ],
      "metadata": {
        "colab": {
          "base_uri": "https://localhost:8080/"
        },
        "id": "lpgVbhj_wVG6",
        "outputId": "f128a064-efa3-42e9-cdea-fb61bb1c3de9"
      },
      "execution_count": 91,
      "outputs": [
        {
          "output_type": "execute_result",
          "data": {
            "text/plain": [
              "array([1, 2, 3, 4, 5, 6, 7, 8, 9])"
            ]
          },
          "metadata": {},
          "execution_count": 91
        }
      ]
    },
    {
      "cell_type": "code",
      "source": [
        "slice_of_new_arr = new_arr[:6]\n",
        "slice_of_new_arr"
      ],
      "metadata": {
        "colab": {
          "base_uri": "https://localhost:8080/"
        },
        "id": "XkWC7fcewatF",
        "outputId": "e85c3c38-c178-41e8-a52b-7ed184b2fd76"
      },
      "execution_count": 92,
      "outputs": [
        {
          "output_type": "execute_result",
          "data": {
            "text/plain": [
              "array([1, 2, 3, 4, 5, 6])"
            ]
          },
          "metadata": {},
          "execution_count": 92
        }
      ]
    },
    {
      "cell_type": "code",
      "source": [
        "slice_of_new_arr[:] = 99\n",
        "slice_of_new_arr"
      ],
      "metadata": {
        "colab": {
          "base_uri": "https://localhost:8080/"
        },
        "id": "ZlT6mpOHwxYU",
        "outputId": "35e91140-4e36-4317-f319-9ea8b2004468"
      },
      "execution_count": 89,
      "outputs": [
        {
          "output_type": "execute_result",
          "data": {
            "text/plain": [
              "array([99, 99, 99, 99, 99, 99])"
            ]
          },
          "metadata": {},
          "execution_count": 89
        }
      ]
    },
    {
      "cell_type": "code",
      "source": [
        "new_arr"
      ],
      "metadata": {
        "colab": {
          "base_uri": "https://localhost:8080/"
        },
        "id": "rceNVr3KxYed",
        "outputId": "73be6d74-b9f6-41b8-8078-9c33153c5dc9"
      },
      "execution_count": 93,
      "outputs": [
        {
          "output_type": "execute_result",
          "data": {
            "text/plain": [
              "array([1, 2, 3, 4, 5, 6, 7, 8, 9])"
            ]
          },
          "metadata": {},
          "execution_count": 93
        }
      ]
    },
    {
      "cell_type": "code",
      "source": [
        "arr_copy = new_arr.copy() # copy the array\n",
        "arr_copy"
      ],
      "metadata": {
        "colab": {
          "base_uri": "https://localhost:8080/"
        },
        "id": "FtID4eUJxd5b",
        "outputId": "e6e49c3a-be32-4631-dd4d-d76dc607a6a8"
      },
      "execution_count": 94,
      "outputs": [
        {
          "output_type": "execute_result",
          "data": {
            "text/plain": [
              "array([1, 2, 3, 4, 5, 6, 7, 8, 9])"
            ]
          },
          "metadata": {},
          "execution_count": 94
        }
      ]
    },
    {
      "cell_type": "code",
      "source": [
        "arr_copy [:] = 100\n",
        "arr_copy"
      ],
      "metadata": {
        "colab": {
          "base_uri": "https://localhost:8080/"
        },
        "id": "nGkJC1nZxkfr",
        "outputId": "b0e30496-882a-444b-900e-757ab0be0b3e"
      },
      "execution_count": 95,
      "outputs": [
        {
          "output_type": "execute_result",
          "data": {
            "text/plain": [
              "array([100, 100, 100, 100, 100, 100, 100, 100, 100])"
            ]
          },
          "metadata": {},
          "execution_count": 95
        }
      ]
    },
    {
      "cell_type": "code",
      "source": [
        "new_arr"
      ],
      "metadata": {
        "colab": {
          "base_uri": "https://localhost:8080/"
        },
        "id": "Ez0R4Nnwxy7l",
        "outputId": "d2e06e7d-2c3f-4d8e-b5c7-31337849f25a"
      },
      "execution_count": 96,
      "outputs": [
        {
          "output_type": "execute_result",
          "data": {
            "text/plain": [
              "array([1, 2, 3, 4, 5, 6, 7, 8, 9])"
            ]
          },
          "metadata": {},
          "execution_count": 96
        }
      ]
    },
    {
      "cell_type": "code",
      "source": [
        "# prompt: generate a 2d array\n",
        "\n",
        "import numpy as np\n",
        "# Create a 2D array (matrix) with random integers\n",
        "rows = 5  # Number of rows\n",
        "cols = 3  # Number of columns\n",
        "min_val = 1\n",
        "max_val = 10\n",
        "\n",
        "two_d_array = np.random.randint(min_val, max_val + 1, size=(rows, cols))\n",
        "\n",
        "two_d_array\n"
      ],
      "metadata": {
        "colab": {
          "base_uri": "https://localhost:8080/"
        },
        "id": "yPMf73JrwYaB",
        "outputId": "25647bf2-f365-49ae-9267-55fe62ea3a04"
      },
      "execution_count": 103,
      "outputs": [
        {
          "output_type": "execute_result",
          "data": {
            "text/plain": [
              "array([[ 5,  3,  8],\n",
              "       [ 5,  1,  1],\n",
              "       [ 5,  9,  3],\n",
              "       [ 3,  2, 10],\n",
              "       [ 4,  9,  7]])"
            ]
          },
          "metadata": {},
          "execution_count": 103
        }
      ]
    },
    {
      "cell_type": "code",
      "source": [
        "two_d_array[1][1]"
      ],
      "metadata": {
        "colab": {
          "base_uri": "https://localhost:8080/"
        },
        "id": "0yher_KpyOJl",
        "outputId": "2cf553af-da8a-4fbe-91d5-fd0e1d09babb"
      },
      "execution_count": 104,
      "outputs": [
        {
          "output_type": "execute_result",
          "data": {
            "text/plain": [
              "1"
            ]
          },
          "metadata": {},
          "execution_count": 104
        }
      ]
    },
    {
      "cell_type": "code",
      "source": [
        "two_d_array[1,1]"
      ],
      "metadata": {
        "colab": {
          "base_uri": "https://localhost:8080/"
        },
        "id": "NMdpkPUdyUcy",
        "outputId": "282b6d84-55bf-40f6-c88b-5354503ac9d0"
      },
      "execution_count": 105,
      "outputs": [
        {
          "output_type": "execute_result",
          "data": {
            "text/plain": [
              "1"
            ]
          },
          "metadata": {},
          "execution_count": 105
        }
      ]
    },
    {
      "cell_type": "code",
      "source": [
        "two_d_array[2,1] + new_arr[2]"
      ],
      "metadata": {
        "colab": {
          "base_uri": "https://localhost:8080/"
        },
        "id": "UF4IYZWXyWCH",
        "outputId": "64ea4cfb-fbb7-4204-a580-dd8060c6bc3d"
      },
      "execution_count": 106,
      "outputs": [
        {
          "output_type": "execute_result",
          "data": {
            "text/plain": [
              "12"
            ]
          },
          "metadata": {},
          "execution_count": 106
        }
      ]
    },
    {
      "cell_type": "code",
      "source": [
        "two_d_array * two_d_array"
      ],
      "metadata": {
        "colab": {
          "base_uri": "https://localhost:8080/"
        },
        "id": "xXgMEgF5ye9o",
        "outputId": "4cb6ea18-04da-4d2e-a6ea-c2ed882aed6d"
      },
      "execution_count": 109,
      "outputs": [
        {
          "output_type": "execute_result",
          "data": {
            "text/plain": [
              "array([[ 25,   9,  64],\n",
              "       [ 25,   1,   1],\n",
              "       [ 25,  81,   9],\n",
              "       [  9,   4, 100],\n",
              "       [ 16,  81,  49]])"
            ]
          },
          "metadata": {},
          "execution_count": 109
        }
      ]
    },
    {
      "cell_type": "code",
      "source": [
        "two_d_array / two_d_array"
      ],
      "metadata": {
        "colab": {
          "base_uri": "https://localhost:8080/"
        },
        "id": "SA4-btQ9yjlG",
        "outputId": "0a0b3f75-7b86-4291-a568-283e96fa2838"
      },
      "execution_count": 110,
      "outputs": [
        {
          "output_type": "execute_result",
          "data": {
            "text/plain": [
              "array([[1., 1., 1.],\n",
              "       [1., 1., 1.],\n",
              "       [1., 1., 1.],\n",
              "       [1., 1., 1.],\n",
              "       [1., 1., 1.]])"
            ]
          },
          "metadata": {},
          "execution_count": 110
        }
      ]
    },
    {
      "cell_type": "code",
      "source": [
        "two_d_array ** 1.3534535"
      ],
      "metadata": {
        "colab": {
          "base_uri": "https://localhost:8080/"
        },
        "id": "AAnWVCmRyuR_",
        "outputId": "be6c8298-80d5-4e2e-ecb5-794768f627ea"
      },
      "execution_count": 114,
      "outputs": [
        {
          "output_type": "execute_result",
          "data": {
            "text/plain": [
              "array([[ 8.8312748 ,  4.42345315, 16.68362055],\n",
              "       [ 8.8312748 ,  1.        ,  1.        ],\n",
              "       [ 8.8312748 , 19.56693779,  4.42345315],\n",
              "       [ 4.42345315,  2.55523061, 22.56594369],\n",
              "       [ 6.52920347, 19.56693779, 13.92518264]])"
            ]
          },
          "metadata": {},
          "execution_count": 114
        }
      ]
    },
    {
      "cell_type": "code",
      "source": [
        "arr = np.arange(1,11)\n",
        "arr"
      ],
      "metadata": {
        "colab": {
          "base_uri": "https://localhost:8080/"
        },
        "id": "J7NRGzeRyy6I",
        "outputId": "e5190591-396f-4477-bfe3-790b676c8466"
      },
      "execution_count": 116,
      "outputs": [
        {
          "output_type": "execute_result",
          "data": {
            "text/plain": [
              "array([ 1,  2,  3,  4,  5,  6,  7,  8,  9, 10])"
            ]
          },
          "metadata": {},
          "execution_count": 116
        }
      ]
    },
    {
      "cell_type": "code",
      "source": [
        "bool_arr = arr > 4\n",
        "bool_arr"
      ],
      "metadata": {
        "colab": {
          "base_uri": "https://localhost:8080/"
        },
        "id": "PSivaoJOzGsi",
        "outputId": "8ea82948-63ad-4e62-8567-2599f134a7db"
      },
      "execution_count": 129,
      "outputs": [
        {
          "output_type": "execute_result",
          "data": {
            "text/plain": [
              "array([False, False, False, False,  True,  True,  True,  True,  True,\n",
              "        True])"
            ]
          },
          "metadata": {},
          "execution_count": 129
        }
      ]
    },
    {
      "cell_type": "code",
      "source": [
        "arr < 9"
      ],
      "metadata": {
        "colab": {
          "base_uri": "https://localhost:8080/"
        },
        "id": "pBM4M3XWzZUQ",
        "outputId": "4ce77469-fc90-4319-ca48-0ee2af823e7a"
      },
      "execution_count": 124,
      "outputs": [
        {
          "output_type": "execute_result",
          "data": {
            "text/plain": [
              "array([ True,  True,  True,  True,  True,  True,  True,  True, False,\n",
              "       False])"
            ]
          },
          "metadata": {},
          "execution_count": 124
        }
      ]
    },
    {
      "cell_type": "code",
      "source": [
        "arr > 4 , arr < 9"
      ],
      "metadata": {
        "colab": {
          "base_uri": "https://localhost:8080/"
        },
        "id": "8FN9RG5BzasN",
        "outputId": "d457febc-9528-4db3-8bac-681768e2420f"
      },
      "execution_count": 125,
      "outputs": [
        {
          "output_type": "execute_result",
          "data": {
            "text/plain": [
              "(array([False, False, False, False,  True,  True,  True,  True,  True,\n",
              "         True]),\n",
              " array([ True,  True,  True,  True,  True,  True,  True,  True, False,\n",
              "        False]))"
            ]
          },
          "metadata": {},
          "execution_count": 125
        }
      ]
    },
    {
      "cell_type": "code",
      "source": [
        "arr > 4 , # what happens here ??\n",
        "arr < 9"
      ],
      "metadata": {
        "colab": {
          "base_uri": "https://localhost:8080/"
        },
        "id": "FEfFUuWZzIBp",
        "outputId": "7c26e7ae-48e7-4d4f-acf3-8f1f0576fb09"
      },
      "execution_count": 127,
      "outputs": [
        {
          "output_type": "execute_result",
          "data": {
            "text/plain": [
              "array([ True,  True,  True,  True,  True,  True,  True,  True, False,\n",
              "       False])"
            ]
          },
          "metadata": {},
          "execution_count": 127
        }
      ]
    },
    {
      "cell_type": "code",
      "source": [
        "arr[arr>4]"
      ],
      "metadata": {
        "colab": {
          "base_uri": "https://localhost:8080/"
        },
        "id": "sM6uHuqlzqku",
        "outputId": "c31b1072-7bc5-4064-8f89-135d9e0c5cd9"
      },
      "execution_count": 130,
      "outputs": [
        {
          "output_type": "execute_result",
          "data": {
            "text/plain": [
              "array([ 5,  6,  7,  8,  9, 10])"
            ]
          },
          "metadata": {},
          "execution_count": 130
        }
      ]
    },
    {
      "cell_type": "markdown",
      "source": [
        "# math"
      ],
      "metadata": {
        "id": "G0XPwDbM_qma"
      }
    },
    {
      "cell_type": "code",
      "source": [
        "mat"
      ],
      "metadata": {
        "colab": {
          "base_uri": "https://localhost:8080/"
        },
        "id": "C_QSX5s8__mW",
        "outputId": "cbecc25e-e82b-4fbc-dce8-3bf2ec0edefa"
      },
      "execution_count": 46,
      "outputs": [
        {
          "output_type": "execute_result",
          "data": {
            "text/plain": [
              "array([[ 1,  2,  3,  4,  5],\n",
              "       [ 6,  7,  8,  9, 10],\n",
              "       [11, 12, 13, 14, 15],\n",
              "       [16, 17, 18, 19, 20],\n",
              "       [21, 22, 23, 24, 25]])"
            ]
          },
          "metadata": {},
          "execution_count": 46
        }
      ]
    },
    {
      "cell_type": "code",
      "source": [
        "np.sum(mat)"
      ],
      "metadata": {
        "id": "_L-B4FnW6Eqs",
        "colab": {
          "base_uri": "https://localhost:8080/"
        },
        "outputId": "b6b5dae6-7cb5-4814-bdd9-bc60ad594902"
      },
      "execution_count": 47,
      "outputs": [
        {
          "output_type": "execute_result",
          "data": {
            "text/plain": [
              "325"
            ]
          },
          "metadata": {},
          "execution_count": 47
        }
      ]
    },
    {
      "cell_type": "code",
      "source": [
        "mat.sum()"
      ],
      "metadata": {
        "id": "ja3DQk5A3tHt",
        "colab": {
          "base_uri": "https://localhost:8080/"
        },
        "outputId": "7bfbf1ca-4f90-4450-ba07-6ec01f9ebc0e"
      },
      "execution_count": 48,
      "outputs": [
        {
          "output_type": "execute_result",
          "data": {
            "text/plain": [
              "325"
            ]
          },
          "metadata": {},
          "execution_count": 48
        }
      ]
    },
    {
      "cell_type": "code",
      "source": [
        "np.std(mat)"
      ],
      "metadata": {
        "id": "lSCPtv1I3pEP",
        "colab": {
          "base_uri": "https://localhost:8080/"
        },
        "outputId": "175cd3bf-9542-4717-fd58-9e50067e8905"
      },
      "execution_count": 49,
      "outputs": [
        {
          "output_type": "execute_result",
          "data": {
            "text/plain": [
              "7.211102550927978"
            ]
          },
          "metadata": {},
          "execution_count": 49
        }
      ]
    },
    {
      "cell_type": "code",
      "source": [
        "mat.std()"
      ],
      "metadata": {
        "colab": {
          "base_uri": "https://localhost:8080/"
        },
        "id": "G0bLpErD_yhB",
        "outputId": "1fb8f288-2301-4373-887e-c6b01aa32ac8"
      },
      "execution_count": 50,
      "outputs": [
        {
          "output_type": "execute_result",
          "data": {
            "text/plain": [
              "7.211102550927978"
            ]
          },
          "metadata": {},
          "execution_count": 50
        }
      ]
    },
    {
      "cell_type": "code",
      "source": [
        "# sum of all cols\n",
        "mat.sum(axis=0)"
      ],
      "metadata": {
        "id": "jVMccCKi3Ovd",
        "colab": {
          "base_uri": "https://localhost:8080/"
        },
        "outputId": "c3cc4d23-a8bf-447d-a0cd-6b9274f9ab2b"
      },
      "execution_count": 51,
      "outputs": [
        {
          "output_type": "execute_result",
          "data": {
            "text/plain": [
              "array([55, 60, 65, 70, 75])"
            ]
          },
          "metadata": {},
          "execution_count": 51
        }
      ]
    },
    {
      "cell_type": "code",
      "source": [
        "# sum of all rows\n",
        "mat.sum(axis=1)"
      ],
      "metadata": {
        "id": "PKUCEddvm4jZ",
        "colab": {
          "base_uri": "https://localhost:8080/"
        },
        "outputId": "cd6ca24c-9f54-4a29-d49d-9728f1f2221e"
      },
      "execution_count": 52,
      "outputs": [
        {
          "output_type": "execute_result",
          "data": {
            "text/plain": [
              "array([ 15,  40,  65,  90, 115])"
            ]
          },
          "metadata": {},
          "execution_count": 52
        }
      ]
    },
    {
      "cell_type": "markdown",
      "source": [
        "# Numpy Opreations"
      ],
      "metadata": {
        "id": "6utgtq6_0H5y"
      }
    },
    {
      "cell_type": "code",
      "source": [
        "arr = np.arange(0,11)"
      ],
      "metadata": {
        "id": "qMgpBFzN0Jjc"
      },
      "execution_count": 134,
      "outputs": []
    },
    {
      "cell_type": "code",
      "source": [],
      "metadata": {
        "id": "dWS5ib_I0WlH"
      },
      "execution_count": null,
      "outputs": []
    },
    {
      "cell_type": "code",
      "source": [
        "arr"
      ],
      "metadata": {
        "colab": {
          "base_uri": "https://localhost:8080/"
        },
        "id": "WqXLfkZX0P89",
        "outputId": "70f84dfd-3874-4e8f-cb3b-ee217f2665e9"
      },
      "execution_count": 132,
      "outputs": [
        {
          "output_type": "execute_result",
          "data": {
            "text/plain": [
              "array([ 1,  2,  3,  4,  5,  6,  7,  8,  9, 10])"
            ]
          },
          "metadata": {},
          "execution_count": 132
        }
      ]
    },
    {
      "cell_type": "code",
      "source": [],
      "metadata": {
        "id": "TBSFGFed0Qmp"
      },
      "execution_count": null,
      "outputs": []
    },
    {
      "cell_type": "code",
      "source": [],
      "metadata": {
        "id": "gQkiEuu4m3Jr"
      },
      "execution_count": 52,
      "outputs": []
    },
    {
      "cell_type": "code",
      "source": [],
      "metadata": {
        "id": "saSFTiCdmemv"
      },
      "execution_count": 52,
      "outputs": []
    },
    {
      "cell_type": "code",
      "source": [],
      "metadata": {
        "id": "vAxJ97h1mdlE"
      },
      "execution_count": 52,
      "outputs": []
    },
    {
      "cell_type": "code",
      "source": [],
      "metadata": {
        "id": "ctxC1xWRmcL3"
      },
      "execution_count": 52,
      "outputs": []
    }
  ]
}