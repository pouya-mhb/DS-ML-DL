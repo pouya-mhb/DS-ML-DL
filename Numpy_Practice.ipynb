{
  "nbformat": 4,
  "nbformat_minor": 0,
  "metadata": {
    "colab": {
      "provenance": [],
      "authorship_tag": "ABX9TyPlFNbyG7VMx9UGOQQ2xIwV",
      "include_colab_link": true
    },
    "kernelspec": {
      "name": "python3",
      "display_name": "Python 3"
    },
    "language_info": {
      "name": "python"
    }
  },
  "cells": [
    {
      "cell_type": "markdown",
      "metadata": {
        "id": "view-in-github",
        "colab_type": "text"
      },
      "source": [
        "<a href=\"https://colab.research.google.com/github/pouya-mhb/DS-ML-DL-Practices/blob/main/Numpy_Practice.ipynb\" target=\"_parent\"><img src=\"https://colab.research.google.com/assets/colab-badge.svg\" alt=\"Open In Colab\"/></a>"
      ]
    },
    {
      "cell_type": "code",
      "execution_count": 1,
      "metadata": {
        "id": "vtM9XvkG_T8z"
      },
      "outputs": [],
      "source": [
        "import numpy as np\n",
        "import pandas as pd\n",
        "import matplotlib.pyplot as plt\n",
        "import seaborn as sns\n",
        "import warnings\n",
        "warnings.filterwarnings(\"ignore\")"
      ]
    },
    {
      "cell_type": "markdown",
      "source": [
        "# Numpy Arrays"
      ],
      "metadata": {
        "id": "yfpWnmCXAqwA"
      }
    },
    {
      "cell_type": "code",
      "source": [
        "num_list = [1,2,3,4,5]"
      ],
      "metadata": {
        "id": "RzTdxkJ5AsHl"
      },
      "execution_count": 2,
      "outputs": []
    },
    {
      "cell_type": "code",
      "source": [
        "np_arr = np.array(num_list)"
      ],
      "metadata": {
        "id": "l8mRmRxNAvxc"
      },
      "execution_count": 3,
      "outputs": []
    },
    {
      "cell_type": "code",
      "source": [
        "np_arr"
      ],
      "metadata": {
        "colab": {
          "base_uri": "https://localhost:8080/"
        },
        "id": "TaPreeCxAzlm",
        "outputId": "d4e323ee-f3b8-4dc6-bab5-deb6e2cfb136"
      },
      "execution_count": 4,
      "outputs": [
        {
          "output_type": "execute_result",
          "data": {
            "text/plain": [
              "array([1, 2, 3, 4, 5])"
            ]
          },
          "metadata": {},
          "execution_count": 4
        }
      ]
    },
    {
      "cell_type": "code",
      "source": [
        "num_list_2 = [[1, 2, 3], [4, 5, 6], [7, 8, 9]]"
      ],
      "metadata": {
        "id": "eShiQ7bsA0os"
      },
      "execution_count": 5,
      "outputs": []
    },
    {
      "cell_type": "code",
      "source": [
        "np_arr_2 = np.array(num_list_2)"
      ],
      "metadata": {
        "id": "i1UZAOx2BFIG"
      },
      "execution_count": 6,
      "outputs": []
    },
    {
      "cell_type": "code",
      "source": [
        "np_arr_2"
      ],
      "metadata": {
        "colab": {
          "base_uri": "https://localhost:8080/"
        },
        "id": "7HsHb1NHBGzx",
        "outputId": "a984a58e-0385-4014-eea3-b727aac8bedf"
      },
      "execution_count": 7,
      "outputs": [
        {
          "output_type": "execute_result",
          "data": {
            "text/plain": [
              "array([[1, 2, 3],\n",
              "       [4, 5, 6],\n",
              "       [7, 8, 9]])"
            ]
          },
          "metadata": {},
          "execution_count": 7
        }
      ]
    },
    {
      "cell_type": "code",
      "source": [
        "np.arange(0,10)"
      ],
      "metadata": {
        "colab": {
          "base_uri": "https://localhost:8080/"
        },
        "id": "r5QlK2tFBIll",
        "outputId": "66c2de32-147f-4622-c1ea-14227f55f1ee"
      },
      "execution_count": 8,
      "outputs": [
        {
          "output_type": "execute_result",
          "data": {
            "text/plain": [
              "array([0, 1, 2, 3, 4, 5, 6, 7, 8, 9])"
            ]
          },
          "metadata": {},
          "execution_count": 8
        }
      ]
    },
    {
      "cell_type": "code",
      "source": [
        "np.arange(0,10,2)"
      ],
      "metadata": {
        "colab": {
          "base_uri": "https://localhost:8080/"
        },
        "id": "aCcRV0OtBNLI",
        "outputId": "fc9bfe6b-b9e2-4b3a-d444-8b0796e5b15b"
      },
      "execution_count": 9,
      "outputs": [
        {
          "output_type": "execute_result",
          "data": {
            "text/plain": [
              "array([0, 2, 4, 6, 8])"
            ]
          },
          "metadata": {},
          "execution_count": 9
        }
      ]
    },
    {
      "cell_type": "code",
      "source": [
        "np.arange(0,10,3)"
      ],
      "metadata": {
        "colab": {
          "base_uri": "https://localhost:8080/"
        },
        "id": "74yvrY9jBeVJ",
        "outputId": "5a34ac2a-37af-400c-a4ca-48f79391624f"
      },
      "execution_count": 10,
      "outputs": [
        {
          "output_type": "execute_result",
          "data": {
            "text/plain": [
              "array([0, 3, 6, 9])"
            ]
          },
          "metadata": {},
          "execution_count": 10
        }
      ]
    },
    {
      "cell_type": "code",
      "source": [
        "np.linspace(0,10,100)"
      ],
      "metadata": {
        "colab": {
          "base_uri": "https://localhost:8080/"
        },
        "id": "aQaZc38fuvAn",
        "outputId": "0c9066f9-869d-4a6e-e700-423de1430ab2"
      },
      "execution_count": 11,
      "outputs": [
        {
          "output_type": "execute_result",
          "data": {
            "text/plain": [
              "array([ 0.        ,  0.1010101 ,  0.2020202 ,  0.3030303 ,  0.4040404 ,\n",
              "        0.50505051,  0.60606061,  0.70707071,  0.80808081,  0.90909091,\n",
              "        1.01010101,  1.11111111,  1.21212121,  1.31313131,  1.41414141,\n",
              "        1.51515152,  1.61616162,  1.71717172,  1.81818182,  1.91919192,\n",
              "        2.02020202,  2.12121212,  2.22222222,  2.32323232,  2.42424242,\n",
              "        2.52525253,  2.62626263,  2.72727273,  2.82828283,  2.92929293,\n",
              "        3.03030303,  3.13131313,  3.23232323,  3.33333333,  3.43434343,\n",
              "        3.53535354,  3.63636364,  3.73737374,  3.83838384,  3.93939394,\n",
              "        4.04040404,  4.14141414,  4.24242424,  4.34343434,  4.44444444,\n",
              "        4.54545455,  4.64646465,  4.74747475,  4.84848485,  4.94949495,\n",
              "        5.05050505,  5.15151515,  5.25252525,  5.35353535,  5.45454545,\n",
              "        5.55555556,  5.65656566,  5.75757576,  5.85858586,  5.95959596,\n",
              "        6.06060606,  6.16161616,  6.26262626,  6.36363636,  6.46464646,\n",
              "        6.56565657,  6.66666667,  6.76767677,  6.86868687,  6.96969697,\n",
              "        7.07070707,  7.17171717,  7.27272727,  7.37373737,  7.47474747,\n",
              "        7.57575758,  7.67676768,  7.77777778,  7.87878788,  7.97979798,\n",
              "        8.08080808,  8.18181818,  8.28282828,  8.38383838,  8.48484848,\n",
              "        8.58585859,  8.68686869,  8.78787879,  8.88888889,  8.98989899,\n",
              "        9.09090909,  9.19191919,  9.29292929,  9.39393939,  9.49494949,\n",
              "        9.5959596 ,  9.6969697 ,  9.7979798 ,  9.8989899 , 10.        ])"
            ]
          },
          "metadata": {},
          "execution_count": 11
        }
      ]
    },
    {
      "cell_type": "code",
      "source": [
        "np.eye(5)"
      ],
      "metadata": {
        "colab": {
          "base_uri": "https://localhost:8080/"
        },
        "id": "vzvJEw6IuxIo",
        "outputId": "d125616a-e8a6-4763-e58e-096810339e00"
      },
      "execution_count": 12,
      "outputs": [
        {
          "output_type": "execute_result",
          "data": {
            "text/plain": [
              "array([[1., 0., 0., 0., 0.],\n",
              "       [0., 1., 0., 0., 0.],\n",
              "       [0., 0., 1., 0., 0.],\n",
              "       [0., 0., 0., 1., 0.],\n",
              "       [0., 0., 0., 0., 1.]])"
            ]
          },
          "metadata": {},
          "execution_count": 12
        }
      ]
    },
    {
      "cell_type": "code",
      "source": [
        "np.random.rand(5)"
      ],
      "metadata": {
        "colab": {
          "base_uri": "https://localhost:8080/"
        },
        "id": "78J9HwMUu49x",
        "outputId": "7d113156-d282-4035-e2ea-700517846e9b"
      },
      "execution_count": 13,
      "outputs": [
        {
          "output_type": "execute_result",
          "data": {
            "text/plain": [
              "array([0.56422794, 0.41424638, 0.64233608, 0.62384506, 0.35501075])"
            ]
          },
          "metadata": {},
          "execution_count": 13
        }
      ]
    },
    {
      "cell_type": "code",
      "source": [
        "np.random.randn(100)"
      ],
      "metadata": {
        "colab": {
          "base_uri": "https://localhost:8080/"
        },
        "id": "tPoZlM_wvAd2",
        "outputId": "90d83a39-4611-4f45-f7c1-22324d5240ee"
      },
      "execution_count": 14,
      "outputs": [
        {
          "output_type": "execute_result",
          "data": {
            "text/plain": [
              "array([-0.96821513,  1.24944484, -1.62955555, -0.13573825, -0.02334309,\n",
              "       -1.65870207,  0.14105411,  2.39636425, -1.11336276,  0.55375024,\n",
              "       -1.0666569 ,  0.17662528, -0.35729285,  0.4876194 , -1.2093948 ,\n",
              "        1.64806497, -0.73334226, -1.88946334, -1.92801763, -0.13165621,\n",
              "       -0.79548212,  0.82314905,  0.41384478, -0.12466468,  0.7812234 ,\n",
              "        0.10918888,  0.22656365,  1.29105289, -0.52796182,  0.4862217 ,\n",
              "        0.56906736,  1.38487732,  0.61234564,  1.70538494,  0.56524353,\n",
              "       -0.49152288,  0.38890572, -0.2839048 ,  1.20086312,  1.8174742 ,\n",
              "        1.19738067,  0.25494304,  0.61880201,  1.30557934,  0.14753426,\n",
              "        0.03544444, -0.32601826, -1.16570193,  0.58512814, -0.62793399,\n",
              "        0.93967108, -0.15051833, -0.06880743, -0.37907695, -0.3319713 ,\n",
              "        0.14940537, -1.35588652,  0.65110904, -1.31023644,  0.70902807,\n",
              "        0.31970492,  0.97476306, -0.58544381,  0.98335613, -0.11082612,\n",
              "       -1.83656019, -0.26620143,  0.45731227,  0.16989368,  0.04669504,\n",
              "        0.80311626, -0.25914058,  1.18206975,  1.08286484, -0.9863491 ,\n",
              "       -1.25628144, -0.46790453,  1.65184268,  0.29756785, -0.0146603 ,\n",
              "       -0.92894611, -0.55756974, -0.71466706, -1.47561334, -0.21731848,\n",
              "       -1.18552831, -0.48091658, -0.90173719,  1.52523951,  1.39975023,\n",
              "       -0.38559572, -0.88569275, -0.41714499,  0.13852615, -0.23869742,\n",
              "       -1.59962947, -0.90593308,  0.50565192, -0.71829332,  1.64292529])"
            ]
          },
          "metadata": {},
          "execution_count": 14
        }
      ]
    },
    {
      "cell_type": "code",
      "source": [
        "arr = np.random.randint(1,100,10).reshape(2,5)\n",
        "arr"
      ],
      "metadata": {
        "colab": {
          "base_uri": "https://localhost:8080/"
        },
        "id": "BxxoAQ_6u_EJ",
        "outputId": "7ab9323a-c9bf-45e6-ad90-b19757b9f199"
      },
      "execution_count": 15,
      "outputs": [
        {
          "output_type": "execute_result",
          "data": {
            "text/plain": [
              "array([[94, 92, 33, 17, 19],\n",
              "       [72, 74, 25,  2, 56]])"
            ]
          },
          "metadata": {},
          "execution_count": 15
        }
      ]
    },
    {
      "cell_type": "code",
      "source": [
        "arr.max()"
      ],
      "metadata": {
        "colab": {
          "base_uri": "https://localhost:8080/"
        },
        "id": "LOBpHh0CvWfe",
        "outputId": "578dd04a-7976-4434-b267-d76d8c3c287a"
      },
      "execution_count": 16,
      "outputs": [
        {
          "output_type": "execute_result",
          "data": {
            "text/plain": [
              "94"
            ]
          },
          "metadata": {},
          "execution_count": 16
        }
      ]
    },
    {
      "cell_type": "code",
      "source": [
        "arr.argmax()"
      ],
      "metadata": {
        "colab": {
          "base_uri": "https://localhost:8080/"
        },
        "id": "qrirZzTlvYNz",
        "outputId": "42760f4b-f19c-4522-f913-76f8482d1779"
      },
      "execution_count": 17,
      "outputs": [
        {
          "output_type": "execute_result",
          "data": {
            "text/plain": [
              "0"
            ]
          },
          "metadata": {},
          "execution_count": 17
        }
      ]
    },
    {
      "cell_type": "code",
      "source": [
        "arr.min()"
      ],
      "metadata": {
        "colab": {
          "base_uri": "https://localhost:8080/"
        },
        "id": "omYhw3f_vXTf",
        "outputId": "bc465b4b-3feb-4b94-9920-1122af78a635"
      },
      "execution_count": 18,
      "outputs": [
        {
          "output_type": "execute_result",
          "data": {
            "text/plain": [
              "2"
            ]
          },
          "metadata": {},
          "execution_count": 18
        }
      ]
    },
    {
      "cell_type": "code",
      "source": [
        "arr.argmin()"
      ],
      "metadata": {
        "colab": {
          "base_uri": "https://localhost:8080/"
        },
        "id": "3HCrUXCKvZ_h",
        "outputId": "20275cf1-493c-4d11-d188-ea2c3e3943a3"
      },
      "execution_count": 19,
      "outputs": [
        {
          "output_type": "execute_result",
          "data": {
            "text/plain": [
              "8"
            ]
          },
          "metadata": {},
          "execution_count": 19
        }
      ]
    },
    {
      "cell_type": "code",
      "source": [
        "arr.shape"
      ],
      "metadata": {
        "colab": {
          "base_uri": "https://localhost:8080/"
        },
        "id": "dBpe3-8ivb4i",
        "outputId": "b71fc4e9-457d-4c40-eeac-4abe78a5cb66"
      },
      "execution_count": 20,
      "outputs": [
        {
          "output_type": "execute_result",
          "data": {
            "text/plain": [
              "(2, 5)"
            ]
          },
          "metadata": {},
          "execution_count": 20
        }
      ]
    },
    {
      "cell_type": "code",
      "source": [
        "arr.dtype"
      ],
      "metadata": {
        "colab": {
          "base_uri": "https://localhost:8080/"
        },
        "id": "vYp7N7cXvk2K",
        "outputId": "90a44226-937a-4249-8834-150d9579beb7"
      },
      "execution_count": 21,
      "outputs": [
        {
          "output_type": "execute_result",
          "data": {
            "text/plain": [
              "dtype('int64')"
            ]
          },
          "metadata": {},
          "execution_count": 21
        }
      ]
    },
    {
      "cell_type": "code",
      "source": [
        "# prompt: arr turn to int32\n",
        "\n",
        "import numpy as np\n",
        "arr = arr.astype(np.int32)\n",
        "arr.dtype\n"
      ],
      "metadata": {
        "colab": {
          "base_uri": "https://localhost:8080/"
        },
        "id": "L_ctLPiuvrNp",
        "outputId": "7d5d902a-eec6-4d30-c12f-55f2f4d99382"
      },
      "execution_count": 22,
      "outputs": [
        {
          "output_type": "execute_result",
          "data": {
            "text/plain": [
              "dtype('int32')"
            ]
          },
          "metadata": {},
          "execution_count": 22
        }
      ]
    },
    {
      "cell_type": "markdown",
      "source": [
        "# Numpy Practices"
      ],
      "metadata": {
        "id": "mcnnyYa-nuvI"
      }
    },
    {
      "cell_type": "code",
      "source": [
        "zeros = np.zeros(3)\n",
        "zeros"
      ],
      "metadata": {
        "id": "4SLAP87g-jtR",
        "colab": {
          "base_uri": "https://localhost:8080/"
        },
        "outputId": "f52d6894-c95e-4eb1-f940-4f0ce8ef6ab6"
      },
      "execution_count": 23,
      "outputs": [
        {
          "output_type": "execute_result",
          "data": {
            "text/plain": [
              "array([0., 0., 0.])"
            ]
          },
          "metadata": {},
          "execution_count": 23
        }
      ]
    },
    {
      "cell_type": "code",
      "source": [
        "zeros + 5"
      ],
      "metadata": {
        "colab": {
          "base_uri": "https://localhost:8080/"
        },
        "id": "20blfmPHmF5O",
        "outputId": "e38d74f7-b2bf-4524-99d0-6ba49824b7f2"
      },
      "execution_count": 24,
      "outputs": [
        {
          "output_type": "execute_result",
          "data": {
            "text/plain": [
              "array([5., 5., 5.])"
            ]
          },
          "metadata": {},
          "execution_count": 24
        }
      ]
    },
    {
      "cell_type": "code",
      "source": [
        "ones = np.ones(5)\n",
        "ones"
      ],
      "metadata": {
        "colab": {
          "base_uri": "https://localhost:8080/"
        },
        "id": "z3qmsbCNlqoL",
        "outputId": "9f707baa-ecf1-40f9-bc46-ade260a73c07"
      },
      "execution_count": 25,
      "outputs": [
        {
          "output_type": "execute_result",
          "data": {
            "text/plain": [
              "array([1., 1., 1., 1., 1.])"
            ]
          },
          "metadata": {},
          "execution_count": 25
        }
      ]
    },
    {
      "cell_type": "code",
      "source": [
        "print(ones*5)"
      ],
      "metadata": {
        "colab": {
          "base_uri": "https://localhost:8080/"
        },
        "id": "I4dxkH-Glt9M",
        "outputId": "ff92fd92-6509-4f95-918a-e23bdc154000"
      },
      "execution_count": 26,
      "outputs": [
        {
          "output_type": "stream",
          "name": "stdout",
          "text": [
            "[5. 5. 5. 5. 5.]\n"
          ]
        }
      ]
    },
    {
      "cell_type": "code",
      "source": [
        "np.arange(10,20)"
      ],
      "metadata": {
        "colab": {
          "base_uri": "https://localhost:8080/"
        },
        "id": "2XD3B75Dl1eZ",
        "outputId": "35121ff6-32fa-4364-f56e-08d943eab864"
      },
      "execution_count": 27,
      "outputs": [
        {
          "output_type": "execute_result",
          "data": {
            "text/plain": [
              "array([10, 11, 12, 13, 14, 15, 16, 17, 18, 19])"
            ]
          },
          "metadata": {},
          "execution_count": 27
        }
      ]
    },
    {
      "cell_type": "code",
      "source": [
        "nums = np.arange(9)\n",
        "nums"
      ],
      "metadata": {
        "colab": {
          "base_uri": "https://localhost:8080/"
        },
        "id": "WgmOB6ZnmDWO",
        "outputId": "2b0e0313-c73f-40f5-d399-5cf8a8afae35"
      },
      "execution_count": 28,
      "outputs": [
        {
          "output_type": "execute_result",
          "data": {
            "text/plain": [
              "array([0, 1, 2, 3, 4, 5, 6, 7, 8])"
            ]
          },
          "metadata": {},
          "execution_count": 28
        }
      ]
    },
    {
      "cell_type": "code",
      "source": [
        "nums.reshape (3,3)"
      ],
      "metadata": {
        "colab": {
          "base_uri": "https://localhost:8080/"
        },
        "id": "6yYSVt-BmTQA",
        "outputId": "13c7c4ed-170d-4262-ec4b-c06d83be613d"
      },
      "execution_count": 29,
      "outputs": [
        {
          "output_type": "execute_result",
          "data": {
            "text/plain": [
              "array([[0, 1, 2],\n",
              "       [3, 4, 5],\n",
              "       [6, 7, 8]])"
            ]
          },
          "metadata": {},
          "execution_count": 29
        }
      ]
    },
    {
      "cell_type": "code",
      "source": [
        "np.random.rand"
      ],
      "metadata": {
        "colab": {
          "base_uri": "https://localhost:8080/"
        },
        "id": "CvXdZmQQmViS",
        "outputId": "efc13672-d0b2-4725-ffeb-97232ea48fa8"
      },
      "execution_count": 30,
      "outputs": [
        {
          "output_type": "execute_result",
          "data": {
            "text/plain": [
              "<function RandomState.rand>"
            ]
          },
          "metadata": {},
          "execution_count": 30
        }
      ]
    },
    {
      "cell_type": "code",
      "source": [
        "np.random.rand(5)"
      ],
      "metadata": {
        "colab": {
          "base_uri": "https://localhost:8080/"
        },
        "id": "pS9oFWp1mt1F",
        "outputId": "3aa0ab28-a0ee-4945-fb47-09aea1d6ae19"
      },
      "execution_count": 31,
      "outputs": [
        {
          "output_type": "execute_result",
          "data": {
            "text/plain": [
              "array([0.12626549, 0.24428464, 0.40063651, 0.23916515, 0.80602897])"
            ]
          },
          "metadata": {},
          "execution_count": 31
        }
      ]
    },
    {
      "cell_type": "code",
      "source": [
        "np.random.randint(9)"
      ],
      "metadata": {
        "colab": {
          "base_uri": "https://localhost:8080/"
        },
        "id": "3qRbvRK8nLnb",
        "outputId": "50f145b2-537c-4e81-f9a0-630717511270"
      },
      "execution_count": 32,
      "outputs": [
        {
          "output_type": "execute_result",
          "data": {
            "text/plain": [
              "3"
            ]
          },
          "metadata": {},
          "execution_count": 32
        }
      ]
    },
    {
      "cell_type": "code",
      "source": [
        "np.random.randint(9,size=9)"
      ],
      "metadata": {
        "colab": {
          "base_uri": "https://localhost:8080/"
        },
        "id": "8UC6CqGHnM57",
        "outputId": "902a0154-956a-4191-ebb9-3498b5381e69"
      },
      "execution_count": 33,
      "outputs": [
        {
          "output_type": "execute_result",
          "data": {
            "text/plain": [
              "array([0, 6, 8, 6, 0, 6, 3, 6, 3])"
            ]
          },
          "metadata": {},
          "execution_count": 33
        }
      ]
    },
    {
      "cell_type": "code",
      "source": [
        "np.random.randint(5,size=9).reshape(3,3)"
      ],
      "metadata": {
        "colab": {
          "base_uri": "https://localhost:8080/"
        },
        "id": "-nbHCWR8nTWM",
        "outputId": "6cfd0a87-ab38-4e10-a921-0a815361d0fe"
      },
      "execution_count": 34,
      "outputs": [
        {
          "output_type": "execute_result",
          "data": {
            "text/plain": [
              "array([[1, 2, 0],\n",
              "       [4, 1, 2],\n",
              "       [0, 2, 0]])"
            ]
          },
          "metadata": {},
          "execution_count": 34
        }
      ]
    },
    {
      "cell_type": "code",
      "source": [
        "np.random.exponential(scale=1)"
      ],
      "metadata": {
        "colab": {
          "base_uri": "https://localhost:8080/"
        },
        "id": "WJy4uNdumwR-",
        "outputId": "7f19b333-0981-4cd4-e348-955abd8356b8"
      },
      "execution_count": 35,
      "outputs": [
        {
          "output_type": "execute_result",
          "data": {
            "text/plain": [
              "0.303235020261021"
            ]
          },
          "metadata": {},
          "execution_count": 35
        }
      ]
    },
    {
      "cell_type": "code",
      "source": [
        "np.random.exponential(size=5)"
      ],
      "metadata": {
        "colab": {
          "base_uri": "https://localhost:8080/"
        },
        "id": "fKc3Sx5Om-ps",
        "outputId": "af8994fd-73b8-466a-c716-4486aae123bb"
      },
      "execution_count": 36,
      "outputs": [
        {
          "output_type": "execute_result",
          "data": {
            "text/plain": [
              "array([3.36147234, 0.57645559, 0.71250454, 1.69439421, 0.2283019 ])"
            ]
          },
          "metadata": {},
          "execution_count": 36
        }
      ]
    },
    {
      "cell_type": "code",
      "source": [
        "np.random.exponential(scale=1,size=5)"
      ],
      "metadata": {
        "colab": {
          "base_uri": "https://localhost:8080/"
        },
        "id": "MGoO3WjQnBNB",
        "outputId": "27e65f16-03ef-4961-ee53-f66327d5b5fc"
      },
      "execution_count": 37,
      "outputs": [
        {
          "output_type": "execute_result",
          "data": {
            "text/plain": [
              "array([1.50647978, 2.93614404, 0.1297018 , 0.45858638, 1.35021856])"
            ]
          },
          "metadata": {},
          "execution_count": 37
        }
      ]
    },
    {
      "cell_type": "code",
      "source": [
        "np.random.randn(25) # 25 rand numbers from a standard normal distribution"
      ],
      "metadata": {
        "colab": {
          "base_uri": "https://localhost:8080/"
        },
        "id": "KwVBbyOGnDsU",
        "outputId": "6f1bcce2-9b1d-481f-9029-ac0e06693be9"
      },
      "execution_count": 38,
      "outputs": [
        {
          "output_type": "execute_result",
          "data": {
            "text/plain": [
              "array([ 1.07499393, -1.61170533,  0.75397998, -0.90157199,  0.93098721,\n",
              "       -0.49025108,  0.85657025,  0.34670519,  1.1808391 , -0.51059489,\n",
              "        2.00237539,  1.71550131,  0.18016506,  1.42828707,  0.61766887,\n",
              "       -0.75805631,  0.48391601,  0.8822764 ,  0.77545626, -0.3415992 ,\n",
              "        0.01007803,  0.74418289, -0.30748514, -0.6697292 ,  0.09249011])"
            ]
          },
          "metadata": {},
          "execution_count": 38
        }
      ]
    },
    {
      "cell_type": "code",
      "source": [
        "np.random.randn(25).shape"
      ],
      "metadata": {
        "colab": {
          "base_uri": "https://localhost:8080/"
        },
        "id": "HAW8Omqtn5Op",
        "outputId": "a2f7c1cf-2946-4997-b81e-a5ccad09323f"
      },
      "execution_count": 39,
      "outputs": [
        {
          "output_type": "execute_result",
          "data": {
            "text/plain": [
              "(25,)"
            ]
          },
          "metadata": {},
          "execution_count": 39
        }
      ]
    },
    {
      "cell_type": "code",
      "source": [
        "# create a  matrix from 0.01 to 1\n",
        "# solution 1"
      ],
      "metadata": {
        "id": "Vr1IdRyWn_S6"
      },
      "execution_count": 40,
      "outputs": []
    },
    {
      "cell_type": "code",
      "source": [
        "np.arange(1,101) / 100 # arange gives you 1 - 100"
      ],
      "metadata": {
        "colab": {
          "base_uri": "https://localhost:8080/"
        },
        "id": "OSTkQ3w93Jcu",
        "outputId": "a28b3744-be27-4044-9007-4b8e2ad23da2"
      },
      "execution_count": 41,
      "outputs": [
        {
          "output_type": "execute_result",
          "data": {
            "text/plain": [
              "array([0.01, 0.02, 0.03, 0.04, 0.05, 0.06, 0.07, 0.08, 0.09, 0.1 , 0.11,\n",
              "       0.12, 0.13, 0.14, 0.15, 0.16, 0.17, 0.18, 0.19, 0.2 , 0.21, 0.22,\n",
              "       0.23, 0.24, 0.25, 0.26, 0.27, 0.28, 0.29, 0.3 , 0.31, 0.32, 0.33,\n",
              "       0.34, 0.35, 0.36, 0.37, 0.38, 0.39, 0.4 , 0.41, 0.42, 0.43, 0.44,\n",
              "       0.45, 0.46, 0.47, 0.48, 0.49, 0.5 , 0.51, 0.52, 0.53, 0.54, 0.55,\n",
              "       0.56, 0.57, 0.58, 0.59, 0.6 , 0.61, 0.62, 0.63, 0.64, 0.65, 0.66,\n",
              "       0.67, 0.68, 0.69, 0.7 , 0.71, 0.72, 0.73, 0.74, 0.75, 0.76, 0.77,\n",
              "       0.78, 0.79, 0.8 , 0.81, 0.82, 0.83, 0.84, 0.85, 0.86, 0.87, 0.88,\n",
              "       0.89, 0.9 , 0.91, 0.92, 0.93, 0.94, 0.95, 0.96, 0.97, 0.98, 0.99,\n",
              "       1.  ])"
            ]
          },
          "metadata": {},
          "execution_count": 41
        }
      ]
    },
    {
      "cell_type": "code",
      "source": [
        "np.linspace(0.01,1,100).reshape(2,2,5,5) # 4 dimention on 5*5"
      ],
      "metadata": {
        "colab": {
          "base_uri": "https://localhost:8080/"
        },
        "id": "s8Ou8g7J3TOh",
        "outputId": "a128f13f-4f50-4af7-a7aa-c07649ed264d"
      },
      "execution_count": 42,
      "outputs": [
        {
          "output_type": "execute_result",
          "data": {
            "text/plain": [
              "array([[[[0.01, 0.02, 0.03, 0.04, 0.05],\n",
              "         [0.06, 0.07, 0.08, 0.09, 0.1 ],\n",
              "         [0.11, 0.12, 0.13, 0.14, 0.15],\n",
              "         [0.16, 0.17, 0.18, 0.19, 0.2 ],\n",
              "         [0.21, 0.22, 0.23, 0.24, 0.25]],\n",
              "\n",
              "        [[0.26, 0.27, 0.28, 0.29, 0.3 ],\n",
              "         [0.31, 0.32, 0.33, 0.34, 0.35],\n",
              "         [0.36, 0.37, 0.38, 0.39, 0.4 ],\n",
              "         [0.41, 0.42, 0.43, 0.44, 0.45],\n",
              "         [0.46, 0.47, 0.48, 0.49, 0.5 ]]],\n",
              "\n",
              "\n",
              "       [[[0.51, 0.52, 0.53, 0.54, 0.55],\n",
              "         [0.56, 0.57, 0.58, 0.59, 0.6 ],\n",
              "         [0.61, 0.62, 0.63, 0.64, 0.65],\n",
              "         [0.66, 0.67, 0.68, 0.69, 0.7 ],\n",
              "         [0.71, 0.72, 0.73, 0.74, 0.75]],\n",
              "\n",
              "        [[0.76, 0.77, 0.78, 0.79, 0.8 ],\n",
              "         [0.81, 0.82, 0.83, 0.84, 0.85],\n",
              "         [0.86, 0.87, 0.88, 0.89, 0.9 ],\n",
              "         [0.91, 0.92, 0.93, 0.94, 0.95],\n",
              "         [0.96, 0.97, 0.98, 0.99, 1.  ]]]])"
            ]
          },
          "metadata": {},
          "execution_count": 42
        }
      ]
    },
    {
      "cell_type": "code",
      "source": [
        "np.linspace(0,1,20) # 20 linearly spaced points 0-1"
      ],
      "metadata": {
        "colab": {
          "base_uri": "https://localhost:8080/"
        },
        "id": "pKBJ2Z8w4DMU",
        "outputId": "2563d220-563f-4158-f976-46d785abab60"
      },
      "execution_count": 43,
      "outputs": [
        {
          "output_type": "execute_result",
          "data": {
            "text/plain": [
              "array([0.        , 0.05263158, 0.10526316, 0.15789474, 0.21052632,\n",
              "       0.26315789, 0.31578947, 0.36842105, 0.42105263, 0.47368421,\n",
              "       0.52631579, 0.57894737, 0.63157895, 0.68421053, 0.73684211,\n",
              "       0.78947368, 0.84210526, 0.89473684, 0.94736842, 1.        ])"
            ]
          },
          "metadata": {},
          "execution_count": 43
        }
      ]
    },
    {
      "cell_type": "markdown",
      "source": [
        "## numpy indexing and selection"
      ],
      "metadata": {
        "id": "93H6AcFe4e09"
      }
    },
    {
      "cell_type": "code",
      "source": [
        "mat = np.arange(1,26).reshape(5,5)\n",
        "mat"
      ],
      "metadata": {
        "colab": {
          "base_uri": "https://localhost:8080/"
        },
        "id": "syKSXnDy4hDD",
        "outputId": "241ec550-7e63-4aa8-fb47-aabb67c47905"
      },
      "execution_count": 44,
      "outputs": [
        {
          "output_type": "execute_result",
          "data": {
            "text/plain": [
              "array([[ 1,  2,  3,  4,  5],\n",
              "       [ 6,  7,  8,  9, 10],\n",
              "       [11, 12, 13, 14, 15],\n",
              "       [16, 17, 18, 19, 20],\n",
              "       [21, 22, 23, 24, 25]])"
            ]
          },
          "metadata": {},
          "execution_count": 44
        }
      ]
    },
    {
      "cell_type": "code",
      "source": [
        "mat[2:] # row 2 - end"
      ],
      "metadata": {
        "colab": {
          "base_uri": "https://localhost:8080/"
        },
        "id": "AhbBD1ib4p3-",
        "outputId": "fbdda4ad-90fe-41d1-e9a9-477f2ef86c1e"
      },
      "execution_count": 45,
      "outputs": [
        {
          "output_type": "execute_result",
          "data": {
            "text/plain": [
              "array([[11, 12, 13, 14, 15],\n",
              "       [16, 17, 18, 19, 20],\n",
              "       [21, 22, 23, 24, 25]])"
            ]
          },
          "metadata": {},
          "execution_count": 45
        }
      ]
    },
    {
      "cell_type": "code",
      "source": [
        "mat[2:,:1] # row 2 , col 0"
      ],
      "metadata": {
        "colab": {
          "base_uri": "https://localhost:8080/"
        },
        "id": "ocx2WDP14wva",
        "outputId": "6ae15c8d-ed87-4618-bf0b-1b01ebbca396"
      },
      "execution_count": 46,
      "outputs": [
        {
          "output_type": "execute_result",
          "data": {
            "text/plain": [
              "array([[11],\n",
              "       [16],\n",
              "       [21]])"
            ]
          },
          "metadata": {},
          "execution_count": 46
        }
      ]
    },
    {
      "cell_type": "code",
      "source": [
        "mat[2:,:2] # row 2 - col 0 and 1"
      ],
      "metadata": {
        "colab": {
          "base_uri": "https://localhost:8080/"
        },
        "id": "poIJjkpd4zu7",
        "outputId": "1772b7d6-bd48-4c24-a966-56ffda961bf3"
      },
      "execution_count": 47,
      "outputs": [
        {
          "output_type": "execute_result",
          "data": {
            "text/plain": [
              "array([[11, 12],\n",
              "       [16, 17],\n",
              "       [21, 22]])"
            ]
          },
          "metadata": {},
          "execution_count": 47
        }
      ]
    },
    {
      "cell_type": "code",
      "source": [
        "mat[2:,1:2]"
      ],
      "metadata": {
        "colab": {
          "base_uri": "https://localhost:8080/"
        },
        "id": "pPV9-1ax-TcD",
        "outputId": "d3e7353b-415b-4138-fc7d-8473acce57d4"
      },
      "execution_count": 48,
      "outputs": [
        {
          "output_type": "execute_result",
          "data": {
            "text/plain": [
              "array([[12],\n",
              "       [17],\n",
              "       [22]])"
            ]
          },
          "metadata": {},
          "execution_count": 48
        }
      ]
    },
    {
      "cell_type": "code",
      "source": [
        "mat[2:,1:2].shape"
      ],
      "metadata": {
        "colab": {
          "base_uri": "https://localhost:8080/"
        },
        "id": "gYHXuTVU-kFn",
        "outputId": "a7f2a969-add8-41fe-ae09-ed10535038f4"
      },
      "execution_count": 49,
      "outputs": [
        {
          "output_type": "execute_result",
          "data": {
            "text/plain": [
              "(3, 1)"
            ]
          },
          "metadata": {},
          "execution_count": 49
        }
      ]
    },
    {
      "cell_type": "code",
      "source": [
        "mat[2:,1:]"
      ],
      "metadata": {
        "colab": {
          "base_uri": "https://localhost:8080/"
        },
        "id": "enNnPQSJ4dr9",
        "outputId": "c2b049ff-3316-4948-d1dd-4c9ca125d6b2"
      },
      "execution_count": 50,
      "outputs": [
        {
          "output_type": "execute_result",
          "data": {
            "text/plain": [
              "array([[12, 13, 14, 15],\n",
              "       [17, 18, 19, 20],\n",
              "       [22, 23, 24, 25]])"
            ]
          },
          "metadata": {},
          "execution_count": 50
        }
      ]
    },
    {
      "cell_type": "code",
      "source": [
        "mat[2:,1]"
      ],
      "metadata": {
        "colab": {
          "base_uri": "https://localhost:8080/"
        },
        "id": "7tWQPaiz-sDL",
        "outputId": "f463690a-b58a-4831-a47e-5150d0ed5474"
      },
      "execution_count": 51,
      "outputs": [
        {
          "output_type": "execute_result",
          "data": {
            "text/plain": [
              "array([12, 17, 22])"
            ]
          },
          "metadata": {},
          "execution_count": 51
        }
      ]
    },
    {
      "cell_type": "code",
      "source": [
        "mat[3,4]"
      ],
      "metadata": {
        "colab": {
          "base_uri": "https://localhost:8080/"
        },
        "id": "aembnqQz4Vgo",
        "outputId": "94ea4ee8-0e04-4ba4-a6fa-76036a3f76af"
      },
      "execution_count": 52,
      "outputs": [
        {
          "output_type": "execute_result",
          "data": {
            "text/plain": [
              "20"
            ]
          },
          "metadata": {},
          "execution_count": 52
        }
      ]
    },
    {
      "cell_type": "code",
      "source": [
        "mat.shape"
      ],
      "metadata": {
        "colab": {
          "base_uri": "https://localhost:8080/"
        },
        "id": "G_QV6R1m5rlw",
        "outputId": "10174f5f-084f-4a95-8298-25437acb1aff"
      },
      "execution_count": 53,
      "outputs": [
        {
          "output_type": "execute_result",
          "data": {
            "text/plain": [
              "(5, 5)"
            ]
          },
          "metadata": {},
          "execution_count": 53
        }
      ]
    },
    {
      "source": [
        "# Since mat[1][1] will always be 7, the if condition is redundant.\n",
        "# We can directly print all elements of 'mat' using a nested loop:\n",
        "\n",
        "for i in range(mat.shape[0]):  # Iterate through rows\n",
        "    for j in range(mat.shape[1]):  # Iterate through columns\n",
        "        if mat[i,j] == 20:\n",
        "          print(i,j, mat[i, j])"
      ],
      "cell_type": "code",
      "metadata": {
        "colab": {
          "base_uri": "https://localhost:8080/"
        },
        "id": "XmpCDREX7VJC",
        "outputId": "0099215b-24ad-4a7d-df0c-50541872a7ff"
      },
      "execution_count": 54,
      "outputs": [
        {
          "output_type": "stream",
          "name": "stdout",
          "text": [
            "3 4 20\n"
          ]
        }
      ]
    },
    {
      "cell_type": "markdown",
      "source": [
        "range(mat.shape[0], mat.shape[1]): This creates a sequence of numbers starting from mat.shape[0] (5) and ending before mat.shape[1] (5). It generates a sequence from 5 to 5 (non-inclusive). Because the start and end is the same, this range is empty meaning it has no values."
      ],
      "metadata": {
        "id": "IGK79gVM-LIf"
      }
    },
    {
      "cell_type": "code",
      "source": [
        "for i,j in range(mat.shape[0], mat.shape[1]):\n",
        "  print (i,j)\n",
        "  # if mat[i,j] == 20 :\n",
        "  #   print(i,j, mat[i,j])"
      ],
      "metadata": {
        "id": "bSUzxpY57vCE"
      },
      "execution_count": 104,
      "outputs": []
    },
    {
      "cell_type": "code",
      "source": [
        "# last row\n",
        "mat[4:,:]"
      ],
      "metadata": {
        "colab": {
          "base_uri": "https://localhost:8080/"
        },
        "id": "_xQ2Riaa9jRX",
        "outputId": "3d9a82b1-4871-420f-ebc2-b9a48853e1d7"
      },
      "execution_count": 56,
      "outputs": [
        {
          "output_type": "execute_result",
          "data": {
            "text/plain": [
              "array([[21, 22, 23, 24, 25]])"
            ]
          },
          "metadata": {},
          "execution_count": 56
        }
      ]
    },
    {
      "cell_type": "code",
      "source": [
        "# last row\n",
        "mat[-1:,:]"
      ],
      "metadata": {
        "id": "q2XaJlUp6imE",
        "colab": {
          "base_uri": "https://localhost:8080/"
        },
        "outputId": "398a74e0-c09b-4a0d-cc25-99b5b2987971"
      },
      "execution_count": 57,
      "outputs": [
        {
          "output_type": "execute_result",
          "data": {
            "text/plain": [
              "array([[21, 22, 23, 24, 25]])"
            ]
          },
          "metadata": {},
          "execution_count": 57
        }
      ]
    },
    {
      "cell_type": "code",
      "source": [
        "new_arr = np.arange(1,10)\n",
        "new_arr"
      ],
      "metadata": {
        "colab": {
          "base_uri": "https://localhost:8080/"
        },
        "id": "lpgVbhj_wVG6",
        "outputId": "621b982a-7738-479c-ffa6-6ff245bbb205"
      },
      "execution_count": 58,
      "outputs": [
        {
          "output_type": "execute_result",
          "data": {
            "text/plain": [
              "array([1, 2, 3, 4, 5, 6, 7, 8, 9])"
            ]
          },
          "metadata": {},
          "execution_count": 58
        }
      ]
    },
    {
      "cell_type": "code",
      "source": [
        "slice_of_new_arr = new_arr[:6]\n",
        "slice_of_new_arr"
      ],
      "metadata": {
        "colab": {
          "base_uri": "https://localhost:8080/"
        },
        "id": "XkWC7fcewatF",
        "outputId": "cb848275-cb70-4fa6-ac57-533d9f2f98bc"
      },
      "execution_count": 59,
      "outputs": [
        {
          "output_type": "execute_result",
          "data": {
            "text/plain": [
              "array([1, 2, 3, 4, 5, 6])"
            ]
          },
          "metadata": {},
          "execution_count": 59
        }
      ]
    },
    {
      "cell_type": "code",
      "source": [
        "slice_of_new_arr[:] = 99\n",
        "slice_of_new_arr"
      ],
      "metadata": {
        "colab": {
          "base_uri": "https://localhost:8080/"
        },
        "id": "ZlT6mpOHwxYU",
        "outputId": "a2e1f37b-05fa-4a94-959a-cdfa5cf25835"
      },
      "execution_count": 60,
      "outputs": [
        {
          "output_type": "execute_result",
          "data": {
            "text/plain": [
              "array([99, 99, 99, 99, 99, 99])"
            ]
          },
          "metadata": {},
          "execution_count": 60
        }
      ]
    },
    {
      "cell_type": "code",
      "source": [
        "new_arr"
      ],
      "metadata": {
        "colab": {
          "base_uri": "https://localhost:8080/"
        },
        "id": "rceNVr3KxYed",
        "outputId": "00e10992-5792-4d3b-f4c1-2301146b332a"
      },
      "execution_count": 61,
      "outputs": [
        {
          "output_type": "execute_result",
          "data": {
            "text/plain": [
              "array([99, 99, 99, 99, 99, 99,  7,  8,  9])"
            ]
          },
          "metadata": {},
          "execution_count": 61
        }
      ]
    },
    {
      "cell_type": "code",
      "source": [
        "arr_copy = new_arr.copy() # copy the array\n",
        "arr_copy"
      ],
      "metadata": {
        "colab": {
          "base_uri": "https://localhost:8080/"
        },
        "id": "FtID4eUJxd5b",
        "outputId": "fa7d57e7-02a1-44aa-9c81-2dd81bbc30fc"
      },
      "execution_count": 62,
      "outputs": [
        {
          "output_type": "execute_result",
          "data": {
            "text/plain": [
              "array([99, 99, 99, 99, 99, 99,  7,  8,  9])"
            ]
          },
          "metadata": {},
          "execution_count": 62
        }
      ]
    },
    {
      "cell_type": "code",
      "source": [
        "arr_copy [:] = 100\n",
        "arr_copy"
      ],
      "metadata": {
        "colab": {
          "base_uri": "https://localhost:8080/"
        },
        "id": "nGkJC1nZxkfr",
        "outputId": "0cc259de-3a66-4841-db2a-b5b2c9625f81"
      },
      "execution_count": 63,
      "outputs": [
        {
          "output_type": "execute_result",
          "data": {
            "text/plain": [
              "array([100, 100, 100, 100, 100, 100, 100, 100, 100])"
            ]
          },
          "metadata": {},
          "execution_count": 63
        }
      ]
    },
    {
      "cell_type": "code",
      "source": [
        "new_arr"
      ],
      "metadata": {
        "colab": {
          "base_uri": "https://localhost:8080/"
        },
        "id": "Ez0R4Nnwxy7l",
        "outputId": "52d84ec4-35e9-4466-9831-dd2a9ddbf2ef"
      },
      "execution_count": 64,
      "outputs": [
        {
          "output_type": "execute_result",
          "data": {
            "text/plain": [
              "array([99, 99, 99, 99, 99, 99,  7,  8,  9])"
            ]
          },
          "metadata": {},
          "execution_count": 64
        }
      ]
    },
    {
      "cell_type": "code",
      "source": [
        "# prompt: generate a 2d array\n",
        "\n",
        "import numpy as np\n",
        "# Create a 2D array (matrix) with random integers\n",
        "rows = 5  # Number of rows\n",
        "cols = 3  # Number of columns\n",
        "min_val = 1\n",
        "max_val = 10\n",
        "\n",
        "two_d_array = np.random.randint(min_val, max_val + 1, size=(rows, cols))\n",
        "\n",
        "two_d_array\n"
      ],
      "metadata": {
        "colab": {
          "base_uri": "https://localhost:8080/"
        },
        "id": "yPMf73JrwYaB",
        "outputId": "e90c8d23-1a5d-4194-df38-aac1003930ed"
      },
      "execution_count": 65,
      "outputs": [
        {
          "output_type": "execute_result",
          "data": {
            "text/plain": [
              "array([[10,  8,  8],\n",
              "       [ 4,  7,  8],\n",
              "       [ 6,  2,  1],\n",
              "       [ 4, 10,  6],\n",
              "       [ 9,  5,  8]])"
            ]
          },
          "metadata": {},
          "execution_count": 65
        }
      ]
    },
    {
      "cell_type": "code",
      "source": [
        "two_d_array[1][1]"
      ],
      "metadata": {
        "colab": {
          "base_uri": "https://localhost:8080/"
        },
        "id": "0yher_KpyOJl",
        "outputId": "d3a00e45-8b82-4eb2-e059-a923afef8614"
      },
      "execution_count": 66,
      "outputs": [
        {
          "output_type": "execute_result",
          "data": {
            "text/plain": [
              "7"
            ]
          },
          "metadata": {},
          "execution_count": 66
        }
      ]
    },
    {
      "cell_type": "code",
      "source": [
        "two_d_array[1,1]"
      ],
      "metadata": {
        "colab": {
          "base_uri": "https://localhost:8080/"
        },
        "id": "NMdpkPUdyUcy",
        "outputId": "f80fd58e-a5ba-4cbc-a9b8-f12088bc59bd"
      },
      "execution_count": 67,
      "outputs": [
        {
          "output_type": "execute_result",
          "data": {
            "text/plain": [
              "7"
            ]
          },
          "metadata": {},
          "execution_count": 67
        }
      ]
    },
    {
      "cell_type": "code",
      "source": [
        "two_d_array[2,1] + new_arr[2]"
      ],
      "metadata": {
        "colab": {
          "base_uri": "https://localhost:8080/"
        },
        "id": "UF4IYZWXyWCH",
        "outputId": "a2205f85-e242-422b-c615-4e6412b17c90"
      },
      "execution_count": 68,
      "outputs": [
        {
          "output_type": "execute_result",
          "data": {
            "text/plain": [
              "101"
            ]
          },
          "metadata": {},
          "execution_count": 68
        }
      ]
    },
    {
      "cell_type": "code",
      "source": [
        "two_d_array * two_d_array"
      ],
      "metadata": {
        "colab": {
          "base_uri": "https://localhost:8080/"
        },
        "id": "xXgMEgF5ye9o",
        "outputId": "465b1326-a75b-40da-df1f-ac313c31d7d9"
      },
      "execution_count": 69,
      "outputs": [
        {
          "output_type": "execute_result",
          "data": {
            "text/plain": [
              "array([[100,  64,  64],\n",
              "       [ 16,  49,  64],\n",
              "       [ 36,   4,   1],\n",
              "       [ 16, 100,  36],\n",
              "       [ 81,  25,  64]])"
            ]
          },
          "metadata": {},
          "execution_count": 69
        }
      ]
    },
    {
      "cell_type": "code",
      "source": [
        "two_d_array / two_d_array"
      ],
      "metadata": {
        "colab": {
          "base_uri": "https://localhost:8080/"
        },
        "id": "SA4-btQ9yjlG",
        "outputId": "a9472719-4ef8-4408-9f2e-2277361616ce"
      },
      "execution_count": 70,
      "outputs": [
        {
          "output_type": "execute_result",
          "data": {
            "text/plain": [
              "array([[1., 1., 1.],\n",
              "       [1., 1., 1.],\n",
              "       [1., 1., 1.],\n",
              "       [1., 1., 1.],\n",
              "       [1., 1., 1.]])"
            ]
          },
          "metadata": {},
          "execution_count": 70
        }
      ]
    },
    {
      "cell_type": "code",
      "source": [
        "two_d_array ** 1.3534535"
      ],
      "metadata": {
        "colab": {
          "base_uri": "https://localhost:8080/"
        },
        "id": "AAnWVCmRyuR_",
        "outputId": "972f6e50-71c8-4567-b038-e2c208eb5a34"
      },
      "execution_count": 71,
      "outputs": [
        {
          "output_type": "execute_result",
          "data": {
            "text/plain": [
              "array([[22.56594369, 16.68362055, 16.68362055],\n",
              "       [ 6.52920347, 13.92518264, 16.68362055],\n",
              "       [11.30294289,  2.55523061,  1.        ],\n",
              "       [ 6.52920347, 22.56594369, 11.30294289],\n",
              "       [19.56693779,  8.8312748 , 16.68362055]])"
            ]
          },
          "metadata": {},
          "execution_count": 71
        }
      ]
    },
    {
      "cell_type": "code",
      "source": [
        "arr = np.arange(1,11)\n",
        "arr"
      ],
      "metadata": {
        "colab": {
          "base_uri": "https://localhost:8080/"
        },
        "id": "J7NRGzeRyy6I",
        "outputId": "0eebf5d8-e11d-4517-f397-a8d857021016"
      },
      "execution_count": 72,
      "outputs": [
        {
          "output_type": "execute_result",
          "data": {
            "text/plain": [
              "array([ 1,  2,  3,  4,  5,  6,  7,  8,  9, 10])"
            ]
          },
          "metadata": {},
          "execution_count": 72
        }
      ]
    },
    {
      "cell_type": "code",
      "source": [
        "bool_arr = arr > 4\n",
        "bool_arr"
      ],
      "metadata": {
        "colab": {
          "base_uri": "https://localhost:8080/"
        },
        "id": "PSivaoJOzGsi",
        "outputId": "5e677e2d-7b5a-431a-dac6-7584de2fc429"
      },
      "execution_count": 73,
      "outputs": [
        {
          "output_type": "execute_result",
          "data": {
            "text/plain": [
              "array([False, False, False, False,  True,  True,  True,  True,  True,\n",
              "        True])"
            ]
          },
          "metadata": {},
          "execution_count": 73
        }
      ]
    },
    {
      "cell_type": "code",
      "source": [
        "arr < 9"
      ],
      "metadata": {
        "colab": {
          "base_uri": "https://localhost:8080/"
        },
        "id": "pBM4M3XWzZUQ",
        "outputId": "f8c45343-f130-4e63-803f-70d4cd181b8a"
      },
      "execution_count": 74,
      "outputs": [
        {
          "output_type": "execute_result",
          "data": {
            "text/plain": [
              "array([ True,  True,  True,  True,  True,  True,  True,  True, False,\n",
              "       False])"
            ]
          },
          "metadata": {},
          "execution_count": 74
        }
      ]
    },
    {
      "cell_type": "code",
      "source": [
        "arr > 4 , arr < 9"
      ],
      "metadata": {
        "colab": {
          "base_uri": "https://localhost:8080/"
        },
        "id": "8FN9RG5BzasN",
        "outputId": "8a7c6738-6fa5-4a68-f264-b4d34eb9cdad"
      },
      "execution_count": 75,
      "outputs": [
        {
          "output_type": "execute_result",
          "data": {
            "text/plain": [
              "(array([False, False, False, False,  True,  True,  True,  True,  True,\n",
              "         True]),\n",
              " array([ True,  True,  True,  True,  True,  True,  True,  True, False,\n",
              "        False]))"
            ]
          },
          "metadata": {},
          "execution_count": 75
        }
      ]
    },
    {
      "cell_type": "code",
      "source": [
        "arr > 4 , # what happens here ??\n",
        "arr < 9"
      ],
      "metadata": {
        "colab": {
          "base_uri": "https://localhost:8080/"
        },
        "id": "FEfFUuWZzIBp",
        "outputId": "a437cc81-6b74-41af-9451-97b136fb131b"
      },
      "execution_count": 76,
      "outputs": [
        {
          "output_type": "execute_result",
          "data": {
            "text/plain": [
              "array([ True,  True,  True,  True,  True,  True,  True,  True, False,\n",
              "       False])"
            ]
          },
          "metadata": {},
          "execution_count": 76
        }
      ]
    },
    {
      "cell_type": "code",
      "source": [
        "arr[arr>4]"
      ],
      "metadata": {
        "colab": {
          "base_uri": "https://localhost:8080/"
        },
        "id": "sM6uHuqlzqku",
        "outputId": "9b86699d-c8c5-4729-d859-103d37e09935"
      },
      "execution_count": 77,
      "outputs": [
        {
          "output_type": "execute_result",
          "data": {
            "text/plain": [
              "array([ 5,  6,  7,  8,  9, 10])"
            ]
          },
          "metadata": {},
          "execution_count": 77
        }
      ]
    },
    {
      "cell_type": "markdown",
      "source": [
        "# math"
      ],
      "metadata": {
        "id": "G0XPwDbM_qma"
      }
    },
    {
      "cell_type": "code",
      "source": [
        "mat"
      ],
      "metadata": {
        "colab": {
          "base_uri": "https://localhost:8080/"
        },
        "id": "C_QSX5s8__mW",
        "outputId": "4e193a6f-cf91-4fea-fa3c-04df39874e97"
      },
      "execution_count": 78,
      "outputs": [
        {
          "output_type": "execute_result",
          "data": {
            "text/plain": [
              "array([[ 1,  2,  3,  4,  5],\n",
              "       [ 6,  7,  8,  9, 10],\n",
              "       [11, 12, 13, 14, 15],\n",
              "       [16, 17, 18, 19, 20],\n",
              "       [21, 22, 23, 24, 25]])"
            ]
          },
          "metadata": {},
          "execution_count": 78
        }
      ]
    },
    {
      "cell_type": "code",
      "source": [
        "np.sum(mat)"
      ],
      "metadata": {
        "id": "_L-B4FnW6Eqs",
        "colab": {
          "base_uri": "https://localhost:8080/"
        },
        "outputId": "0b89cfbd-66cc-41cd-db88-e56b1db46446"
      },
      "execution_count": 79,
      "outputs": [
        {
          "output_type": "execute_result",
          "data": {
            "text/plain": [
              "325"
            ]
          },
          "metadata": {},
          "execution_count": 79
        }
      ]
    },
    {
      "cell_type": "code",
      "source": [
        "mat.sum()"
      ],
      "metadata": {
        "id": "ja3DQk5A3tHt",
        "colab": {
          "base_uri": "https://localhost:8080/"
        },
        "outputId": "fcce3928-0871-462a-9c4c-20b23d6e9e06"
      },
      "execution_count": 80,
      "outputs": [
        {
          "output_type": "execute_result",
          "data": {
            "text/plain": [
              "325"
            ]
          },
          "metadata": {},
          "execution_count": 80
        }
      ]
    },
    {
      "cell_type": "code",
      "source": [
        "np.std(mat)"
      ],
      "metadata": {
        "id": "lSCPtv1I3pEP",
        "colab": {
          "base_uri": "https://localhost:8080/"
        },
        "outputId": "213a1be0-fc74-4e3b-e53a-f5e83f912c9a"
      },
      "execution_count": 81,
      "outputs": [
        {
          "output_type": "execute_result",
          "data": {
            "text/plain": [
              "7.211102550927978"
            ]
          },
          "metadata": {},
          "execution_count": 81
        }
      ]
    },
    {
      "cell_type": "code",
      "source": [
        "mat.std()"
      ],
      "metadata": {
        "colab": {
          "base_uri": "https://localhost:8080/"
        },
        "id": "G0bLpErD_yhB",
        "outputId": "d7fb1f96-c9a4-4acc-b814-61cb2f753fa4"
      },
      "execution_count": 82,
      "outputs": [
        {
          "output_type": "execute_result",
          "data": {
            "text/plain": [
              "7.211102550927978"
            ]
          },
          "metadata": {},
          "execution_count": 82
        }
      ]
    },
    {
      "cell_type": "code",
      "source": [
        "# sum of all cols\n",
        "mat.sum(axis=0)"
      ],
      "metadata": {
        "id": "jVMccCKi3Ovd",
        "colab": {
          "base_uri": "https://localhost:8080/"
        },
        "outputId": "6ed9fca0-cd0d-487e-ab1c-4ca790ffae7d"
      },
      "execution_count": 83,
      "outputs": [
        {
          "output_type": "execute_result",
          "data": {
            "text/plain": [
              "array([55, 60, 65, 70, 75])"
            ]
          },
          "metadata": {},
          "execution_count": 83
        }
      ]
    },
    {
      "cell_type": "code",
      "source": [
        "# sum of all rows\n",
        "mat.sum(axis=1)"
      ],
      "metadata": {
        "id": "PKUCEddvm4jZ",
        "colab": {
          "base_uri": "https://localhost:8080/"
        },
        "outputId": "5edd9c15-e9bb-4ea6-97d6-8a1a0df3cdf0"
      },
      "execution_count": 84,
      "outputs": [
        {
          "output_type": "execute_result",
          "data": {
            "text/plain": [
              "array([ 15,  40,  65,  90, 115])"
            ]
          },
          "metadata": {},
          "execution_count": 84
        }
      ]
    },
    {
      "cell_type": "markdown",
      "source": [
        "# Numpy Opreations"
      ],
      "metadata": {
        "id": "6utgtq6_0H5y"
      }
    },
    {
      "cell_type": "code",
      "source": [
        "arr = np.arange(0,11)"
      ],
      "metadata": {
        "id": "qMgpBFzN0Jjc"
      },
      "execution_count": 85,
      "outputs": []
    },
    {
      "cell_type": "code",
      "source": [
        "arr"
      ],
      "metadata": {
        "id": "dWS5ib_I0WlH",
        "colab": {
          "base_uri": "https://localhost:8080/"
        },
        "outputId": "e30d0c03-05d1-4bfc-ca4a-f9847cf8b2ae"
      },
      "execution_count": 86,
      "outputs": [
        {
          "output_type": "execute_result",
          "data": {
            "text/plain": [
              "array([ 0,  1,  2,  3,  4,  5,  6,  7,  8,  9, 10])"
            ]
          },
          "metadata": {},
          "execution_count": 86
        }
      ]
    },
    {
      "cell_type": "code",
      "source": [
        "arr * 2"
      ],
      "metadata": {
        "colab": {
          "base_uri": "https://localhost:8080/"
        },
        "id": "WqXLfkZX0P89",
        "outputId": "56a6e596-d7ff-49b3-837f-28373311ecb8"
      },
      "execution_count": 87,
      "outputs": [
        {
          "output_type": "execute_result",
          "data": {
            "text/plain": [
              "array([ 0,  2,  4,  6,  8, 10, 12, 14, 16, 18, 20])"
            ]
          },
          "metadata": {},
          "execution_count": 87
        }
      ]
    },
    {
      "cell_type": "markdown",
      "source": [
        "# Numpy Practice Distrbutions"
      ],
      "metadata": {
        "id": "ciJ5DKVD7rW6"
      }
    },
    {
      "cell_type": "code",
      "source": [
        "# normal dist\n",
        "\n",
        "x = np.random.normal(loc=0,scale =2, size=(2,3))\n",
        "x"
      ],
      "metadata": {
        "id": "TBSFGFed0Qmp",
        "colab": {
          "base_uri": "https://localhost:8080/"
        },
        "outputId": "d8cf0a9a-602b-4538-bd0b-d7ae12f76076"
      },
      "execution_count": 88,
      "outputs": [
        {
          "output_type": "execute_result",
          "data": {
            "text/plain": [
              "array([[-1.76035843,  6.29485348,  2.87460826],\n",
              "       [-0.01355949,  1.78336767,  4.09323252]])"
            ]
          },
          "metadata": {},
          "execution_count": 88
        }
      ]
    },
    {
      "cell_type": "code",
      "source": [
        "sns.distplot(x)\n",
        "plt.show()"
      ],
      "metadata": {
        "colab": {
          "base_uri": "https://localhost:8080/",
          "height": 430
        },
        "id": "9RMYoVbm8w89",
        "outputId": "101d269f-a82a-4fc6-abed-033889b7464b"
      },
      "execution_count": 89,
      "outputs": [
        {
          "output_type": "display_data",
          "data": {
            "text/plain": [
              "<Figure size 640x480 with 1 Axes>"
            ],
            "image/png": "[encoded data removed]"
          },
          "metadata": {}
        }
      ]
    },
    {
      "cell_type": "code",
      "source": [
        "sns.distplot(np.random.normal(size=1000))\n",
        "plt.show()"
      ],
      "metadata": {
        "colab": {
          "base_uri": "https://localhost:8080/",
          "height": 435
        },
        "id": "tvuMkcdy8cmo",
        "outputId": "1e062314-d559-405a-d61b-e1de9efc7c96"
      },
      "execution_count": 90,
      "outputs": [
        {
          "output_type": "display_data",
          "data": {
            "text/plain": [
              "<Figure size 640x480 with 1 Axes>"
            ],
            "image/png": "[encoded data removed]"
          },
          "metadata": {}
        }
      ]
    },
    {
      "cell_type": "code",
      "source": [
        "# bionomial dist\n",
        "\n",
        "x = np.random.binomial(n=10, p=0.5, size= 10)\n",
        "x"
      ],
      "metadata": {
        "colab": {
          "base_uri": "https://localhost:8080/"
        },
        "id": "U0duQuc68knR",
        "outputId": "814a2105-60e2-48ac-d4de-322c678e3a5b"
      },
      "execution_count": 91,
      "outputs": [
        {
          "output_type": "execute_result",
          "data": {
            "text/plain": [
              "array([3, 7, 6, 6, 4, 3, 5, 8, 5, 8])"
            ]
          },
          "metadata": {},
          "execution_count": 91
        }
      ]
    },
    {
      "cell_type": "code",
      "source": [
        "sns.distplot(x)\n",
        "plt.show()"
      ],
      "metadata": {
        "colab": {
          "base_uri": "https://localhost:8080/",
          "height": 432
        },
        "id": "CnRUc9nlzpsI",
        "outputId": "ba59b785-6756-41c6-f754-97d102a3b586"
      },
      "execution_count": 92,
      "outputs": [
        {
          "output_type": "display_data",
          "data": {
            "text/plain": [
              "<Figure size 640x480 with 1 Axes>"
            ],
            "image/png": "[encoded data removed]"
          },
          "metadata": {}
        }
      ]
    },
    {
      "cell_type": "code",
      "source": [
        "import seaborn as sns\n",
        "sns.distplot(np.random.binomial(n=10, p=0.5,size = 1000) , hist = True , kde = False)\n",
        "plt.show()"
      ],
      "metadata": {
        "id": "gQkiEuu4m3Jr",
        "colab": {
          "base_uri": "https://localhost:8080/",
          "height": 430
        },
        "outputId": "4405e0d5-b978-42a3-a76c-ca4f45bea3c9"
      },
      "execution_count": 93,
      "outputs": [
        {
          "output_type": "display_data",
          "data": {
            "text/plain": [
              "<Figure size 640x480 with 1 Axes>"
            ],
            "image/png": "[encoded data removed]"
          },
          "metadata": {}
        }
      ]
    },
    {
      "cell_type": "code",
      "source": [
        "# Poisson dist\n",
        "x=np.random.poisson()\n",
        "x"
      ],
      "metadata": {
        "colab": {
          "base_uri": "https://localhost:8080/"
        },
        "id": "CMckxVIoz4mc",
        "outputId": "f6c49d62-7010-4cc5-8481-ab7f079c1691"
      },
      "execution_count": 94,
      "outputs": [
        {
          "output_type": "execute_result",
          "data": {
            "text/plain": [
              "2"
            ]
          },
          "metadata": {},
          "execution_count": 94
        }
      ]
    },
    {
      "cell_type": "code",
      "source": [
        "x=np.random.poisson(lam=2, size=10)\n",
        "x"
      ],
      "metadata": {
        "id": "saSFTiCdmemv",
        "colab": {
          "base_uri": "https://localhost:8080/"
        },
        "outputId": "56a9f5a6-4a51-4bb7-df4b-3c3165f53390"
      },
      "execution_count": 95,
      "outputs": [
        {
          "output_type": "execute_result",
          "data": {
            "text/plain": [
              "array([5, 1, 3, 3, 0, 3, 1, 1, 1, 0])"
            ]
          },
          "metadata": {},
          "execution_count": 95
        }
      ]
    },
    {
      "cell_type": "code",
      "source": [
        "sns.distplot(x)\n",
        "plt.show()"
      ],
      "metadata": {
        "colab": {
          "base_uri": "https://localhost:8080/",
          "height": 430
        },
        "id": "1y9dFdWO0jul",
        "outputId": "f9d67d2c-3de4-4ad1-e1ee-f530e869ae3c"
      },
      "execution_count": 96,
      "outputs": [
        {
          "output_type": "display_data",
          "data": {
            "text/plain": [
              "<Figure size 640x480 with 1 Axes>"
            ],
            "image/png": "[encoded data removed]"
          },
          "metadata": {}
        }
      ]
    },
    {
      "cell_type": "code",
      "source": [
        "sns.distplot(np.random.poisson(lam = 2 , size = 1000) , hist = True , kde = True)\n",
        "plt.show()"
      ],
      "metadata": {
        "id": "vAxJ97h1mdlE",
        "colab": {
          "base_uri": "https://localhost:8080/",
          "height": 430
        },
        "outputId": "4e2d62c9-d9c5-4877-c0eb-7957d70d1034"
      },
      "execution_count": 97,
      "outputs": [
        {
          "output_type": "display_data",
          "data": {
            "text/plain": [
              "<Figure size 640x480 with 1 Axes>"
            ],
            "image/png": "[encoded data removed]"
          },
          "metadata": {}
        }
      ]
    },
    {
      "cell_type": "code",
      "source": [
        "# uniform dist\n",
        "\n",
        "x = np.random.uniform(low=0 , high=4, size=(5, 5))\n",
        "x"
      ],
      "metadata": {
        "colab": {
          "base_uri": "https://localhost:8080/"
        },
        "id": "TEX4KhRA0u_2",
        "outputId": "37789776-d3ee-4b12-996a-d2ba8fc35c25"
      },
      "execution_count": 98,
      "outputs": [
        {
          "output_type": "execute_result",
          "data": {
            "text/plain": [
              "array([[2.6377412 , 2.92321015, 2.46177626, 1.55122374, 3.15941983],\n",
              "       [2.15320765, 2.67883171, 2.08715403, 1.90954397, 2.01060894],\n",
              "       [1.43034679, 1.35924554, 3.68974657, 2.52257768, 0.55647634],\n",
              "       [0.64354185, 3.72171472, 1.79897501, 0.91328562, 2.90051548],\n",
              "       [3.01251694, 1.77292668, 0.6650912 , 0.94221428, 2.82616162]])"
            ]
          },
          "metadata": {},
          "execution_count": 98
        }
      ]
    },
    {
      "cell_type": "code",
      "source": [
        "sns.distplot(x)\n",
        "plt.show()"
      ],
      "metadata": {
        "colab": {
          "base_uri": "https://localhost:8080/",
          "height": 430
        },
        "id": "iJKpX-0i07P_",
        "outputId": "1b84e1d3-7e42-4c83-ce6f-7975cc93b2fd"
      },
      "execution_count": 99,
      "outputs": [
        {
          "output_type": "display_data",
          "data": {
            "text/plain": [
              "<Figure size 640x480 with 1 Axes>"
            ],
            "image/png": "[encoded data removed]"
          },
          "metadata": {}
        }
      ]
    },
    {
      "cell_type": "code",
      "source": [
        "sns.distplot(np.random.uniform(size = 1000) , hist = True )\n",
        "plt.show()"
      ],
      "metadata": {
        "colab": {
          "base_uri": "https://localhost:8080/",
          "height": 430
        },
        "id": "ZrNFplu_0-Yd",
        "outputId": "ebadcb9d-9d2f-4980-a764-642c07cf83b2"
      },
      "execution_count": 100,
      "outputs": [
        {
          "output_type": "display_data",
          "data": {
            "text/plain": [
              "<Figure size 640x480 with 1 Axes>"
            ],
            "image/png": "[encoded data removed]"
          },
          "metadata": {}
        }
      ]
    },
    {
      "cell_type": "code",
      "source": [],
      "metadata": {
        "id": "7-vFHcLn0-zx"
      },
      "execution_count": 100,
      "outputs": []
    },
    {
      "cell_type": "code",
      "source": [],
      "metadata": {
        "id": "ctxC1xWRmcL3"
      },
      "execution_count": 100,
      "outputs": []
    }
  ]
}