{
  "nbformat": 4,
  "nbformat_minor": 0,
  "metadata": {
    "colab": {
      "provenance": [],
      "authorship_tag": "ABX9TyPgqoklKfpf67l0oKUeVdUA",
      "include_colab_link": true
    },
    "kernelspec": {
      "name": "python3",
      "display_name": "Python 3"
    },
    "language_info": {
      "name": "python"
    }
  },
  "cells": [
    {
      "cell_type": "markdown",
      "metadata": {
        "id": "view-in-github",
        "colab_type": "text"
      },
      "source": [
        "<a href=\"https://colab.research.google.com/github/pouya-mhb/DS-ML-DL-Practices/blob/main/MultiLableClassification_RandomForest_XGBoost.ipynb\" target=\"_parent\"><img src=\"https://colab.research.google.com/assets/colab-badge.svg\" alt=\"Open In Colab\"/></a>"
      ]
    },
    {
      "cell_type": "code",
      "source": [
        "import pandas as pd\n",
        "from sklearn.model_selection import train_test_split\n",
        "from sklearn.ensemble import RandomForestClassifier\n",
        "from xgboost import XGBClassifier\n",
        "from sklearn.metrics import classification_report, accuracy_score"
      ],
      "metadata": {
        "id": "Ww7sf-D7qlWk"
      },
      "execution_count": null,
      "outputs": []
    },
    {
      "cell_type": "code",
      "source": [
        "from google.colab import drive\n",
        "drive.mount('/content/drive')"
      ],
      "metadata": {
        "colab": {
          "base_uri": "https://localhost:8080/",
          "height": 304
        },
        "id": "IfDHrhuaqtw9",
        "outputId": "36919b25-29d1-4299-8b13-e5490cf8dc5d"
      },
      "execution_count": null,
      "outputs": [
        {
          "output_type": "error",
          "ename": "MessageError",
          "evalue": "Error: credential propagation was unsuccessful",
          "traceback": [
            "\u001b[0;31m---------------------------------------------------------------------------\u001b[0m",
            "\u001b[0;31mMessageError\u001b[0m                              Traceback (most recent call last)",
            "\u001b[0;32m<ipython-input-1-d5df0069828e>\u001b[0m in \u001b[0;36m<cell line: 0>\u001b[0;34m()\u001b[0m\n\u001b[1;32m      1\u001b[0m \u001b[0;32mfrom\u001b[0m \u001b[0mgoogle\u001b[0m\u001b[0;34m.\u001b[0m\u001b[0mcolab\u001b[0m \u001b[0;32mimport\u001b[0m \u001b[0mdrive\u001b[0m\u001b[0;34m\u001b[0m\u001b[0;34m\u001b[0m\u001b[0m\n\u001b[0;32m----> 2\u001b[0;31m \u001b[0mdrive\u001b[0m\u001b[0;34m.\u001b[0m\u001b[0mmount\u001b[0m\u001b[0;34m(\u001b[0m\u001b[0;34m'/content/drive'\u001b[0m\u001b[0;34m)\u001b[0m\u001b[0;34m\u001b[0m\u001b[0;34m\u001b[0m\u001b[0m\n\u001b[0m",
            "\u001b[0;32m/usr/local/lib/python3.11/dist-packages/google/colab/drive.py\u001b[0m in \u001b[0;36mmount\u001b[0;34m(mountpoint, force_remount, timeout_ms, readonly)\u001b[0m\n\u001b[1;32m     98\u001b[0m \u001b[0;32mdef\u001b[0m \u001b[0mmount\u001b[0m\u001b[0;34m(\u001b[0m\u001b[0mmountpoint\u001b[0m\u001b[0;34m,\u001b[0m \u001b[0mforce_remount\u001b[0m\u001b[0;34m=\u001b[0m\u001b[0;32mFalse\u001b[0m\u001b[0;34m,\u001b[0m \u001b[0mtimeout_ms\u001b[0m\u001b[0;34m=\u001b[0m\u001b[0;36m120000\u001b[0m\u001b[0;34m,\u001b[0m \u001b[0mreadonly\u001b[0m\u001b[0;34m=\u001b[0m\u001b[0;32mFalse\u001b[0m\u001b[0;34m)\u001b[0m\u001b[0;34m:\u001b[0m\u001b[0;34m\u001b[0m\u001b[0;34m\u001b[0m\u001b[0m\n\u001b[1;32m     99\u001b[0m   \u001b[0;34m\"\"\"Mount your Google Drive at the specified mountpoint path.\"\"\"\u001b[0m\u001b[0;34m\u001b[0m\u001b[0;34m\u001b[0m\u001b[0m\n\u001b[0;32m--> 100\u001b[0;31m   return _mount(\n\u001b[0m\u001b[1;32m    101\u001b[0m       \u001b[0mmountpoint\u001b[0m\u001b[0;34m,\u001b[0m\u001b[0;34m\u001b[0m\u001b[0;34m\u001b[0m\u001b[0m\n\u001b[1;32m    102\u001b[0m       \u001b[0mforce_remount\u001b[0m\u001b[0;34m=\u001b[0m\u001b[0mforce_remount\u001b[0m\u001b[0;34m,\u001b[0m\u001b[0;34m\u001b[0m\u001b[0;34m\u001b[0m\u001b[0m\n",
            "\u001b[0;32m/usr/local/lib/python3.11/dist-packages/google/colab/drive.py\u001b[0m in \u001b[0;36m_mount\u001b[0;34m(mountpoint, force_remount, timeout_ms, ephemeral, readonly)\u001b[0m\n\u001b[1;32m    135\u001b[0m   )\n\u001b[1;32m    136\u001b[0m   \u001b[0;32mif\u001b[0m \u001b[0mephemeral\u001b[0m\u001b[0;34m:\u001b[0m\u001b[0;34m\u001b[0m\u001b[0;34m\u001b[0m\u001b[0m\n\u001b[0;32m--> 137\u001b[0;31m     _message.blocking_request(\n\u001b[0m\u001b[1;32m    138\u001b[0m         \u001b[0;34m'request_auth'\u001b[0m\u001b[0;34m,\u001b[0m\u001b[0;34m\u001b[0m\u001b[0;34m\u001b[0m\u001b[0m\n\u001b[1;32m    139\u001b[0m         \u001b[0mrequest\u001b[0m\u001b[0;34m=\u001b[0m\u001b[0;34m{\u001b[0m\u001b[0;34m'authType'\u001b[0m\u001b[0;34m:\u001b[0m \u001b[0;34m'dfs_ephemeral'\u001b[0m\u001b[0;34m}\u001b[0m\u001b[0;34m,\u001b[0m\u001b[0;34m\u001b[0m\u001b[0;34m\u001b[0m\u001b[0m\n",
            "\u001b[0;32m/usr/local/lib/python3.11/dist-packages/google/colab/_message.py\u001b[0m in \u001b[0;36mblocking_request\u001b[0;34m(request_type, request, timeout_sec, parent)\u001b[0m\n\u001b[1;32m    174\u001b[0m       \u001b[0mrequest_type\u001b[0m\u001b[0;34m,\u001b[0m \u001b[0mrequest\u001b[0m\u001b[0;34m,\u001b[0m \u001b[0mparent\u001b[0m\u001b[0;34m=\u001b[0m\u001b[0mparent\u001b[0m\u001b[0;34m,\u001b[0m \u001b[0mexpect_reply\u001b[0m\u001b[0;34m=\u001b[0m\u001b[0;32mTrue\u001b[0m\u001b[0;34m\u001b[0m\u001b[0;34m\u001b[0m\u001b[0m\n\u001b[1;32m    175\u001b[0m   )\n\u001b[0;32m--> 176\u001b[0;31m   \u001b[0;32mreturn\u001b[0m \u001b[0mread_reply_from_input\u001b[0m\u001b[0;34m(\u001b[0m\u001b[0mrequest_id\u001b[0m\u001b[0;34m,\u001b[0m \u001b[0mtimeout_sec\u001b[0m\u001b[0;34m)\u001b[0m\u001b[0;34m\u001b[0m\u001b[0;34m\u001b[0m\u001b[0m\n\u001b[0m",
            "\u001b[0;32m/usr/local/lib/python3.11/dist-packages/google/colab/_message.py\u001b[0m in \u001b[0;36mread_reply_from_input\u001b[0;34m(message_id, timeout_sec)\u001b[0m\n\u001b[1;32m    101\u001b[0m     ):\n\u001b[1;32m    102\u001b[0m       \u001b[0;32mif\u001b[0m \u001b[0;34m'error'\u001b[0m \u001b[0;32min\u001b[0m \u001b[0mreply\u001b[0m\u001b[0;34m:\u001b[0m\u001b[0;34m\u001b[0m\u001b[0;34m\u001b[0m\u001b[0m\n\u001b[0;32m--> 103\u001b[0;31m         \u001b[0;32mraise\u001b[0m \u001b[0mMessageError\u001b[0m\u001b[0;34m(\u001b[0m\u001b[0mreply\u001b[0m\u001b[0;34m[\u001b[0m\u001b[0;34m'error'\u001b[0m\u001b[0;34m]\u001b[0m\u001b[0;34m)\u001b[0m\u001b[0;34m\u001b[0m\u001b[0;34m\u001b[0m\u001b[0m\n\u001b[0m\u001b[1;32m    104\u001b[0m       \u001b[0;32mreturn\u001b[0m \u001b[0mreply\u001b[0m\u001b[0;34m.\u001b[0m\u001b[0mget\u001b[0m\u001b[0;34m(\u001b[0m\u001b[0;34m'data'\u001b[0m\u001b[0;34m,\u001b[0m \u001b[0;32mNone\u001b[0m\u001b[0;34m)\u001b[0m\u001b[0;34m\u001b[0m\u001b[0;34m\u001b[0m\u001b[0m\n\u001b[1;32m    105\u001b[0m \u001b[0;34m\u001b[0m\u001b[0m\n",
            "\u001b[0;31mMessageError\u001b[0m: Error: credential propagation was unsuccessful"
          ]
        }
      ]
    },
    {
      "cell_type": "code",
      "source": [
        "# بارگذاری داده‌ها از فایل\n",
        "df = pd.read_csv('/content/drive/MyDrive/Thesis-Project/arff/emotions.csv')"
      ],
      "metadata": {
        "id": "Iju-BvdaqymK"
      },
      "execution_count": null,
      "outputs": []
    },
    {
      "cell_type": "code",
      "source": [
        "df.head()"
      ],
      "metadata": {
        "colab": {
          "base_uri": "https://localhost:8080/",
          "height": 273
        },
        "id": "qzEdWsikrBGh",
        "outputId": "6371dc55-3b1b-4971-e833-ac068db36193"
      },
      "execution_count": null,
      "outputs": [
        {
          "output_type": "execute_result",
          "data": {
            "text/plain": [
              "   Mean_Acc1298_Mean_Mem40_Centroid  Mean_Acc1298_Mean_Mem40_Rolloff  \\\n",
              "0                          0.034741                         0.089665   \n",
              "1                          0.081374                         0.272747   \n",
              "2                          0.110545                         0.273567   \n",
              "3                          0.042481                         0.199281   \n",
              "4                          0.074550                         0.140880   \n",
              "\n",
              "   Mean_Acc1298_Mean_Mem40_Flux  Mean_Acc1298_Mean_Mem40_MFCC_0  \\\n",
              "0                      0.091225                      -73.302422   \n",
              "1                      0.085733                      -62.584437   \n",
              "2                      0.084410                      -65.235325   \n",
              "3                      0.093447                      -80.305152   \n",
              "4                      0.079789                      -93.697749   \n",
              "\n",
              "   Mean_Acc1298_Mean_Mem40_MFCC_1  Mean_Acc1298_Mean_Mem40_MFCC_2  \\\n",
              "0                        6.215179                        0.615074   \n",
              "1                        3.183163                       -0.218145   \n",
              "2                        2.794964                        0.639047   \n",
              "3                        5.824409                        0.648848   \n",
              "4                        5.543229                        1.064262   \n",
              "\n",
              "   Mean_Acc1298_Mean_Mem40_MFCC_3  Mean_Acc1298_Mean_Mem40_MFCC_4  \\\n",
              "0                        2.037160                        0.804065   \n",
              "1                        0.163038                        0.620251   \n",
              "2                        1.281297                        0.757896   \n",
              "3                        1.754870                        1.495532   \n",
              "4                        0.899152                        0.890336   \n",
              "\n",
              "   Mean_Acc1298_Mean_Mem40_MFCC_5  Mean_Acc1298_Mean_Mem40_MFCC_6  ...  \\\n",
              "0                        1.301409                        0.558576  ...   \n",
              "1                        0.458514                        0.041426  ...   \n",
              "2                        0.489412                        0.627636  ...   \n",
              "3                        0.739909                        0.809644  ...   \n",
              "4                        0.702328                        0.490685  ...   \n",
              "\n",
              "   BH_HighLowRatio    BHSUM1    BHSUM2    BHSUM3  amazed-suprised  \\\n",
              "0              2.0  0.245457  0.105065  0.405399                0   \n",
              "1              2.0  0.343547  0.276366  0.710924                1   \n",
              "2              3.0  0.188693  0.045941  0.457372                0   \n",
              "3              2.0  0.102839  0.241934  0.351009                0   \n",
              "4              2.0  0.195196  0.310801  0.683817                0   \n",
              "\n",
              "   happy-pleased  relaxing-calm  quiet-still  sad-lonely  angry-aggresive  \n",
              "0              1              1            0           0                0  \n",
              "1              0              0            0           0                1  \n",
              "2              1              0            0           0                1  \n",
              "3              0              1            0           0                0  \n",
              "4              0              0            1           0                0  \n",
              "\n",
              "[5 rows x 78 columns]"
            ],
            "text/html": [
              "\n",
              "  <div id=\"df-983a880c-9eee-4574-a9a4-5b031e9c541b\" class=\"colab-df-container\">\n",
              "    <div>\n",
              "<style scoped>\n",
              "    .dataframe tbody tr th:only-of-type {\n",
              "        vertical-align: middle;\n",
              "    }\n",
              "\n",
              "    .dataframe tbody tr th {\n",
              "        vertical-align: top;\n",
              "    }\n",
              "\n",
              "    .dataframe thead th {\n",
              "        text-align: right;\n",
              "    }\n",
              "</style>\n",
              "<table border=\"1\" class=\"dataframe\">\n",
              "  <thead>\n",
              "    <tr style=\"text-align: right;\">\n",
              "      <th></th>\n",
              "      <th>Mean_Acc1298_Mean_Mem40_Centroid</th>\n",
              "      <th>Mean_Acc1298_Mean_Mem40_Rolloff</th>\n",
              "      <th>Mean_Acc1298_Mean_Mem40_Flux</th>\n",
              "      <th>Mean_Acc1298_Mean_Mem40_MFCC_0</th>\n",
              "      <th>Mean_Acc1298_Mean_Mem40_MFCC_1</th>\n",
              "      <th>Mean_Acc1298_Mean_Mem40_MFCC_2</th>\n",
              "      <th>Mean_Acc1298_Mean_Mem40_MFCC_3</th>\n",
              "      <th>Mean_Acc1298_Mean_Mem40_MFCC_4</th>\n",
              "      <th>Mean_Acc1298_Mean_Mem40_MFCC_5</th>\n",
              "      <th>Mean_Acc1298_Mean_Mem40_MFCC_6</th>\n",
              "      <th>...</th>\n",
              "      <th>BH_HighLowRatio</th>\n",
              "      <th>BHSUM1</th>\n",
              "      <th>BHSUM2</th>\n",
              "      <th>BHSUM3</th>\n",
              "      <th>amazed-suprised</th>\n",
              "      <th>happy-pleased</th>\n",
              "      <th>relaxing-calm</th>\n",
              "      <th>quiet-still</th>\n",
              "      <th>sad-lonely</th>\n",
              "      <th>angry-aggresive</th>\n",
              "    </tr>\n",
              "  </thead>\n",
              "  <tbody>\n",
              "    <tr>\n",
              "      <th>0</th>\n",
              "      <td>0.034741</td>\n",
              "      <td>0.089665</td>\n",
              "      <td>0.091225</td>\n",
              "      <td>-73.302422</td>\n",
              "      <td>6.215179</td>\n",
              "      <td>0.615074</td>\n",
              "      <td>2.037160</td>\n",
              "      <td>0.804065</td>\n",
              "      <td>1.301409</td>\n",
              "      <td>0.558576</td>\n",
              "      <td>...</td>\n",
              "      <td>2.0</td>\n",
              "      <td>0.245457</td>\n",
              "      <td>0.105065</td>\n",
              "      <td>0.405399</td>\n",
              "      <td>0</td>\n",
              "      <td>1</td>\n",
              "      <td>1</td>\n",
              "      <td>0</td>\n",
              "      <td>0</td>\n",
              "      <td>0</td>\n",
              "    </tr>\n",
              "    <tr>\n",
              "      <th>1</th>\n",
              "      <td>0.081374</td>\n",
              "      <td>0.272747</td>\n",
              "      <td>0.085733</td>\n",
              "      <td>-62.584437</td>\n",
              "      <td>3.183163</td>\n",
              "      <td>-0.218145</td>\n",
              "      <td>0.163038</td>\n",
              "      <td>0.620251</td>\n",
              "      <td>0.458514</td>\n",
              "      <td>0.041426</td>\n",
              "      <td>...</td>\n",
              "      <td>2.0</td>\n",
              "      <td>0.343547</td>\n",
              "      <td>0.276366</td>\n",
              "      <td>0.710924</td>\n",
              "      <td>1</td>\n",
              "      <td>0</td>\n",
              "      <td>0</td>\n",
              "      <td>0</td>\n",
              "      <td>0</td>\n",
              "      <td>1</td>\n",
              "    </tr>\n",
              "    <tr>\n",
              "      <th>2</th>\n",
              "      <td>0.110545</td>\n",
              "      <td>0.273567</td>\n",
              "      <td>0.084410</td>\n",
              "      <td>-65.235325</td>\n",
              "      <td>2.794964</td>\n",
              "      <td>0.639047</td>\n",
              "      <td>1.281297</td>\n",
              "      <td>0.757896</td>\n",
              "      <td>0.489412</td>\n",
              "      <td>0.627636</td>\n",
              "      <td>...</td>\n",
              "      <td>3.0</td>\n",
              "      <td>0.188693</td>\n",
              "      <td>0.045941</td>\n",
              "      <td>0.457372</td>\n",
              "      <td>0</td>\n",
              "      <td>1</td>\n",
              "      <td>0</td>\n",
              "      <td>0</td>\n",
              "      <td>0</td>\n",
              "      <td>1</td>\n",
              "    </tr>\n",
              "    <tr>\n",
              "      <th>3</th>\n",
              "      <td>0.042481</td>\n",
              "      <td>0.199281</td>\n",
              "      <td>0.093447</td>\n",
              "      <td>-80.305152</td>\n",
              "      <td>5.824409</td>\n",
              "      <td>0.648848</td>\n",
              "      <td>1.754870</td>\n",
              "      <td>1.495532</td>\n",
              "      <td>0.739909</td>\n",
              "      <td>0.809644</td>\n",
              "      <td>...</td>\n",
              "      <td>2.0</td>\n",
              "      <td>0.102839</td>\n",
              "      <td>0.241934</td>\n",
              "      <td>0.351009</td>\n",
              "      <td>0</td>\n",
              "      <td>0</td>\n",
              "      <td>1</td>\n",
              "      <td>0</td>\n",
              "      <td>0</td>\n",
              "      <td>0</td>\n",
              "    </tr>\n",
              "    <tr>\n",
              "      <th>4</th>\n",
              "      <td>0.074550</td>\n",
              "      <td>0.140880</td>\n",
              "      <td>0.079789</td>\n",
              "      <td>-93.697749</td>\n",
              "      <td>5.543229</td>\n",
              "      <td>1.064262</td>\n",
              "      <td>0.899152</td>\n",
              "      <td>0.890336</td>\n",
              "      <td>0.702328</td>\n",
              "      <td>0.490685</td>\n",
              "      <td>...</td>\n",
              "      <td>2.0</td>\n",
              "      <td>0.195196</td>\n",
              "      <td>0.310801</td>\n",
              "      <td>0.683817</td>\n",
              "      <td>0</td>\n",
              "      <td>0</td>\n",
              "      <td>0</td>\n",
              "      <td>1</td>\n",
              "      <td>0</td>\n",
              "      <td>0</td>\n",
              "    </tr>\n",
              "  </tbody>\n",
              "</table>\n",
              "<p>5 rows × 78 columns</p>\n",
              "</div>\n",
              "    <div class=\"colab-df-buttons\">\n",
              "\n",
              "  <div class=\"colab-df-container\">\n",
              "    <button class=\"colab-df-convert\" onclick=\"convertToInteractive('df-983a880c-9eee-4574-a9a4-5b031e9c541b')\"\n",
              "            title=\"Convert this dataframe to an interactive table.\"\n",
              "            style=\"display:none;\">\n",
              "\n",
              "  <svg xmlns=\"http://www.w3.org/2000/svg\" height=\"24px\" viewBox=\"0 -960 960 960\">\n",
              "    <path d=\"M120-120v-720h720v720H120Zm60-500h600v-160H180v160Zm220 220h160v-160H400v160Zm0 220h160v-160H400v160ZM180-400h160v-160H180v160Zm440 0h160v-160H620v160ZM180-180h160v-160H180v160Zm440 0h160v-160H620v160Z\"/>\n",
              "  </svg>\n",
              "    </button>\n",
              "\n",
              "  <style>\n",
              "    .colab-df-container {\n",
              "      display:flex;\n",
              "      gap: 12px;\n",
              "    }\n",
              "\n",
              "    .colab-df-convert {\n",
              "      background-color: #E8F0FE;\n",
              "      border: none;\n",
              "      border-radius: 50%;\n",
              "      cursor: pointer;\n",
              "      display: none;\n",
              "      fill: #1967D2;\n",
              "      height: 32px;\n",
              "      padding: 0 0 0 0;\n",
              "      width: 32px;\n",
              "    }\n",
              "\n",
              "    .colab-df-convert:hover {\n",
              "      background-color: #E2EBFA;\n",
              "      box-shadow: 0px 1px 2px rgba(60, 64, 67, 0.3), 0px 1px 3px 1px rgba(60, 64, 67, 0.15);\n",
              "      fill: #174EA6;\n",
              "    }\n",
              "\n",
              "    .colab-df-buttons div {\n",
              "      margin-bottom: 4px;\n",
              "    }\n",
              "\n",
              "    [theme=dark] .colab-df-convert {\n",
              "      background-color: #3B4455;\n",
              "      fill: #D2E3FC;\n",
              "    }\n",
              "\n",
              "    [theme=dark] .colab-df-convert:hover {\n",
              "      background-color: #434B5C;\n",
              "      box-shadow: 0px 1px 3px 1px rgba(0, 0, 0, 0.15);\n",
              "      filter: drop-shadow(0px 1px 2px rgba(0, 0, 0, 0.3));\n",
              "      fill: #FFFFFF;\n",
              "    }\n",
              "  </style>\n",
              "\n",
              "    <script>\n",
              "      const buttonEl =\n",
              "        document.querySelector('#df-983a880c-9eee-4574-a9a4-5b031e9c541b button.colab-df-convert');\n",
              "      buttonEl.style.display =\n",
              "        google.colab.kernel.accessAllowed ? 'block' : 'none';\n",
              "\n",
              "      async function convertToInteractive(key) {\n",
              "        const element = document.querySelector('#df-983a880c-9eee-4574-a9a4-5b031e9c541b');\n",
              "        const dataTable =\n",
              "          await google.colab.kernel.invokeFunction('convertToInteractive',\n",
              "                                                    [key], {});\n",
              "        if (!dataTable) return;\n",
              "\n",
              "        const docLinkHtml = 'Like what you see? Visit the ' +\n",
              "          '<a target=\"_blank\" href=https://colab.research.google.com/notebooks/data_table.ipynb>data table notebook</a>'\n",
              "          + ' to learn more about interactive tables.';\n",
              "        element.innerHTML = '';\n",
              "        dataTable['output_type'] = 'display_data';\n",
              "        await google.colab.output.renderOutput(dataTable, element);\n",
              "        const docLink = document.createElement('div');\n",
              "        docLink.innerHTML = docLinkHtml;\n",
              "        element.appendChild(docLink);\n",
              "      }\n",
              "    </script>\n",
              "  </div>\n",
              "\n",
              "\n",
              "<div id=\"df-d7185fb9-8074-4479-a49f-e3484fdf4860\">\n",
              "  <button class=\"colab-df-quickchart\" onclick=\"quickchart('df-d7185fb9-8074-4479-a49f-e3484fdf4860')\"\n",
              "            title=\"Suggest charts\"\n",
              "            style=\"display:none;\">\n",
              "\n",
              "<svg xmlns=\"http://www.w3.org/2000/svg\" height=\"24px\"viewBox=\"0 0 24 24\"\n",
              "     width=\"24px\">\n",
              "    <g>\n",
              "        <path d=\"M19 3H5c-1.1 0-2 .9-2 2v14c0 1.1.9 2 2 2h14c1.1 0 2-.9 2-2V5c0-1.1-.9-2-2-2zM9 17H7v-7h2v7zm4 0h-2V7h2v10zm4 0h-2v-4h2v4z\"/>\n",
              "    </g>\n",
              "</svg>\n",
              "  </button>\n",
              "\n",
              "<style>\n",
              "  .colab-df-quickchart {\n",
              "      --bg-color: #E8F0FE;\n",
              "      --fill-color: #1967D2;\n",
              "      --hover-bg-color: #E2EBFA;\n",
              "      --hover-fill-color: #174EA6;\n",
              "      --disabled-fill-color: #AAA;\n",
              "      --disabled-bg-color: #DDD;\n",
              "  }\n",
              "\n",
              "  [theme=dark] .colab-df-quickchart {\n",
              "      --bg-color: #3B4455;\n",
              "      --fill-color: #D2E3FC;\n",
              "      --hover-bg-color: #434B5C;\n",
              "      --hover-fill-color: #FFFFFF;\n",
              "      --disabled-bg-color: #3B4455;\n",
              "      --disabled-fill-color: #666;\n",
              "  }\n",
              "\n",
              "  .colab-df-quickchart {\n",
              "    background-color: var(--bg-color);\n",
              "    border: none;\n",
              "    border-radius: 50%;\n",
              "    cursor: pointer;\n",
              "    display: none;\n",
              "    fill: var(--fill-color);\n",
              "    height: 32px;\n",
              "    padding: 0;\n",
              "    width: 32px;\n",
              "  }\n",
              "\n",
              "  .colab-df-quickchart:hover {\n",
              "    background-color: var(--hover-bg-color);\n",
              "    box-shadow: 0 1px 2px rgba(60, 64, 67, 0.3), 0 1px 3px 1px rgba(60, 64, 67, 0.15);\n",
              "    fill: var(--button-hover-fill-color);\n",
              "  }\n",
              "\n",
              "  .colab-df-quickchart-complete:disabled,\n",
              "  .colab-df-quickchart-complete:disabled:hover {\n",
              "    background-color: var(--disabled-bg-color);\n",
              "    fill: var(--disabled-fill-color);\n",
              "    box-shadow: none;\n",
              "  }\n",
              "\n",
              "  .colab-df-spinner {\n",
              "    border: 2px solid var(--fill-color);\n",
              "    border-color: transparent;\n",
              "    border-bottom-color: var(--fill-color);\n",
              "    animation:\n",
              "      spin 1s steps(1) infinite;\n",
              "  }\n",
              "\n",
              "  @keyframes spin {\n",
              "    0% {\n",
              "      border-color: transparent;\n",
              "      border-bottom-color: var(--fill-color);\n",
              "      border-left-color: var(--fill-color);\n",
              "    }\n",
              "    20% {\n",
              "      border-color: transparent;\n",
              "      border-left-color: var(--fill-color);\n",
              "      border-top-color: var(--fill-color);\n",
              "    }\n",
              "    30% {\n",
              "      border-color: transparent;\n",
              "      border-left-color: var(--fill-color);\n",
              "      border-top-color: var(--fill-color);\n",
              "      border-right-color: var(--fill-color);\n",
              "    }\n",
              "    40% {\n",
              "      border-color: transparent;\n",
              "      border-right-color: var(--fill-color);\n",
              "      border-top-color: var(--fill-color);\n",
              "    }\n",
              "    60% {\n",
              "      border-color: transparent;\n",
              "      border-right-color: var(--fill-color);\n",
              "    }\n",
              "    80% {\n",
              "      border-color: transparent;\n",
              "      border-right-color: var(--fill-color);\n",
              "      border-bottom-color: var(--fill-color);\n",
              "    }\n",
              "    90% {\n",
              "      border-color: transparent;\n",
              "      border-bottom-color: var(--fill-color);\n",
              "    }\n",
              "  }\n",
              "</style>\n",
              "\n",
              "  <script>\n",
              "    async function quickchart(key) {\n",
              "      const quickchartButtonEl =\n",
              "        document.querySelector('#' + key + ' button');\n",
              "      quickchartButtonEl.disabled = true;  // To prevent multiple clicks.\n",
              "      quickchartButtonEl.classList.add('colab-df-spinner');\n",
              "      try {\n",
              "        const charts = await google.colab.kernel.invokeFunction(\n",
              "            'suggestCharts', [key], {});\n",
              "      } catch (error) {\n",
              "        console.error('Error during call to suggestCharts:', error);\n",
              "      }\n",
              "      quickchartButtonEl.classList.remove('colab-df-spinner');\n",
              "      quickchartButtonEl.classList.add('colab-df-quickchart-complete');\n",
              "    }\n",
              "    (() => {\n",
              "      let quickchartButtonEl =\n",
              "        document.querySelector('#df-d7185fb9-8074-4479-a49f-e3484fdf4860 button');\n",
              "      quickchartButtonEl.style.display =\n",
              "        google.colab.kernel.accessAllowed ? 'block' : 'none';\n",
              "    })();\n",
              "  </script>\n",
              "</div>\n",
              "\n",
              "    </div>\n",
              "  </div>\n"
            ],
            "application/vnd.google.colaboratory.intrinsic+json": {
              "type": "dataframe",
              "variable_name": "df"
            }
          },
          "metadata": {},
          "execution_count": 7
        }
      ]
    },
    {
      "cell_type": "code",
      "source": [
        "df.info()"
      ],
      "metadata": {
        "colab": {
          "base_uri": "https://localhost:8080/"
        },
        "id": "sBJgiTf3rCGD",
        "outputId": "775ab100-68a5-4518-ac9a-f7483d152260"
      },
      "execution_count": null,
      "outputs": [
        {
          "output_type": "stream",
          "name": "stdout",
          "text": [
            "<class 'pandas.core.frame.DataFrame'>\n",
            "RangeIndex: 593 entries, 0 to 592\n",
            "Data columns (total 78 columns):\n",
            " #   Column                            Non-Null Count  Dtype  \n",
            "---  ------                            --------------  -----  \n",
            " 0   Mean_Acc1298_Mean_Mem40_Centroid  593 non-null    float64\n",
            " 1   Mean_Acc1298_Mean_Mem40_Rolloff   593 non-null    float64\n",
            " 2   Mean_Acc1298_Mean_Mem40_Flux      593 non-null    float64\n",
            " 3   Mean_Acc1298_Mean_Mem40_MFCC_0    593 non-null    float64\n",
            " 4   Mean_Acc1298_Mean_Mem40_MFCC_1    593 non-null    float64\n",
            " 5   Mean_Acc1298_Mean_Mem40_MFCC_2    593 non-null    float64\n",
            " 6   Mean_Acc1298_Mean_Mem40_MFCC_3    593 non-null    float64\n",
            " 7   Mean_Acc1298_Mean_Mem40_MFCC_4    593 non-null    float64\n",
            " 8   Mean_Acc1298_Mean_Mem40_MFCC_5    593 non-null    float64\n",
            " 9   Mean_Acc1298_Mean_Mem40_MFCC_6    593 non-null    float64\n",
            " 10  Mean_Acc1298_Mean_Mem40_MFCC_7    593 non-null    float64\n",
            " 11  Mean_Acc1298_Mean_Mem40_MFCC_8    593 non-null    float64\n",
            " 12  Mean_Acc1298_Mean_Mem40_MFCC_9    593 non-null    float64\n",
            " 13  Mean_Acc1298_Mean_Mem40_MFCC_10   593 non-null    float64\n",
            " 14  Mean_Acc1298_Mean_Mem40_MFCC_11   593 non-null    float64\n",
            " 15  Mean_Acc1298_Mean_Mem40_MFCC_12   593 non-null    float64\n",
            " 16  Mean_Acc1298_Std_Mem40_Centroid   593 non-null    float64\n",
            " 17  Mean_Acc1298_Std_Mem40_Rolloff    593 non-null    float64\n",
            " 18  Mean_Acc1298_Std_Mem40_Flux       593 non-null    float64\n",
            " 19  Mean_Acc1298_Std_Mem40_MFCC_0     593 non-null    float64\n",
            " 20  Mean_Acc1298_Std_Mem40_MFCC_1     593 non-null    float64\n",
            " 21  Mean_Acc1298_Std_Mem40_MFCC_2     593 non-null    float64\n",
            " 22  Mean_Acc1298_Std_Mem40_MFCC_3     593 non-null    float64\n",
            " 23  Mean_Acc1298_Std_Mem40_MFCC_4     593 non-null    float64\n",
            " 24  Mean_Acc1298_Std_Mem40_MFCC_5     593 non-null    float64\n",
            " 25  Mean_Acc1298_Std_Mem40_MFCC_6     593 non-null    float64\n",
            " 26  Mean_Acc1298_Std_Mem40_MFCC_7     593 non-null    float64\n",
            " 27  Mean_Acc1298_Std_Mem40_MFCC_8     593 non-null    float64\n",
            " 28  Mean_Acc1298_Std_Mem40_MFCC_9     593 non-null    float64\n",
            " 29  Mean_Acc1298_Std_Mem40_MFCC_10    593 non-null    float64\n",
            " 30  Mean_Acc1298_Std_Mem40_MFCC_11    593 non-null    float64\n",
            " 31  Mean_Acc1298_Std_Mem40_MFCC_12    593 non-null    float64\n",
            " 32  Std_Acc1298_Mean_Mem40_Centroid   593 non-null    float64\n",
            " 33  Std_Acc1298_Mean_Mem40_Rolloff    593 non-null    float64\n",
            " 34  Std_Acc1298_Mean_Mem40_Flux       593 non-null    float64\n",
            " 35  Std_Acc1298_Mean_Mem40_MFCC_0     593 non-null    float64\n",
            " 36  Std_Acc1298_Mean_Mem40_MFCC_1     593 non-null    float64\n",
            " 37  Std_Acc1298_Mean_Mem40_MFCC_2     593 non-null    float64\n",
            " 38  Std_Acc1298_Mean_Mem40_MFCC_3     593 non-null    float64\n",
            " 39  Std_Acc1298_Mean_Mem40_MFCC_4     593 non-null    float64\n",
            " 40  Std_Acc1298_Mean_Mem40_MFCC_5     593 non-null    float64\n",
            " 41  Std_Acc1298_Mean_Mem40_MFCC_6     593 non-null    float64\n",
            " 42  Std_Acc1298_Mean_Mem40_MFCC_7     593 non-null    float64\n",
            " 43  Std_Acc1298_Mean_Mem40_MFCC_8     593 non-null    float64\n",
            " 44  Std_Acc1298_Mean_Mem40_MFCC_9     593 non-null    float64\n",
            " 45  Std_Acc1298_Mean_Mem40_MFCC_10    593 non-null    float64\n",
            " 46  Std_Acc1298_Mean_Mem40_MFCC_11    593 non-null    float64\n",
            " 47  Std_Acc1298_Mean_Mem40_MFCC_12    593 non-null    float64\n",
            " 48  Std_Acc1298_Std_Mem40_Centroid    593 non-null    float64\n",
            " 49  Std_Acc1298_Std_Mem40_Rolloff     593 non-null    float64\n",
            " 50  Std_Acc1298_Std_Mem40_Flux        593 non-null    float64\n",
            " 51  Std_Acc1298_Std_Mem40_MFCC_0      593 non-null    float64\n",
            " 52  Std_Acc1298_Std_Mem40_MFCC_1      593 non-null    float64\n",
            " 53  Std_Acc1298_Std_Mem40_MFCC_2      593 non-null    float64\n",
            " 54  Std_Acc1298_Std_Mem40_MFCC_3      593 non-null    float64\n",
            " 55  Std_Acc1298_Std_Mem40_MFCC_4      593 non-null    float64\n",
            " 56  Std_Acc1298_Std_Mem40_MFCC_5      593 non-null    float64\n",
            " 57  Std_Acc1298_Std_Mem40_MFCC_6      593 non-null    float64\n",
            " 58  Std_Acc1298_Std_Mem40_MFCC_7      593 non-null    float64\n",
            " 59  Std_Acc1298_Std_Mem40_MFCC_8      593 non-null    float64\n",
            " 60  Std_Acc1298_Std_Mem40_MFCC_9      593 non-null    float64\n",
            " 61  Std_Acc1298_Std_Mem40_MFCC_10     593 non-null    float64\n",
            " 62  Std_Acc1298_Std_Mem40_MFCC_11     593 non-null    float64\n",
            " 63  Std_Acc1298_Std_Mem40_MFCC_12     593 non-null    float64\n",
            " 64  BH_LowPeakAmp                     593 non-null    float64\n",
            " 65  BH_LowPeakBPM                     593 non-null    float64\n",
            " 66  BH_HighPeakAmp                    593 non-null    float64\n",
            " 67  BH_HighPeakBPM                    593 non-null    float64\n",
            " 68  BH_HighLowRatio                   593 non-null    float64\n",
            " 69  BHSUM1                            593 non-null    float64\n",
            " 70  BHSUM2                            593 non-null    float64\n",
            " 71  BHSUM3                            593 non-null    float64\n",
            " 72  amazed-suprised                   593 non-null    int64  \n",
            " 73  happy-pleased                     593 non-null    int64  \n",
            " 74  relaxing-calm                     593 non-null    int64  \n",
            " 75  quiet-still                       593 non-null    int64  \n",
            " 76  sad-lonely                        593 non-null    int64  \n",
            " 77  angry-aggresive                   593 non-null    int64  \n",
            "dtypes: float64(72), int64(6)\n",
            "memory usage: 361.5 KB\n"
          ]
        }
      ]
    },
    {
      "cell_type": "code",
      "execution_count": null,
      "metadata": {
        "id": "jN65h-J6qcaz"
      },
      "outputs": [],
      "source": [
        "# تعریف ویژگی‌ها (X) و برچسب (y)\n",
        "X = df.drop(columns=df.columns[-6:])\n",
        "y = df[df.columns[-6:]]"
      ]
    },
    {
      "cell_type": "code",
      "source": [
        "X.info()"
      ],
      "metadata": {
        "colab": {
          "base_uri": "https://localhost:8080/"
        },
        "id": "VQdYHvgtr_a5",
        "outputId": "59aadfe4-f8f3-406a-f34e-9865caae15e0"
      },
      "execution_count": null,
      "outputs": [
        {
          "output_type": "stream",
          "name": "stdout",
          "text": [
            "<class 'pandas.core.frame.DataFrame'>\n",
            "RangeIndex: 593 entries, 0 to 592\n",
            "Data columns (total 72 columns):\n",
            " #   Column                            Non-Null Count  Dtype  \n",
            "---  ------                            --------------  -----  \n",
            " 0   Mean_Acc1298_Mean_Mem40_Centroid  593 non-null    float64\n",
            " 1   Mean_Acc1298_Mean_Mem40_Rolloff   593 non-null    float64\n",
            " 2   Mean_Acc1298_Mean_Mem40_Flux      593 non-null    float64\n",
            " 3   Mean_Acc1298_Mean_Mem40_MFCC_0    593 non-null    float64\n",
            " 4   Mean_Acc1298_Mean_Mem40_MFCC_1    593 non-null    float64\n",
            " 5   Mean_Acc1298_Mean_Mem40_MFCC_2    593 non-null    float64\n",
            " 6   Mean_Acc1298_Mean_Mem40_MFCC_3    593 non-null    float64\n",
            " 7   Mean_Acc1298_Mean_Mem40_MFCC_4    593 non-null    float64\n",
            " 8   Mean_Acc1298_Mean_Mem40_MFCC_5    593 non-null    float64\n",
            " 9   Mean_Acc1298_Mean_Mem40_MFCC_6    593 non-null    float64\n",
            " 10  Mean_Acc1298_Mean_Mem40_MFCC_7    593 non-null    float64\n",
            " 11  Mean_Acc1298_Mean_Mem40_MFCC_8    593 non-null    float64\n",
            " 12  Mean_Acc1298_Mean_Mem40_MFCC_9    593 non-null    float64\n",
            " 13  Mean_Acc1298_Mean_Mem40_MFCC_10   593 non-null    float64\n",
            " 14  Mean_Acc1298_Mean_Mem40_MFCC_11   593 non-null    float64\n",
            " 15  Mean_Acc1298_Mean_Mem40_MFCC_12   593 non-null    float64\n",
            " 16  Mean_Acc1298_Std_Mem40_Centroid   593 non-null    float64\n",
            " 17  Mean_Acc1298_Std_Mem40_Rolloff    593 non-null    float64\n",
            " 18  Mean_Acc1298_Std_Mem40_Flux       593 non-null    float64\n",
            " 19  Mean_Acc1298_Std_Mem40_MFCC_0     593 non-null    float64\n",
            " 20  Mean_Acc1298_Std_Mem40_MFCC_1     593 non-null    float64\n",
            " 21  Mean_Acc1298_Std_Mem40_MFCC_2     593 non-null    float64\n",
            " 22  Mean_Acc1298_Std_Mem40_MFCC_3     593 non-null    float64\n",
            " 23  Mean_Acc1298_Std_Mem40_MFCC_4     593 non-null    float64\n",
            " 24  Mean_Acc1298_Std_Mem40_MFCC_5     593 non-null    float64\n",
            " 25  Mean_Acc1298_Std_Mem40_MFCC_6     593 non-null    float64\n",
            " 26  Mean_Acc1298_Std_Mem40_MFCC_7     593 non-null    float64\n",
            " 27  Mean_Acc1298_Std_Mem40_MFCC_8     593 non-null    float64\n",
            " 28  Mean_Acc1298_Std_Mem40_MFCC_9     593 non-null    float64\n",
            " 29  Mean_Acc1298_Std_Mem40_MFCC_10    593 non-null    float64\n",
            " 30  Mean_Acc1298_Std_Mem40_MFCC_11    593 non-null    float64\n",
            " 31  Mean_Acc1298_Std_Mem40_MFCC_12    593 non-null    float64\n",
            " 32  Std_Acc1298_Mean_Mem40_Centroid   593 non-null    float64\n",
            " 33  Std_Acc1298_Mean_Mem40_Rolloff    593 non-null    float64\n",
            " 34  Std_Acc1298_Mean_Mem40_Flux       593 non-null    float64\n",
            " 35  Std_Acc1298_Mean_Mem40_MFCC_0     593 non-null    float64\n",
            " 36  Std_Acc1298_Mean_Mem40_MFCC_1     593 non-null    float64\n",
            " 37  Std_Acc1298_Mean_Mem40_MFCC_2     593 non-null    float64\n",
            " 38  Std_Acc1298_Mean_Mem40_MFCC_3     593 non-null    float64\n",
            " 39  Std_Acc1298_Mean_Mem40_MFCC_4     593 non-null    float64\n",
            " 40  Std_Acc1298_Mean_Mem40_MFCC_5     593 non-null    float64\n",
            " 41  Std_Acc1298_Mean_Mem40_MFCC_6     593 non-null    float64\n",
            " 42  Std_Acc1298_Mean_Mem40_MFCC_7     593 non-null    float64\n",
            " 43  Std_Acc1298_Mean_Mem40_MFCC_8     593 non-null    float64\n",
            " 44  Std_Acc1298_Mean_Mem40_MFCC_9     593 non-null    float64\n",
            " 45  Std_Acc1298_Mean_Mem40_MFCC_10    593 non-null    float64\n",
            " 46  Std_Acc1298_Mean_Mem40_MFCC_11    593 non-null    float64\n",
            " 47  Std_Acc1298_Mean_Mem40_MFCC_12    593 non-null    float64\n",
            " 48  Std_Acc1298_Std_Mem40_Centroid    593 non-null    float64\n",
            " 49  Std_Acc1298_Std_Mem40_Rolloff     593 non-null    float64\n",
            " 50  Std_Acc1298_Std_Mem40_Flux        593 non-null    float64\n",
            " 51  Std_Acc1298_Std_Mem40_MFCC_0      593 non-null    float64\n",
            " 52  Std_Acc1298_Std_Mem40_MFCC_1      593 non-null    float64\n",
            " 53  Std_Acc1298_Std_Mem40_MFCC_2      593 non-null    float64\n",
            " 54  Std_Acc1298_Std_Mem40_MFCC_3      593 non-null    float64\n",
            " 55  Std_Acc1298_Std_Mem40_MFCC_4      593 non-null    float64\n",
            " 56  Std_Acc1298_Std_Mem40_MFCC_5      593 non-null    float64\n",
            " 57  Std_Acc1298_Std_Mem40_MFCC_6      593 non-null    float64\n",
            " 58  Std_Acc1298_Std_Mem40_MFCC_7      593 non-null    float64\n",
            " 59  Std_Acc1298_Std_Mem40_MFCC_8      593 non-null    float64\n",
            " 60  Std_Acc1298_Std_Mem40_MFCC_9      593 non-null    float64\n",
            " 61  Std_Acc1298_Std_Mem40_MFCC_10     593 non-null    float64\n",
            " 62  Std_Acc1298_Std_Mem40_MFCC_11     593 non-null    float64\n",
            " 63  Std_Acc1298_Std_Mem40_MFCC_12     593 non-null    float64\n",
            " 64  BH_LowPeakAmp                     593 non-null    float64\n",
            " 65  BH_LowPeakBPM                     593 non-null    float64\n",
            " 66  BH_HighPeakAmp                    593 non-null    float64\n",
            " 67  BH_HighPeakBPM                    593 non-null    float64\n",
            " 68  BH_HighLowRatio                   593 non-null    float64\n",
            " 69  BHSUM1                            593 non-null    float64\n",
            " 70  BHSUM2                            593 non-null    float64\n",
            " 71  BHSUM3                            593 non-null    float64\n",
            "dtypes: float64(72)\n",
            "memory usage: 333.7 KB\n"
          ]
        }
      ]
    },
    {
      "cell_type": "code",
      "source": [
        "y.info()"
      ],
      "metadata": {
        "colab": {
          "base_uri": "https://localhost:8080/"
        },
        "id": "RsBNzBVtsNLe",
        "outputId": "48bf4de2-aa99-4dbb-df10-67a0c73147db"
      },
      "execution_count": null,
      "outputs": [
        {
          "output_type": "stream",
          "name": "stdout",
          "text": [
            "<class 'pandas.core.frame.DataFrame'>\n",
            "RangeIndex: 593 entries, 0 to 592\n",
            "Data columns (total 6 columns):\n",
            " #   Column           Non-Null Count  Dtype\n",
            "---  ------           --------------  -----\n",
            " 0   amazed-suprised  593 non-null    int64\n",
            " 1   happy-pleased    593 non-null    int64\n",
            " 2   relaxing-calm    593 non-null    int64\n",
            " 3   quiet-still      593 non-null    int64\n",
            " 4   sad-lonely       593 non-null    int64\n",
            " 5   angry-aggresive  593 non-null    int64\n",
            "dtypes: int64(6)\n",
            "memory usage: 27.9 KB\n"
          ]
        }
      ]
    },
    {
      "cell_type": "code",
      "source": [
        "y.shape"
      ],
      "metadata": {
        "colab": {
          "base_uri": "https://localhost:8080/"
        },
        "id": "mW4AikEsu-af",
        "outputId": "a7eb6c81-1c68-4241-bfb0-6e256bfa9e6f"
      },
      "execution_count": null,
      "outputs": [
        {
          "output_type": "execute_result",
          "data": {
            "text/plain": [
              "(593, 6)"
            ]
          },
          "metadata": {},
          "execution_count": 43
        }
      ]
    },
    {
      "cell_type": "code",
      "source": [
        "\n",
        "# تقسیم داده به مجموعه‌های آموزشی و آزمون (۸۰% آموزش - ۲۰% آزمون)\n",
        "X_train, X_test, y_train, y_test = train_test_split(X, y, test_size=0.2, random_state=42)\n",
        "X_train, X_test, y_train, y_test = train_test_split(X, y, test_size=0.2, random_state=42)"
      ],
      "metadata": {
        "id": "wuzInhnJsHPO"
      },
      "execution_count": null,
      "outputs": []
    },
    {
      "cell_type": "code",
      "source": [
        "\n",
        "# -------------------------------\n",
        "# پیاده‌سازی مدل RandomForest\n",
        "# -------------------------------\n",
        "rf_model = RandomForestClassifier(n_estimators=100, random_state=42)\n",
        "rf_model.fit(X_train, y_train)\n",
        "y_pred_rf = rf_model.predict(X_test)\n",
        "\n",
        "print(\"نتایج RandomForest:\")\n",
        "print(classification_report(y_test, y_pred_rf))\n",
        "print(\"دقت مدل RandomForest:\", accuracy_score(y_test, y_pred_rf))\n"
      ],
      "metadata": {
        "colab": {
          "base_uri": "https://localhost:8080/"
        },
        "id": "cSIxsA6Aq-j8",
        "outputId": "550c5fca-e295-4bb5-d3e9-bc29d89e4a4a"
      },
      "execution_count": null,
      "outputs": [
        {
          "output_type": "stream",
          "name": "stdout",
          "text": [
            "نتایج RandomForest:\n",
            "              precision    recall  f1-score   support\n",
            "\n",
            "           0       0.70      0.44      0.54        36\n",
            "           1       0.67      0.24      0.36        33\n",
            "           2       0.73      0.87      0.79        53\n",
            "           3       0.78      0.91      0.84        23\n",
            "           4       0.84      0.52      0.64        31\n",
            "           5       0.83      0.61      0.70        41\n",
            "\n",
            "   micro avg       0.76      0.61      0.68       217\n",
            "   macro avg       0.76      0.60      0.65       217\n",
            "weighted avg       0.76      0.61      0.65       217\n",
            " samples avg       0.68      0.60      0.61       217\n",
            "\n",
            "دقت مدل RandomForest: 0.31092436974789917\n"
          ]
        },
        {
          "output_type": "stream",
          "name": "stderr",
          "text": [
            "/usr/local/lib/python3.11/dist-packages/sklearn/metrics/_classification.py:1565: UndefinedMetricWarning: Precision is ill-defined and being set to 0.0 in samples with no predicted labels. Use `zero_division` parameter to control this behavior.\n",
            "  _warn_prf(average, modifier, f\"{metric.capitalize()} is\", len(result))\n"
          ]
        }
      ]
    },
    {
      "cell_type": "code",
      "source": [
        "\n",
        "# -------------------------------\n",
        "# پیاده‌سازی مدل XGBoost\n",
        "# -------------------------------\n",
        "xgb_model = XGBClassifier(use_label_encoder=False, eval_metric='mlogloss', random_state=42)\n",
        "xgb_model.fit(X_train, y_train)\n",
        "y_pred_xgb = xgb_model.predict(X_test)\n",
        "\n",
        "print(\"\\nنتایج XGBoost:\")\n",
        "print(classification_report(y_test, y_pred_xgb))\n",
        "print(\"دقت مدل XGBoost:\", accuracy_score(y_test, y_pred_xgb))\n"
      ],
      "metadata": {
        "colab": {
          "base_uri": "https://localhost:8080/"
        },
        "id": "e7dd4gV0r6n_",
        "outputId": "829dbaa0-a361-4e7a-f5ba-b1bbfe912936"
      },
      "execution_count": null,
      "outputs": [
        {
          "output_type": "stream",
          "name": "stderr",
          "text": [
            "/usr/local/lib/python3.11/dist-packages/xgboost/core.py:158: UserWarning: [14:25:43] WARNING: /workspace/src/learner.cc:740: \n",
            "Parameters: { \"use_label_encoder\" } are not used.\n",
            "\n",
            "  warnings.warn(smsg, UserWarning)\n"
          ]
        },
        {
          "output_type": "stream",
          "name": "stdout",
          "text": [
            "\n",
            "نتایج XGBoost:\n",
            "              precision    recall  f1-score   support\n",
            "\n",
            "           0       0.70      0.53      0.60        36\n",
            "           1       0.52      0.36      0.43        33\n",
            "           2       0.75      0.85      0.80        53\n",
            "           3       0.81      0.91      0.86        23\n",
            "           4       0.78      0.58      0.67        31\n",
            "           5       0.84      0.66      0.74        41\n",
            "\n",
            "   micro avg       0.74      0.65      0.70       217\n",
            "   macro avg       0.73      0.65      0.68       217\n",
            "weighted avg       0.74      0.65      0.69       217\n",
            " samples avg       0.68      0.66      0.64       217\n",
            "\n",
            "دقت مدل XGBoost: 0.31932773109243695\n"
          ]
        },
        {
          "output_type": "stream",
          "name": "stderr",
          "text": [
            "/usr/local/lib/python3.11/dist-packages/sklearn/metrics/_classification.py:1565: UndefinedMetricWarning: Precision is ill-defined and being set to 0.0 in samples with no predicted labels. Use `zero_division` parameter to control this behavior.\n",
            "  _warn_prf(average, modifier, f\"{metric.capitalize()} is\", len(result))\n"
          ]
        }
      ]
    },
    {
      "cell_type": "markdown",
      "source": [
        "# Optimization"
      ],
      "metadata": {
        "id": "_b2-cRaduxNC"
      }
    },
    {
      "cell_type": "code",
      "source": [
        "from sklearn.feature_selection import SelectKBest, chi2, mutual_info_classif\n",
        "from sklearn.preprocessing import MinMaxScaler\n",
        "\n",
        "# Scale the data to the range [0, 1] to ensure non-negativity\n",
        "scaler = MinMaxScaler()\n",
        "X_scaled = scaler.fit_transform(X)\n",
        "\n",
        "# انتخاب ۱۰ ویژگی برتر با تست آماری ANOVA\n",
        "selector = SelectKBest(score_func=chi2, k=10)\n",
        "X_new = selector.fit_transform(X_scaled, y)\n",
        "\n",
        "# نمایش امتیاز ویژگی‌ها\n",
        "feature_scores = pd.DataFrame({\"Feature\": X.columns, \"Score\": selector.scores_})\n",
        "print(feature_scores.sort_values(by=\"Score\", ascending=False))\n"
      ],
      "metadata": {
        "colab": {
          "base_uri": "https://localhost:8080/"
        },
        "id": "DJqGeyFAuzQK",
        "outputId": "a64f1b5a-1845-453d-8113-2fee47826f89"
      },
      "execution_count": null,
      "outputs": [
        {
          "output_type": "stream",
          "name": "stdout",
          "text": [
            "                            Feature      Score\n",
            "1   Mean_Acc1298_Mean_Mem40_Rolloff  41.916614\n",
            "17   Mean_Acc1298_Std_Mem40_Rolloff  39.723431\n",
            "66                   BH_HighPeakAmp  37.539203\n",
            "64                    BH_LowPeakAmp  32.839054\n",
            "4    Mean_Acc1298_Mean_Mem40_MFCC_1  30.423043\n",
            "..                              ...        ...\n",
            "15  Mean_Acc1298_Mean_Mem40_MFCC_12   0.320257\n",
            "34      Std_Acc1298_Mean_Mem40_Flux   0.252944\n",
            "13  Mean_Acc1298_Mean_Mem40_MFCC_10   0.230494\n",
            "68                  BH_HighLowRatio   0.073519\n",
            "50       Std_Acc1298_Std_Mem40_Flux   0.063706\n",
            "\n",
            "[72 rows x 2 columns]\n"
          ]
        }
      ]
    },
    {
      "cell_type": "code",
      "source": [
        "# Get the selected feature names\n",
        "selected_features = X.columns[selector.get_support()]\n",
        "selected_features"
      ],
      "metadata": {
        "colab": {
          "base_uri": "https://localhost:8080/"
        },
        "id": "W9-hY5R3u0-B",
        "outputId": "9214889e-330c-4458-cdcf-d7829640cb9f"
      },
      "execution_count": null,
      "outputs": [
        {
          "output_type": "execute_result",
          "data": {
            "text/plain": [
              "Index(['Mean_Acc1298_Mean_Mem40_Centroid', 'Mean_Acc1298_Mean_Mem40_Rolloff',\n",
              "       'Mean_Acc1298_Mean_Mem40_MFCC_1', 'Mean_Acc1298_Std_Mem40_Centroid',\n",
              "       'Mean_Acc1298_Std_Mem40_Rolloff', 'Std_Acc1298_Mean_Mem40_MFCC_11',\n",
              "       'Std_Acc1298_Std_Mem40_MFCC_10', 'BH_LowPeakAmp', 'BH_HighPeakAmp',\n",
              "       'BHSUM2'],\n",
              "      dtype='object')"
            ]
          },
          "metadata": {},
          "execution_count": 49
        }
      ]
    },
    {
      "cell_type": "code",
      "source": [
        "\n",
        "# Create new training and testing sets with selected features\n",
        "X_train_new = X_train[selected_features]\n",
        "X_test_new = X_test[selected_features]\n"
      ],
      "metadata": {
        "id": "P6h5njSBwKcC"
      },
      "execution_count": null,
      "outputs": []
    },
    {
      "cell_type": "code",
      "source": [
        "#  -------------------------------\n",
        "# RandomForest with selected features\n",
        "# -------------------------------\n",
        "rf_model = RandomForestClassifier(n_estimators=100, random_state=42)\n",
        "rf_model.fit(X_train_new, y_train)  # Train with selected features\n",
        "y_pred_rf = rf_model.predict(X_test_new)  # Predict with selected features\n",
        "\n",
        "print(\"نتایج RandomForest:\")\n",
        "print(classification_report(y_test, y_pred_rf))\n",
        "print(\"دقت مدل RandomForest:\", accuracy_score(y_test, y_pred_rf))"
      ],
      "metadata": {
        "colab": {
          "base_uri": "https://localhost:8080/"
        },
        "id": "SgWiQdYOwQjs",
        "outputId": "246d6462-5211-4830-9c36-99a81d6a44b3"
      },
      "execution_count": null,
      "outputs": [
        {
          "output_type": "stream",
          "name": "stdout",
          "text": [
            "نتایج RandomForest:\n",
            "              precision    recall  f1-score   support\n",
            "\n",
            "           0       0.65      0.36      0.46        36\n",
            "           1       0.58      0.21      0.31        33\n",
            "           2       0.72      0.77      0.75        53\n",
            "           3       0.70      0.91      0.79        23\n",
            "           4       0.77      0.55      0.64        31\n",
            "           5       0.69      0.54      0.60        41\n",
            "\n",
            "   micro avg       0.70      0.56      0.62       217\n",
            "   macro avg       0.69      0.56      0.59       217\n",
            "weighted avg       0.69      0.56      0.60       217\n",
            " samples avg       0.58      0.54      0.54       217\n",
            "\n",
            "دقت مدل RandomForest: 0.31932773109243695\n"
          ]
        },
        {
          "output_type": "stream",
          "name": "stderr",
          "text": [
            "/usr/local/lib/python3.11/dist-packages/sklearn/metrics/_classification.py:1565: UndefinedMetricWarning: Precision is ill-defined and being set to 0.0 in samples with no predicted labels. Use `zero_division` parameter to control this behavior.\n",
            "  _warn_prf(average, modifier, f\"{metric.capitalize()} is\", len(result))\n"
          ]
        }
      ]
    },
    {
      "cell_type": "code",
      "source": [
        "\n",
        "# -------------------------------\n",
        "# XGBoost with selected features\n",
        "# -------------------------------\n",
        "xgb_model = XGBClassifier(use_label_encoder=False, eval_metric='mlogloss', random_state=42)\n",
        "xgb_model.fit(X_train_new, y_train)  # Train with selected features\n",
        "y_pred_xgb = xgb_model.predict(X_test_new)  # Predict with selected features\n",
        "\n",
        "print(\"\\nنتایج XGBoost:\")\n",
        "print(classification_report(y_test, y_pred_xgb))\n",
        "print(\"دقت مدل XGBoost:\", accuracy_score(y_test, y_pred_xgb))"
      ],
      "metadata": {
        "colab": {
          "base_uri": "https://localhost:8080/"
        },
        "id": "5qQB7f2kwUkf",
        "outputId": "776c5e40-64c1-42f3-f9b4-4825dce5f052"
      },
      "execution_count": null,
      "outputs": [
        {
          "output_type": "stream",
          "name": "stderr",
          "text": [
            "/usr/local/lib/python3.11/dist-packages/xgboost/core.py:158: UserWarning: [14:41:47] WARNING: /workspace/src/learner.cc:740: \n",
            "Parameters: { \"use_label_encoder\" } are not used.\n",
            "\n",
            "  warnings.warn(smsg, UserWarning)\n"
          ]
        },
        {
          "output_type": "stream",
          "name": "stdout",
          "text": [
            "\n",
            "نتایج XGBoost:\n",
            "              precision    recall  f1-score   support\n",
            "\n",
            "           0       0.54      0.39      0.45        36\n",
            "           1       0.27      0.18      0.22        33\n",
            "           2       0.70      0.60      0.65        53\n",
            "           3       0.72      0.78      0.75        23\n",
            "           4       0.62      0.48      0.55        31\n",
            "           5       0.77      0.56      0.65        41\n",
            "\n",
            "   micro avg       0.62      0.50      0.55       217\n",
            "   macro avg       0.60      0.50      0.54       217\n",
            "weighted avg       0.61      0.50      0.55       217\n",
            " samples avg       0.55      0.48      0.49       217\n",
            "\n",
            "دقت مدل XGBoost: 0.17647058823529413\n"
          ]
        },
        {
          "output_type": "stream",
          "name": "stderr",
          "text": [
            "/usr/local/lib/python3.11/dist-packages/sklearn/metrics/_classification.py:1565: UndefinedMetricWarning: Precision is ill-defined and being set to 0.0 in samples with no predicted labels. Use `zero_division` parameter to control this behavior.\n",
            "  _warn_prf(average, modifier, f\"{metric.capitalize()} is\", len(result))\n"
          ]
        }
      ]
    },
    {
      "cell_type": "code",
      "source": [
        "from sklearn.ensemble import VotingClassifier\n",
        "from sklearn.multioutput import MultiOutputClassifier # import MultiOutputClassifier\n",
        "\n",
        "# Define your VotingClassifier as before\n",
        "ensemble_model = VotingClassifier(estimators=[\n",
        "    ('rf', RandomForestClassifier(n_estimators=200, random_state=42)),\n",
        "    ('xgb', XGBClassifier(use_label_encoder=False, eval_metric='mlogloss', random_state=42))\n",
        "], voting='soft')\n",
        "\n",
        "# Wrap your VotingClassifier with MultiOutputClassifier\n",
        "multi_output_classifier = MultiOutputClassifier(ensemble_model) # Create a MultiOutputClassifier instance\n",
        "\n",
        "# Fit the MultiOutputClassifier to your training data\n",
        "multi_output_classifier.fit(X_train, y_train) # Fit the MultiOutputClassifier\n",
        "\n",
        "# Now you can use the multi_output_classifier for predictions\n",
        "print(\"دقت مدل ترکیبی:\", accuracy_score(y_test, multi_output_classifier.predict(X_test))) # Make predictions using the multi_output_classifier"
      ],
      "metadata": {
        "colab": {
          "base_uri": "https://localhost:8080/"
        },
        "id": "JvelqGg4wTi3",
        "outputId": "921d13e6-dc09-4c61-9e8e-b76b49e8aca5"
      },
      "execution_count": null,
      "outputs": [
        {
          "output_type": "stream",
          "name": "stderr",
          "text": [
            "/usr/local/lib/python3.11/dist-packages/xgboost/core.py:158: UserWarning: [14:43:35] WARNING: /workspace/src/learner.cc:740: \n",
            "Parameters: { \"use_label_encoder\" } are not used.\n",
            "\n",
            "  warnings.warn(smsg, UserWarning)\n",
            "/usr/local/lib/python3.11/dist-packages/xgboost/core.py:158: UserWarning: [14:43:36] WARNING: /workspace/src/learner.cc:740: \n",
            "Parameters: { \"use_label_encoder\" } are not used.\n",
            "\n",
            "  warnings.warn(smsg, UserWarning)\n",
            "/usr/local/lib/python3.11/dist-packages/xgboost/core.py:158: UserWarning: [14:43:37] WARNING: /workspace/src/learner.cc:740: \n",
            "Parameters: { \"use_label_encoder\" } are not used.\n",
            "\n",
            "  warnings.warn(smsg, UserWarning)\n",
            "/usr/local/lib/python3.11/dist-packages/xgboost/core.py:158: UserWarning: [14:43:38] WARNING: /workspace/src/learner.cc:740: \n",
            "Parameters: { \"use_label_encoder\" } are not used.\n",
            "\n",
            "  warnings.warn(smsg, UserWarning)\n",
            "/usr/local/lib/python3.11/dist-packages/xgboost/core.py:158: UserWarning: [14:43:39] WARNING: /workspace/src/learner.cc:740: \n",
            "Parameters: { \"use_label_encoder\" } are not used.\n",
            "\n",
            "  warnings.warn(smsg, UserWarning)\n",
            "/usr/local/lib/python3.11/dist-packages/xgboost/core.py:158: UserWarning: [14:43:40] WARNING: /workspace/src/learner.cc:740: \n",
            "Parameters: { \"use_label_encoder\" } are not used.\n",
            "\n",
            "  warnings.warn(smsg, UserWarning)\n"
          ]
        },
        {
          "output_type": "stream",
          "name": "stdout",
          "text": [
            "دقت مدل ترکیبی: 0.36134453781512604\n"
          ]
        }
      ]
    }
  ]
}